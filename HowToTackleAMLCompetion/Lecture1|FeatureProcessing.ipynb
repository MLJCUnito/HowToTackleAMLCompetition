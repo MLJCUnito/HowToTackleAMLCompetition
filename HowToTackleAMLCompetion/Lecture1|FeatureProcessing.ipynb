{
  "nbformat": 4,
  "nbformat_minor": 0,
  "metadata": {
    "kernelspec": {
      "display_name": "Python 3",
      "language": "python",
      "name": "python3"
    },
    "language_info": {
      "codemirror_mode": {
        "name": "ipython",
        "version": 3
      },
      "file_extension": ".py",
      "mimetype": "text/x-python",
      "name": "python",
      "nbconvert_exporter": "python",
      "pygments_lexer": "ipython3",
      "version": "3.8.2"
    },
    "colab": {
      "name": "Lecture1|FeatureProcessing.ipynb",
      "provenance": [],
      "include_colab_link": true
    }
  },
  "cells": [
    {
      "cell_type": "markdown",
      "metadata": {
        "id": "view-in-github",
        "colab_type": "text"
      },
      "source": [
        "<a href=\"https://colab.research.google.com/github/MLJCUnito/ProjectX2020/blob/master/HowToTackleAMLCompetion/Lecture1%7CFeatureProcessing.ipynb\" target=\"_parent\"><img src=\"https://colab.research.google.com/assets/colab-badge.svg\" alt=\"Open In Colab\"/></a>"
      ]
    },
    {
      "cell_type": "markdown",
      "metadata": {
        "id": "2SFVvbTdQHl4",
        "colab_type": "text"
      },
      "source": [
        "# **Lecture 1: Feature Processing**\n",
        "(Author: Simone Azeglio, simone.azeglio@edu.unito.it)\n",
        "\n",
        "---\n",
        "---\n",
        "\n",
        "## **Overview**\n",
        "\n",
        "* [Practical Gradient Descent](#section1)\n",
        "    * [Macro, Meso, Micro-scale in Science](#section1.1)\n",
        "    * [Scaling in Data Science](#section1.2)\n",
        "    * [Preprocessing Data](#section1.3)\n",
        "\n",
        "* [Feature Engineering](#section2)\n",
        "    * [Feature Importance](#section2.0)\n",
        "    * [Feature Extraction](#section2.1)\n",
        "    * [Feature Selection](#section2.2)\n",
        "    * [Feature Construction](#section2.3)\n",
        "\n",
        "* [Discerning between different kinds of features](#section3)\n",
        "\n",
        "* [Handling missing values](#section4)\n",
        "\n",
        "---\n",
        "---\n",
        "\n",
        "<a id='section1'></a>\n",
        "## **Practical Gradient Descent**\n",
        "In this first part, we'd like to tell you about some practical tricks for making **gradient descent** work well, in particular, we're going to delve into feature scaling. As an introductory view, it seems reasonable to try to depict an intuition of the concept of *scale*. \n",
        "\n",
        "<a id='section1.1'></a>\n",
        "### **Macro, Meso, Micro-scale in Science**\n",
        "\n",
        "As scientists, we are well aware of the effects of using a specific measurement tool in order to characterize some quantity and describe reality. As an ideal example we consider the **length scale**. \n",
        "\n",
        "<img src=\"https://raw.githubusercontent.com/MLJCUnito/ProjectX2020/master/HowToTackleAMLCompetition/img/Lecture1/1.0.png\" width=\"500\" height=\"300\">\n",
        "\n",
        "We can identify three different points of view: *microscopic*, *mesoscopic* and *macroscopic*; which are intimately related to the adopted lenght scale. \n",
        "\n",
        "We usually deal with the *macroscopic scale* when the observer is in such a position (pretty far, in terms of distance), with respect to the object, that she/he can describe its global characteristics. Instead, we do refer to the *microscopic scale* when the observer is so close to the object that she/he can describe its atomistic details or elementary parts (e.g. molecules, atoms, quarks). Last but not least, we talk about *mesoscopic scale* everytime we are in between micro and macro. \n",
        "\n",
        "These definitions are deliberately vague, since delineating a precise and neat explanation would be higly difficult and complex, and it's actually far from our purposes. \n",
        "\n",
        "On the other side, this kind of introduction is quite useful, we should take a few minutes to think about the \"active\" role of the observer and about the fact that, to be honest, for every length scale, there's some specific theory, i.e. there's no global theory for a multi-scale description of some phenomenon. \n",
        "\n",
        "<a id='section1.2'></a>\n",
        "### **Scaling in Data Science**\n",
        "\n",
        "If our beloved observer (i.e. the scientist) has some kind of \"privilege\", i.e. choosing the right measurement tool, which is nothing but choosing the right scale in the description of some phenomenon, we can't really say the same for a data scientist. \n",
        "\n",
        "It's a sort of paradox, but a data scientist can't really deal with data retrieval most of the times. Because of that, a data scientist is often left alone in front of data, without even knowing from which measurement tool they're coming from. There's no way to interact with the length scale for example. \n",
        "\n",
        "Is there something that we can do about it? The only thing we can do is assuming that features are independent and scale these features in order to have something compatible from one to the other. This procedure is called **feature scaling**, and soon we'll understand why it is useful even for ML algorithms, such as gradient descent. \n",
        "\n",
        "<img src=\"https://raw.githubusercontent.com/MLJCUnito/ProjectX2020/master/HowToTackleAMLCompetition/img/Lecture1/1.1.png\" width=\"500\" height=\"300\">\n",
        "\n",
        "If you make sure that features are on similar scales, i.e. features take on similar range of values, then gradient descent can converge more quickly. \n",
        "\n",
        "More concretely, let's say we have a problem with two features where $x_1$ is the length of a football field and take values between $90$ (meters) and $115$ (meters) and $x_2$ is the radius of a ball which takes values between $10.5* 10^{-2}$ (meters) to $11.5* 10^{-2}$ (meters). If you plot the countours of the cost function $J(\\omega)$ then you might get something similar to the *left plot*, and because of these very skewed elliptical shape, if we run gradient descent on this cost function, it may end up taking a long time and oscillating back and forth before reaching the global minimum. \n",
        "\n",
        "In these settings, as stated previously, a useful thing to do is to scale the features. Generally, the idea is to get every feature into approximately a $-1$ to $+1$ range. By doing this, we get the *right plot*. In this way, you can find a much more direct path to the global minimum rather than taking a much more convoluted path where you're sort of trying to follow a very complicated trajectory. \n",
        "\n",
        "<a id='section1.3'></a>\n",
        "### **Preprocessing Data**\n",
        "ToDo: \n",
        "\n",
        "CODE\n",
        "\n",
        "---\n",
        "---\n",
        "\n",
        "<a id='section2'></a>\n",
        "## **Feature Engineering**\n",
        "\n",
        "The real deal is that nobody explicitly tells you what **feature engineering** is, in some way, you are expected to understand for yourself what are good features.\n",
        "\n",
        "<img src=\"https://raw.githubusercontent.com/MLJCUnito/ProjectX2020/master/HowToTackleAMLCompetition/img/Lecture1/1.2.jpg\" width=\"800\" height=\"250\">\n",
        "\n",
        "> Feature engineering is another topic which doesn’t seem to merit any review papers or books, or even chapters in books, but it is absolutely vital to ML success. […] Much of the success of machine learning is actually success in engineering features that a learner can understand. \n",
        "\n",
        ">*(Scott Locklin, in “Neglected machine learning ideas”)* \n",
        "\n",
        "Let's try to figure out what feature engineering is. \n",
        "\n",
        "In solving such problems, our goal is to get the best possible result from a model. In order to achieve that, we need to extract useful information and get the most from what we have. On one side, this includes getting the best possible result from the algorithms we are employing. On the other side, it also involves getting the most out of the available data. \n",
        "\n",
        "*How do we get the most out of our data for predictive modeling?* \n",
        "\n",
        "Feature engineering tries to find an answer to this question. \n",
        "\n",
        "> Actually, the success of all Machine Learning algorithms depends on how you present the data. \n",
        "\n",
        "> (*Mohammad Pezeshki, answer to “What are some general tips on feature selection and engineering that every data scientist should know?\"*)\n",
        "\n",
        "\n",
        "\n",
        "<a id='section2.0'></a>\n",
        "### **Feature Importance**\n",
        "Feature importance refers to a bunch of techniques that assign a score to input features based on how useful they are at predicting a target variable. These scores play an important role in predictive modeling, they usually provide useful insights into the dataset and the basis for dimensionality reduction and feature selection. \n",
        "\n",
        "Feature importance scores can be calculated both for regression and classification problems. \n",
        "\n",
        "These scores can be used in a range of situations, such as:\n",
        "* *Better understanding the data*: the relative scorse can highlight which features may be most relevant to the target, and on the other side, which are least relevant. This could be a useful notion for a domain expert and could be used as a basis for gathering more or different data. \n",
        "\n",
        "\n",
        "* *Better understanding a model*: inspecting the importance score provides insights into the specific model we're using and which features are the most important to the model when elaborating a prediction. \n",
        "\n",
        "\n",
        "* *Reducing the number of input features*: we can use the importance scores to select those features to delete (lowest score) and those to keep (highest scores). \n",
        "\n",
        "Now let's jot down a few lines of code in order to grasp this topic in a better way. \n",
        "\n",
        "\n",
        "\n",
        "\n",
        "**<ins> Check Scikit-Learn Version </ins>**\n"
      ]
    },
    {
      "cell_type": "code",
      "metadata": {
        "id": "089FvEc8QHl5",
        "colab_type": "code",
        "colab": {
          "base_uri": "https://localhost:8080/",
          "height": 35
        },
        "outputId": "9ea577c9-83c3-4e85-88a8-680c4a33271a"
      },
      "source": [
        "import sklearn\n",
        "print(sklearn.__version__)"
      ],
      "execution_count": 1,
      "outputs": [
        {
          "output_type": "stream",
          "text": [
            "0.22.2.post1\n"
          ],
          "name": "stdout"
        }
      ]
    },
    {
      "cell_type": "markdown",
      "metadata": {
        "id": "xFmSLA3SRUhn",
        "colab_type": "text"
      },
      "source": [
        "Now, in order to explore feature importance scores, we'll import a few test datasets directly from sklearn. \n",
        "\n",
        "**<ins>Classification Dataset</ins>**\n",
        "\n",
        "Easy peasy, we can use the [*make_classification()*](https://scikit-learn.org/stable/modules/generated/sklearn.datasets.make_classification.html) function to create a test binary classification dataset. \n",
        "\n",
        "We can specify the number of samples and the number of features, some of them are going to be informative and the remaining redundant. (*Tip*: you should fix the *random seed*, in this way you'll get a reproducible result)\n"
      ]
    },
    {
      "cell_type": "code",
      "metadata": {
        "id": "CchIfeKMSO_g",
        "colab_type": "code",
        "colab": {
          "base_uri": "https://localhost:8080/",
          "height": 35
        },
        "outputId": "a662a254-bf1d-43bd-9ef9-b818a524fc6a"
      },
      "source": [
        "# classification dataset\n",
        "from sklearn.datasets import make_classification\n",
        "# define dataset\n",
        "X_clf, y_clf = make_classification(n_samples=1000, n_features=15, n_informative=6, n_redundant=9, random_state=1)\n",
        "# summarize the dataset\n",
        "print(X.shape, y.shape)"
      ],
      "execution_count": 6,
      "outputs": [
        {
          "output_type": "stream",
          "text": [
            "(1000, 15) (1000,)\n"
          ],
          "name": "stdout"
        }
      ]
    },
    {
      "cell_type": "markdown",
      "metadata": {
        "id": "p9ZoNTa1SOVV",
        "colab_type": "text"
      },
      "source": [
        "**<ins>Regression Dataset</ins>**\n",
        "\n",
        "In a parallel fashion, we'll use the [*make_regression()*](https://machinelearningmastery.com/calculate-feature-importance-with-python/#:~:text=Feature%20importance%20refers%20to%20techniques,at%20predicting%20a%20target%20variable.) function to create a regression dataset. "
      ]
    },
    {
      "cell_type": "code",
      "metadata": {
        "id": "JlC9R4MOTkYD",
        "colab_type": "code",
        "colab": {
          "base_uri": "https://localhost:8080/",
          "height": 35
        },
        "outputId": "59ad0529-116f-4168-f64a-35c846cc4d5a"
      },
      "source": [
        "# test regression dataset\n",
        "from sklearn.datasets import make_regression\n",
        "# define dataset\n",
        "X_reg, y_reg = make_regression(n_samples=1000, n_features=15, n_informative=6, random_state=1)\n",
        "# summarize the dataset\n",
        "print(X.shape, y.shape)"
      ],
      "execution_count": 8,
      "outputs": [
        {
          "output_type": "stream",
          "text": [
            "(1000, 15) (1000,)\n"
          ],
          "name": "stdout"
        }
      ]
    },
    {
      "cell_type": "markdown",
      "metadata": {
        "id": "nZ9hLi-7VZim",
        "colab_type": "text"
      },
      "source": [
        "### Coefficients as Feature Importance \n",
        "\n",
        "When we think about linear machine learning algorithms, we always fit a model where the prediction is the weighted sum of the input values (e.g. linear regression, logistic regression, ridge regression etc..) \n",
        "\n",
        "These coefficients can be used directly as naive feature importance scores. Firstly we'll fit a model on the dataset to find the coefficients, then summarize the importance scores for each input feature and create a bar chart to get an idea of the relative importance. \n",
        "\n",
        "<ins>**Linear Regression Feature Importance**</ins>\n",
        "\n",
        "It's time to fit a [*LinearRegression()*](https://scikit-learn.org/stable/modules/generated/sklearn.linear_model.LinearRegression.html) model on the regression dataset and get the *coef_* property that conatins the coefficients. The only assumption is that the input variables have the same scale or have been scaled prior to fitting the model. \n",
        "\n",
        "This same approach can be used with regularized linear models, such as Ridge and ElasticNet. \n"
      ]
    },
    {
      "cell_type": "code",
      "metadata": {
        "id": "ko_JB14wXLrC",
        "colab_type": "code",
        "colab": {
          "base_uri": "https://localhost:8080/",
          "height": 633
        },
        "outputId": "6782b440-fc04-417a-9980-7757fd7b63d2"
      },
      "source": [
        "# linear regression feature importance\n",
        "from sklearn.linear_model import LinearRegression\n",
        "from matplotlib import pyplot as plt \n",
        "# define the model\n",
        "model = LinearRegression()\n",
        "# fit the model\n",
        "model.fit(X_reg, y_reg)\n",
        "# get importance\n",
        "importance = model.coef_\n",
        "# summarize feature importance\n",
        "for i,v in enumerate(importance):\n",
        "\tprint('Feature: %0d, Score: %.5f' % (i,v))\n",
        "# plot feature importance\n",
        "plt.figure(figsize = (10,6))\n",
        "plt.bar([x for x in range(len(importance))], importance)\n",
        "plt.show()"
      ],
      "execution_count": 10,
      "outputs": [
        {
          "output_type": "stream",
          "text": [
            "Feature: 0, Score: 26.41417\n",
            "Feature: 1, Score: -0.00000\n",
            "Feature: 2, Score: 70.90040\n",
            "Feature: 3, Score: 0.00000\n",
            "Feature: 4, Score: 62.16242\n",
            "Feature: 5, Score: -0.00000\n",
            "Feature: 6, Score: -0.00000\n",
            "Feature: 7, Score: 3.66728\n",
            "Feature: 8, Score: 0.00000\n",
            "Feature: 9, Score: 0.00000\n",
            "Feature: 10, Score: 0.00000\n",
            "Feature: 11, Score: -0.00000\n",
            "Feature: 12, Score: 68.99048\n",
            "Feature: 13, Score: 25.57761\n",
            "Feature: 14, Score: 0.00000\n"
          ],
          "name": "stdout"
        },
        {
          "output_type": "display_data",
          "data": {
            "image/png": "[encoded data removed]",
            "text/plain": [
              "<Figure size 720x432 with 1 Axes>"
            ]
          },
          "metadata": {
            "tags": [],
            "needs_background": "light"
          }
        }
      ]
    },
    {
      "cell_type": "markdown",
      "metadata": {
        "id": "di-9BNGJY7mU",
        "colab_type": "text"
      },
      "source": [
        "<ins>**Logistic Regression Feature Importance**</ins>\n",
        "\n",
        "In a similar fashion, we can do the same to fit a [*LogisticRegression()*](https://scikit-learn.org/stable/modules/generated/sklearn.linear_model.LogisticRegression.html) model. "
      ]
    },
    {
      "cell_type": "code",
      "metadata": {
        "id": "LS4mefGrZgei",
        "colab_type": "code",
        "colab": {
          "base_uri": "https://localhost:8080/",
          "height": 524
        },
        "outputId": "6c3bcafb-4128-49cf-ebb6-da21073c8523"
      },
      "source": [
        "# logistic regression for feature importance\n",
        "from sklearn.linear_model import LogisticRegression\n",
        "from matplotlib import pyplot as plt\n",
        "# define the model\n",
        "model = LogisticRegression()\n",
        "# fit the model\n",
        "model.fit(X_clf, y_clf)\n",
        "# get importance\n",
        "importance = model.coef_[0]\n",
        "# summarize feature importance\n",
        "for i,v in enumerate(importance):\n",
        "\tprint('Feature: %0d, Score: %.5f' % (i,v))\n",
        "# plot feature importance\n",
        "plt.bar([x for x in range(len(importance))], importance)\n",
        "plt.show()"
      ],
      "execution_count": 12,
      "outputs": [
        {
          "output_type": "stream",
          "text": [
            "Feature: 0, Score: -0.47207\n",
            "Feature: 1, Score: 0.15415\n",
            "Feature: 2, Score: -0.11580\n",
            "Feature: 3, Score: 0.08169\n",
            "Feature: 4, Score: 0.22694\n",
            "Feature: 5, Score: 0.03438\n",
            "Feature: 6, Score: 0.12977\n",
            "Feature: 7, Score: -0.03683\n",
            "Feature: 8, Score: 0.72793\n",
            "Feature: 9, Score: 0.49874\n",
            "Feature: 10, Score: 0.17051\n",
            "Feature: 11, Score: 0.26644\n",
            "Feature: 12, Score: -0.16955\n",
            "Feature: 13, Score: 0.29474\n",
            "Feature: 14, Score: -0.02333\n"
          ],
          "name": "stdout"
        },
        {
          "output_type": "display_data",
          "data": {
            "image/png": "[encoded data removed]",
            "text/plain": [
              "<Figure size 432x288 with 1 Axes>"
            ]
          },
          "metadata": {
            "tags": [],
            "needs_background": "light"
          }
        }
      ]
    },
    {
      "cell_type": "markdown",
      "metadata": {
        "id": "b32qQh04axsK",
        "colab_type": "text"
      },
      "source": [
        "Recall that this is a classification problem with classes 0 and 1 (binary). Notice that the coefficients are both positive and negative, positive scores indicate a feature that predicts class 1 while negative scores indicate a feature that predicts class 0. \n",
        "\n",
        "*Why can't we analyze a regression problem with Logistic Regression?*\n",
        "\n",
        "### Decision Tree Feature Importance\n",
        "\n",
        "Decision Tree algorithms like **C**lassification **A**nd **R**egression **T**rees (**CART**) offer importance scores based on the reduction in the criterion used to select split points, like Gini or Entropy. This approach can be also used for ensembles of decision trees, such as Random Forest and Gradient Boositng algorithms. \n",
        "\n",
        "We can directly use the CART algorithm for feature importance implemented in Scikit-Learn as the [*DecisionTreeRegressor*](https://scikit-learn.org/stable/modules/generated/sklearn.tree.DecisionTreeRegressor.html) and [*DecisionTreeClassifier*](https://scikit-learn.org/stable/modules/generated/sklearn.tree.DecisionTreeClassifier.html). \n",
        "\n",
        "The model provides a *feature_importances_* property that tells us the relative importance scores for each feature. \n",
        "\n",
        "<ins>**CART Regression Feature Importance**</ins>\n"
      ]
    },
    {
      "cell_type": "code",
      "metadata": {
        "id": "yEI54ffFft7n",
        "colab_type": "code",
        "colab": {
          "base_uri": "https://localhost:8080/",
          "height": 524
        },
        "outputId": "3ab3394a-a4fb-4674-f00d-1ef3751607a3"
      },
      "source": [
        "# decision tree for feature importance on a regression problem\n",
        "from sklearn.tree import DecisionTreeRegressor\n",
        "from matplotlib import pyplot as plt\n",
        "# define the model\n",
        "model = DecisionTreeRegressor()\n",
        "# fit the model\n",
        "model.fit(X_reg, y_reg)\n",
        "# get importance\n",
        "importance = model.feature_importances_\n",
        "# summarize feature importance\n",
        "for i,v in enumerate(importance):\n",
        "\tprint('Feature: %0d, Score: %.5f' % (i,v))\n",
        "# plot feature importance\n",
        "plt.bar([x for x in range(len(importance))], importance)\n",
        "plt.show()"
      ],
      "execution_count": 13,
      "outputs": [
        {
          "output_type": "stream",
          "text": [
            "Feature: 0, Score: 0.03715\n",
            "Feature: 1, Score: 0.00418\n",
            "Feature: 2, Score: 0.40308\n",
            "Feature: 3, Score: 0.00376\n",
            "Feature: 4, Score: 0.24212\n",
            "Feature: 5, Score: 0.00341\n",
            "Feature: 6, Score: 0.01024\n",
            "Feature: 7, Score: 0.00401\n",
            "Feature: 8, Score: 0.00368\n",
            "Feature: 9, Score: 0.00262\n",
            "Feature: 10, Score: 0.00430\n",
            "Feature: 11, Score: 0.00513\n",
            "Feature: 12, Score: 0.25373\n",
            "Feature: 13, Score: 0.01813\n",
            "Feature: 14, Score: 0.00446\n"
          ],
          "name": "stdout"
        },
        {
          "output_type": "display_data",
          "data": {
            "image/png": "[encoded data removed]",
            "text/plain": [
              "<Figure size 432x288 with 1 Axes>"
            ]
          },
          "metadata": {
            "tags": [],
            "needs_background": "light"
          }
        }
      ]
    },
    {
      "cell_type": "markdown",
      "metadata": {
        "id": "BADfg2mfhEFX",
        "colab_type": "text"
      },
      "source": [
        "\n",
        "<ins>**CART Classification Feature Importance**</ins>"
      ]
    },
    {
      "cell_type": "markdown",
      "metadata": {
        "id": "lfhV-Dr7QHl9",
        "colab_type": "text"
      },
      "source": [
        "<a id='section2.1'></a>\n",
        "### **Feature Extraction**\n",
        "\n",
        "<a id='section2.2'></a>\n",
        "### **Feature Selection**\n",
        "\n",
        "<a id='section2.3'></a>\n",
        "### **Feature Construction**\n",
        "\n",
        "<a id='section3'></a>\n",
        "## **Discerning between different kinds of features**\n",
        "\n",
        "<a id='section4'></a>\n",
        "## **Handling missing values**"
      ]
    },
    {
      "cell_type": "code",
      "metadata": {
        "id": "5WJ5zWTYQHl9",
        "colab_type": "code",
        "colab": {}
      },
      "source": [
        ""
      ],
      "execution_count": null,
      "outputs": []
    }
  ]
}