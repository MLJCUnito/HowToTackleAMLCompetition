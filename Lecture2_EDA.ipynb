{
 "cells": [
  {
   "cell_type": "markdown",
   "metadata": {},
   "source": [
    "# What is the Exploratory Data Analysis (EDA)? \n",
    " \n",
    "`What you should do when a new, unknown dataset is given.`\n",
    "\n",
    "Here we are going to review the most important techniques in order to perform a successful exploration of data. If you get meaningful insights, it often means that you even have a good advantage over other competitors. If the intuition about data contnent is clear it will be easier to develop appropriate hypotesis with which buil a competitive model. A good EDA can help you to decide in which way you should spent more or less time in preprocessing, modeling ecc.."
   ]
  },
  {
   "cell_type": "markdown",
   "metadata": {},
   "source": [
    "One important conterpart is data visualization. If there is a pattern in the data it can be found, with some good luck, with an appropriate visualization. Here we will show a few visualization tecniques, EDA oriented. It means that those visualization will be mid-quality but very easy to implement."
   ]
  },
  {
   "cell_type": "markdown",
   "metadata": {},
   "source": [
    "Usually, we don't need to go too deep inside the competition subject but it's preferable to understand what our aim is, what data we have, and how people usually build a baseline.\n",
    "\n",
    "Given a problem which you know nothing about a good strategy is to make up our mind and know what we should do. Mostly, we don't need to know that much about the topic. Just a couple of tips: \n",
    "\n",
    "1. search other people solution to similar problems\n",
    "2. googling and searching on wikipedia, to get the features meaning"
   ]
  },
  {
   "cell_type": "markdown",
   "metadata": {},
   "source": [
    "## Notebook structure:\n",
    "\n",
    "The notebook is divided in three part, one for each case study.\n",
    "\n",
    "1. Is the number of our feature manageable? If the answer is yes we can prceed with some plot like histograms and scatterplot. Furthermore we can create some new features from scratch and understand something more about dataset structure. \n",
    "\n",
    "2. Here we will do some as dirty as useful work. If data are anonymized (or, more technically speaking, encoded) how can we decode them? Can we understand if there are more important features than other?\n",
    "\n",
    "3. Some good practices, that will help you to improve the quality of your dataset. "
   ]
  },
  {
   "cell_type": "markdown",
   "metadata": {},
   "source": [
    "## Disclaimer\n",
    "\n",
    "Keep in mind that EDA is not a straight procedure. You will never be given a recipe or a list of steps to follow. Here we are in the realm of intuition and the reader should interpretate this notebook as a collection of tips, tecniques, good practices.\n",
    "\n",
    "Some lines of code are not extensively explained and some arguments may seem dead leaf.. they are suggestions and is up to you to devlop what you may fin interesting. \n",
    "\n",
    "We strongly ancourage to use your creativity!"
   ]
  },
  {
   "cell_type": "markdown",
   "metadata": {},
   "source": [
    "# LET'S START: CASE STUDY 1"
   ]
  },
  {
   "cell_type": "markdown",
   "metadata": {},
   "source": [
    "You will never use just one library, but rather a combination multiple libraries.\n",
    "Be bright, and develop your intuition about how to combine at least the most famous python libraries.\n",
    "\n",
    "We are going to extensively use *Pandas*. If you would like to do a brief recap of *Pandas* basic functions see:\n",
    "\n",
    "- https://pandas.pydata.org/docs/getting_started/intro_tutorials/index.html\n",
    "- https://www.geeksforgeeks.org/introduction-to-pandas-in-python/\n",
    "- https://www.geeksforgeeks.org/python-pandas-series/\n",
    "- https://www.geeksforgeeks.org/python-pandas-dataframe/"
   ]
  },
  {
   "cell_type": "code",
   "execution_count": 1,
   "metadata": {},
   "outputs": [],
   "source": [
    "import pandas as pd\n",
    "import numpy as np\n",
    "import matplotlib.pyplot as plt\n",
    "import os\n",
    "import seaborn as sns\n",
    "\n",
    "%matplotlib inline"
   ]
  },
  {
   "cell_type": "markdown",
   "metadata": {},
   "source": [
    "Here we set an environment variable, path that will tel the computer where data are stored.\n",
    "\n",
    "Train and test are stored as variables through two pandas objects, namely dataframes."
   ]
  },
  {
   "cell_type": "code",
   "execution_count": 77,
   "metadata": {},
   "outputs": [],
   "source": [
    "# !wget https://www.kaggle.com/fayomi/advertising/download"
   ]
  },
  {
   "cell_type": "code",
   "execution_count": 41,
   "metadata": {},
   "outputs": [],
   "source": [
    "# ex my path was ---> '/home/jacopo/Desktop/MLJC/PROX/data'\n",
    "DATA_FOLDER = # your path here\n",
    "adv = pd.read_csv(os.path.join(DATA_FOLDER, 'advertising.csv'))"
   ]
  },
  {
   "cell_type": "markdown",
   "metadata": {},
   "source": [
    "Let's give a look at the data, and check what the main features are.\n",
    "This step may be very helpful, because if we already know the research field features are about we could start to figure out how to go on with our analysis. It often useful to give to the same question different answers ie understand different commands can help us to solve tha same problem. Maybe, sometimes further, this little differencies in the output will be helpful!\n",
    "\n",
    "What can we expect to see when exploring the basic features of a dataframe?\n",
    "How many entries are there in the dataset?\n",
    "Which features are contained?"
   ]
  },
  {
   "cell_type": "code",
   "execution_count": 42,
   "metadata": {},
   "outputs": [
    {
     "name": "stdout",
     "output_type": "stream",
     "text": [
      "If the dataframe were a matrix, how many rows and columns would have? (1000, 10)\n",
      "\n",
      " *  *  *  *  *  *  *  *  *  *  *  *  *  *  *  *  *  *  *  *  *  *  *  *  *  *  *  *  *  *   \n",
      "\n",
      "How long the dataset is? \n",
      " RangeIndex(start=0, stop=1000, step=1)\n",
      "\n",
      " *  *  *  *  *  *  *  *  *  *  *  *  *  *  *  *  *  *  *  *  *  *  *  *  *  *  *  *  *  *   \n",
      "\n",
      " Index(['Daily Time Spent on Site', 'Age', 'Area Income',\n",
      "       'Daily Internet Usage', 'Ad Topic Line', 'City', 'Male', 'Country',\n",
      "       'Timestamp', 'Clicked on Ad'],\n",
      "      dtype='object')\n",
      "\n",
      " *  *  *  *  *  *  *  *  *  *  *  *  *  *  *  *  *  *  *  *  *  *  *  *  *  *  *  *  *  *   \n",
      "\n",
      "Daily Time Spent on Site    float64\n",
      "Age                           int64\n",
      "Area Income                 float64\n",
      "Daily Internet Usage        float64\n",
      "Ad Topic Line                object\n",
      "City                         object\n",
      "Male                          int64\n",
      "Country                      object\n",
      "Timestamp                    object\n",
      "Clicked on Ad                 int64\n",
      "dtype: object\n"
     ]
    }
   ],
   "source": [
    "print(\"If the dataframe were a matrix, how many rows and columns would have?\",adv.shape)\n",
    "\n",
    "print('\\n',\"*  \"*30,'\\n')\n",
    "\n",
    "print(\"How long the dataset is? \\n\",adv.index)\n",
    "\n",
    "print('\\n',\"*  \"*30,'\\n')\n",
    "\n",
    "print(\"\",adv.columns)\n",
    "\n",
    "print('\\n',\"*  \"*30,'\\n')\n",
    "\n",
    "print(adv.dtypes)"
   ]
  },
  {
   "cell_type": "markdown",
   "metadata": {},
   "source": [
    "We can have easier access, in the format `dataframe.featurename` if we slightly change the column names removing all the spaces in their nam"
   ]
  },
  {
   "cell_type": "code",
   "execution_count": 43,
   "metadata": {},
   "outputs": [],
   "source": [
    "features = list(adv.columns)\n",
    "\n",
    "for f in features:\n",
    "    \n",
    "    phi = f.replace(' ','')\n",
    "    adv = adv.rename(columns = {f:phi})\n",
    "    "
   ]
  },
  {
   "cell_type": "markdown",
   "metadata": {},
   "source": [
    "The follwoing command just shows the first rows of our dataset. In the first column we have the features names. The remaining columns are the entries of the dataset."
   ]
  },
  {
   "cell_type": "code",
   "execution_count": 44,
   "metadata": {},
   "outputs": [
    {
     "data": {
      "text/html": [
       "<div>\n",
       "<style scoped>\n",
       "    .dataframe tbody tr th:only-of-type {\n",
       "        vertical-align: middle;\n",
       "    }\n",
       "\n",
       "    .dataframe tbody tr th {\n",
       "        vertical-align: top;\n",
       "    }\n",
       "\n",
       "    .dataframe thead th {\n",
       "        text-align: right;\n",
       "    }\n",
       "</style>\n",
       "<table border=\"1\" class=\"dataframe\">\n",
       "  <thead>\n",
       "    <tr style=\"text-align: right;\">\n",
       "      <th></th>\n",
       "      <th>0</th>\n",
       "      <th>1</th>\n",
       "      <th>2</th>\n",
       "      <th>3</th>\n",
       "      <th>4</th>\n",
       "    </tr>\n",
       "  </thead>\n",
       "  <tbody>\n",
       "    <tr>\n",
       "      <td>DailyTimeSpentonSite</td>\n",
       "      <td>68.95</td>\n",
       "      <td>80.23</td>\n",
       "      <td>69.47</td>\n",
       "      <td>74.15</td>\n",
       "      <td>68.37</td>\n",
       "    </tr>\n",
       "    <tr>\n",
       "      <td>Age</td>\n",
       "      <td>35</td>\n",
       "      <td>31</td>\n",
       "      <td>26</td>\n",
       "      <td>29</td>\n",
       "      <td>35</td>\n",
       "    </tr>\n",
       "    <tr>\n",
       "      <td>AreaIncome</td>\n",
       "      <td>61833.9</td>\n",
       "      <td>68441.9</td>\n",
       "      <td>59785.9</td>\n",
       "      <td>54806.2</td>\n",
       "      <td>73890</td>\n",
       "    </tr>\n",
       "    <tr>\n",
       "      <td>DailyInternetUsage</td>\n",
       "      <td>256.09</td>\n",
       "      <td>193.77</td>\n",
       "      <td>236.5</td>\n",
       "      <td>245.89</td>\n",
       "      <td>225.58</td>\n",
       "    </tr>\n",
       "    <tr>\n",
       "      <td>AdTopicLine</td>\n",
       "      <td>Cloned 5thgeneration orchestration</td>\n",
       "      <td>Monitored national standardization</td>\n",
       "      <td>Organic bottom-line service-desk</td>\n",
       "      <td>Triple-buffered reciprocal time-frame</td>\n",
       "      <td>Robust logistical utilization</td>\n",
       "    </tr>\n",
       "    <tr>\n",
       "      <td>City</td>\n",
       "      <td>Wrightburgh</td>\n",
       "      <td>West Jodi</td>\n",
       "      <td>Davidton</td>\n",
       "      <td>West Terrifurt</td>\n",
       "      <td>South Manuel</td>\n",
       "    </tr>\n",
       "    <tr>\n",
       "      <td>Male</td>\n",
       "      <td>0</td>\n",
       "      <td>1</td>\n",
       "      <td>0</td>\n",
       "      <td>1</td>\n",
       "      <td>0</td>\n",
       "    </tr>\n",
       "    <tr>\n",
       "      <td>Country</td>\n",
       "      <td>Tunisia</td>\n",
       "      <td>Nauru</td>\n",
       "      <td>San Marino</td>\n",
       "      <td>Italy</td>\n",
       "      <td>Iceland</td>\n",
       "    </tr>\n",
       "    <tr>\n",
       "      <td>Timestamp</td>\n",
       "      <td>2016-03-27 00:53:11</td>\n",
       "      <td>2016-04-04 01:39:02</td>\n",
       "      <td>2016-03-13 20:35:42</td>\n",
       "      <td>2016-01-10 02:31:19</td>\n",
       "      <td>2016-06-03 03:36:18</td>\n",
       "    </tr>\n",
       "    <tr>\n",
       "      <td>ClickedonAd</td>\n",
       "      <td>0</td>\n",
       "      <td>0</td>\n",
       "      <td>0</td>\n",
       "      <td>0</td>\n",
       "      <td>0</td>\n",
       "    </tr>\n",
       "  </tbody>\n",
       "</table>\n",
       "</div>"
      ],
      "text/plain": [
       "                                                       0  \\\n",
       "DailyTimeSpentonSite                               68.95   \n",
       "Age                                                   35   \n",
       "AreaIncome                                       61833.9   \n",
       "DailyInternetUsage                                256.09   \n",
       "AdTopicLine           Cloned 5thgeneration orchestration   \n",
       "City                                         Wrightburgh   \n",
       "Male                                                   0   \n",
       "Country                                          Tunisia   \n",
       "Timestamp                            2016-03-27 00:53:11   \n",
       "ClickedonAd                                            0   \n",
       "\n",
       "                                                       1  \\\n",
       "DailyTimeSpentonSite                               80.23   \n",
       "Age                                                   31   \n",
       "AreaIncome                                       68441.9   \n",
       "DailyInternetUsage                                193.77   \n",
       "AdTopicLine           Monitored national standardization   \n",
       "City                                           West Jodi   \n",
       "Male                                                   1   \n",
       "Country                                            Nauru   \n",
       "Timestamp                            2016-04-04 01:39:02   \n",
       "ClickedonAd                                            0   \n",
       "\n",
       "                                                     2  \\\n",
       "DailyTimeSpentonSite                             69.47   \n",
       "Age                                                 26   \n",
       "AreaIncome                                     59785.9   \n",
       "DailyInternetUsage                               236.5   \n",
       "AdTopicLine           Organic bottom-line service-desk   \n",
       "City                                          Davidton   \n",
       "Male                                                 0   \n",
       "Country                                     San Marino   \n",
       "Timestamp                          2016-03-13 20:35:42   \n",
       "ClickedonAd                                          0   \n",
       "\n",
       "                                                          3  \\\n",
       "DailyTimeSpentonSite                                  74.15   \n",
       "Age                                                      29   \n",
       "AreaIncome                                          54806.2   \n",
       "DailyInternetUsage                                   245.89   \n",
       "AdTopicLine           Triple-buffered reciprocal time-frame   \n",
       "City                                         West Terrifurt   \n",
       "Male                                                      1   \n",
       "Country                                               Italy   \n",
       "Timestamp                               2016-01-10 02:31:19   \n",
       "ClickedonAd                                               0   \n",
       "\n",
       "                                                  4  \n",
       "DailyTimeSpentonSite                          68.37  \n",
       "Age                                              35  \n",
       "AreaIncome                                    73890  \n",
       "DailyInternetUsage                           225.58  \n",
       "AdTopicLine           Robust logistical utilization  \n",
       "City                                   South Manuel  \n",
       "Male                                              0  \n",
       "Country                                     Iceland  \n",
       "Timestamp                       2016-06-03 03:36:18  \n",
       "ClickedonAd                                       0  "
      ]
     },
     "execution_count": 44,
     "metadata": {},
     "output_type": "execute_result"
    }
   ],
   "source": [
    "adv.head().T"
   ]
  },
  {
   "cell_type": "markdown",
   "metadata": {},
   "source": [
    "Another important dataframe method os the info, which summarize tha dataframe content.\n",
    "With this command we can even see that there are not missing values in the data.. it's a lot less work to do for us!"
   ]
  },
  {
   "cell_type": "code",
   "execution_count": 45,
   "metadata": {},
   "outputs": [
    {
     "name": "stdout",
     "output_type": "stream",
     "text": [
      "<class 'pandas.core.frame.DataFrame'>\n",
      "RangeIndex: 1000 entries, 0 to 999\n",
      "Data columns (total 10 columns):\n",
      "DailyTimeSpentonSite    1000 non-null float64\n",
      "Age                     1000 non-null int64\n",
      "AreaIncome              1000 non-null float64\n",
      "DailyInternetUsage      1000 non-null float64\n",
      "AdTopicLine             1000 non-null object\n",
      "City                    1000 non-null object\n",
      "Male                    1000 non-null int64\n",
      "Country                 1000 non-null object\n",
      "Timestamp               1000 non-null object\n",
      "ClickedonAd             1000 non-null int64\n",
      "dtypes: float64(3), int64(3), object(4)\n",
      "memory usage: 78.2+ KB\n"
     ]
    }
   ],
   "source": [
    "adv.info()"
   ]
  },
  {
   "cell_type": "markdown",
   "metadata": {},
   "source": [
    "Now, let's focus on a single feature, *Timestamp*. It contains the date and time of the day when the entry was recorded. But it is obvious that feature type is something like: *date&hour*. It is likely that, if we split this one in two new features, like *day* and *hour* we may be able to observe different kind of pattern occuring in the two new features. With a physics analogy, it is like if we are separating the different scales of our phenomena. First, we give a look at this *Mother* feature:"
   ]
  },
  {
   "cell_type": "code",
   "execution_count": 46,
   "metadata": {},
   "outputs": [
    {
     "name": "stdout",
     "output_type": "stream",
     "text": [
      "0      2016-03-27 00:53:11\n",
      "1      2016-04-04 01:39:02\n",
      "2      2016-03-13 20:35:42\n",
      "3      2016-01-10 02:31:19\n",
      "4      2016-06-03 03:36:18\n",
      "              ...         \n",
      "995    2016-02-11 21:49:00\n",
      "996    2016-04-22 02:07:01\n",
      "997    2016-02-01 17:24:57\n",
      "998    2016-03-24 02:35:54\n",
      "999    2016-06-03 21:43:21\n",
      "Name: Timestamp, Length: 1000, dtype: object\n",
      "\n",
      "<class 'str'>\n"
     ]
    }
   ],
   "source": [
    "print ( adv.Timestamp )\n",
    "print()\n",
    "print( type(adv.Timestamp[0]) )"
   ]
  },
  {
   "cell_type": "code",
   "execution_count": 47,
   "metadata": {},
   "outputs": [
    {
     "data": {
      "text/html": [
       "<div>\n",
       "<style scoped>\n",
       "    .dataframe tbody tr th:only-of-type {\n",
       "        vertical-align: middle;\n",
       "    }\n",
       "\n",
       "    .dataframe tbody tr th {\n",
       "        vertical-align: top;\n",
       "    }\n",
       "\n",
       "    .dataframe thead th {\n",
       "        text-align: right;\n",
       "    }\n",
       "</style>\n",
       "<table border=\"1\" class=\"dataframe\">\n",
       "  <thead>\n",
       "    <tr style=\"text-align: right;\">\n",
       "      <th></th>\n",
       "      <th>0</th>\n",
       "      <th>1</th>\n",
       "      <th>2</th>\n",
       "      <th>3</th>\n",
       "      <th>4</th>\n",
       "    </tr>\n",
       "  </thead>\n",
       "  <tbody>\n",
       "    <tr>\n",
       "      <td>DailyTimeSpentonSite</td>\n",
       "      <td>68.95</td>\n",
       "      <td>80.23</td>\n",
       "      <td>69.47</td>\n",
       "      <td>74.15</td>\n",
       "      <td>68.37</td>\n",
       "    </tr>\n",
       "    <tr>\n",
       "      <td>Age</td>\n",
       "      <td>35</td>\n",
       "      <td>31</td>\n",
       "      <td>26</td>\n",
       "      <td>29</td>\n",
       "      <td>35</td>\n",
       "    </tr>\n",
       "    <tr>\n",
       "      <td>AreaIncome</td>\n",
       "      <td>61833.9</td>\n",
       "      <td>68441.9</td>\n",
       "      <td>59785.9</td>\n",
       "      <td>54806.2</td>\n",
       "      <td>73890</td>\n",
       "    </tr>\n",
       "    <tr>\n",
       "      <td>DailyInternetUsage</td>\n",
       "      <td>256.09</td>\n",
       "      <td>193.77</td>\n",
       "      <td>236.5</td>\n",
       "      <td>245.89</td>\n",
       "      <td>225.58</td>\n",
       "    </tr>\n",
       "    <tr>\n",
       "      <td>AdTopicLine</td>\n",
       "      <td>Cloned 5thgeneration orchestration</td>\n",
       "      <td>Monitored national standardization</td>\n",
       "      <td>Organic bottom-line service-desk</td>\n",
       "      <td>Triple-buffered reciprocal time-frame</td>\n",
       "      <td>Robust logistical utilization</td>\n",
       "    </tr>\n",
       "    <tr>\n",
       "      <td>City</td>\n",
       "      <td>Wrightburgh</td>\n",
       "      <td>West Jodi</td>\n",
       "      <td>Davidton</td>\n",
       "      <td>West Terrifurt</td>\n",
       "      <td>South Manuel</td>\n",
       "    </tr>\n",
       "    <tr>\n",
       "      <td>Male</td>\n",
       "      <td>0</td>\n",
       "      <td>1</td>\n",
       "      <td>0</td>\n",
       "      <td>1</td>\n",
       "      <td>0</td>\n",
       "    </tr>\n",
       "    <tr>\n",
       "      <td>Country</td>\n",
       "      <td>Tunisia</td>\n",
       "      <td>Nauru</td>\n",
       "      <td>San Marino</td>\n",
       "      <td>Italy</td>\n",
       "      <td>Iceland</td>\n",
       "    </tr>\n",
       "    <tr>\n",
       "      <td>Timestamp</td>\n",
       "      <td>2016-03-27 00:53:11</td>\n",
       "      <td>2016-04-04 01:39:02</td>\n",
       "      <td>2016-03-13 20:35:42</td>\n",
       "      <td>2016-01-10 02:31:19</td>\n",
       "      <td>2016-06-03 03:36:18</td>\n",
       "    </tr>\n",
       "    <tr>\n",
       "      <td>ClickedonAd</td>\n",
       "      <td>0</td>\n",
       "      <td>0</td>\n",
       "      <td>0</td>\n",
       "      <td>0</td>\n",
       "      <td>0</td>\n",
       "    </tr>\n",
       "  </tbody>\n",
       "</table>\n",
       "</div>"
      ],
      "text/plain": [
       "                                                       0  \\\n",
       "DailyTimeSpentonSite                               68.95   \n",
       "Age                                                   35   \n",
       "AreaIncome                                       61833.9   \n",
       "DailyInternetUsage                                256.09   \n",
       "AdTopicLine           Cloned 5thgeneration orchestration   \n",
       "City                                         Wrightburgh   \n",
       "Male                                                   0   \n",
       "Country                                          Tunisia   \n",
       "Timestamp                            2016-03-27 00:53:11   \n",
       "ClickedonAd                                            0   \n",
       "\n",
       "                                                       1  \\\n",
       "DailyTimeSpentonSite                               80.23   \n",
       "Age                                                   31   \n",
       "AreaIncome                                       68441.9   \n",
       "DailyInternetUsage                                193.77   \n",
       "AdTopicLine           Monitored national standardization   \n",
       "City                                           West Jodi   \n",
       "Male                                                   1   \n",
       "Country                                            Nauru   \n",
       "Timestamp                            2016-04-04 01:39:02   \n",
       "ClickedonAd                                            0   \n",
       "\n",
       "                                                     2  \\\n",
       "DailyTimeSpentonSite                             69.47   \n",
       "Age                                                 26   \n",
       "AreaIncome                                     59785.9   \n",
       "DailyInternetUsage                               236.5   \n",
       "AdTopicLine           Organic bottom-line service-desk   \n",
       "City                                          Davidton   \n",
       "Male                                                 0   \n",
       "Country                                     San Marino   \n",
       "Timestamp                          2016-03-13 20:35:42   \n",
       "ClickedonAd                                          0   \n",
       "\n",
       "                                                          3  \\\n",
       "DailyTimeSpentonSite                                  74.15   \n",
       "Age                                                      29   \n",
       "AreaIncome                                          54806.2   \n",
       "DailyInternetUsage                                   245.89   \n",
       "AdTopicLine           Triple-buffered reciprocal time-frame   \n",
       "City                                         West Terrifurt   \n",
       "Male                                                      1   \n",
       "Country                                               Italy   \n",
       "Timestamp                               2016-01-10 02:31:19   \n",
       "ClickedonAd                                               0   \n",
       "\n",
       "                                                  4  \n",
       "DailyTimeSpentonSite                          68.37  \n",
       "Age                                              35  \n",
       "AreaIncome                                    73890  \n",
       "DailyInternetUsage                           225.58  \n",
       "AdTopicLine           Robust logistical utilization  \n",
       "City                                   South Manuel  \n",
       "Male                                              0  \n",
       "Country                                     Iceland  \n",
       "Timestamp                       2016-06-03 03:36:18  \n",
       "ClickedonAd                                       0  "
      ]
     },
     "execution_count": 47,
     "metadata": {},
     "output_type": "execute_result"
    }
   ],
   "source": [
    "adv.head().T"
   ]
  },
  {
   "cell_type": "markdown",
   "metadata": {},
   "source": [
    "One of the first things to do "
   ]
  },
  {
   "cell_type": "code",
   "execution_count": 30,
   "metadata": {},
   "outputs": [
    {
     "data": {
      "image/png": "[encoded data removed]",
      "text/plain": [
       "<Figure size 432x288 with 1 Axes>"
      ]
     },
     "metadata": {
      "needs_background": "light"
     },
     "output_type": "display_data"
    }
   ],
   "source": [
    "from scipy.stats import norm\n",
    "sns.distplot(adv['Age'], hist=False, color='r', rug=True);"
   ]
  },
  {
   "cell_type": "code",
   "execution_count": 31,
   "metadata": {},
   "outputs": [
    {
     "data": {
      "text/plain": [
       "<matplotlib.axes._subplots.AxesSubplot at 0x7ff64bdd7c90>"
      ]
     },
     "execution_count": 31,
     "metadata": {},
     "output_type": "execute_result"
    },
    {
     "data": {
      "image/png": "[encoded data removed]",
      "text/plain": [
       "<Figure size 720x720 with 1 Axes>"
      ]
     },
     "metadata": {
      "needs_background": "light"
     },
     "output_type": "display_data"
    }
   ],
   "source": [
    "f, ax = plt.subplots(figsize=(10, 10))\n",
    "sns.kdeplot(adv.Age, adv.DailyTimeSpentonSite, color=\"b\", ax=ax)\n",
    "sns.rugplot(adv.Age, color=\"r\", ax=ax)\n",
    "sns.rugplot(adv.DailyTimeSpentonSite, vertical=True, ax=ax)"
   ]
  },
  {
   "cell_type": "code",
   "execution_count": 32,
   "metadata": {},
   "outputs": [
    {
     "data": {
      "text/plain": [
       "<seaborn.axisgrid.PairGrid at 0x7ff64bc52150>"
      ]
     },
     "execution_count": 32,
     "metadata": {},
     "output_type": "execute_result"
    },
    {
     "data": {
      "image/png": "[encoded data removed]",
      "text/plain": [
       "<Figure size 804.75x720 with 20 Axes>"
      ]
     },
     "metadata": {
      "needs_background": "light"
     },
     "output_type": "display_data"
    }
   ],
   "source": [
    "df = sns.load_dataset(\"iris\")\n",
    "sns.pairplot(df, hue=\"species\")"
   ]
  },
  {
   "cell_type": "code",
   "execution_count": 33,
   "metadata": {},
   "outputs": [
    {
     "data": {
      "text/plain": [
       "array([[<matplotlib.axes._subplots.AxesSubplot object at 0x7ff64b7bfd90>,\n",
       "        <matplotlib.axes._subplots.AxesSubplot object at 0x7ff64b5f3410>,\n",
       "        <matplotlib.axes._subplots.AxesSubplot object at 0x7ff64b55a790>,\n",
       "        <matplotlib.axes._subplots.AxesSubplot object at 0x7ff64b50bf90>],\n",
       "       [<matplotlib.axes._subplots.AxesSubplot object at 0x7ff64b4cc7d0>,\n",
       "        <matplotlib.axes._subplots.AxesSubplot object at 0x7ff64b480fd0>,\n",
       "        <matplotlib.axes._subplots.AxesSubplot object at 0x7ff64b441810>,\n",
       "        <matplotlib.axes._subplots.AxesSubplot object at 0x7ff64b473f90>],\n",
       "       [<matplotlib.axes._subplots.AxesSubplot object at 0x7ff64b47eb90>,\n",
       "        <matplotlib.axes._subplots.AxesSubplot object at 0x7ff64b43d550>,\n",
       "        <matplotlib.axes._subplots.AxesSubplot object at 0x7ff64b3aa890>,\n",
       "        <matplotlib.axes._subplots.AxesSubplot object at 0x7ff64b369c10>],\n",
       "       [<matplotlib.axes._subplots.AxesSubplot object at 0x7ff64b3218d0>,\n",
       "        <matplotlib.axes._subplots.AxesSubplot object at 0x7ff64b2dfc50>,\n",
       "        <matplotlib.axes._subplots.AxesSubplot object at 0x7ff64b295910>,\n",
       "        <matplotlib.axes._subplots.AxesSubplot object at 0x7ff64b253c90>]],\n",
       "      dtype=object)"
      ]
     },
     "execution_count": 33,
     "metadata": {},
     "output_type": "execute_result"
    },
    {
     "data": {
      "image/png": "[encoded data removed]",
      "text/plain": [
       "<Figure size 720x720 with 16 Axes>"
      ]
     },
     "metadata": {
      "needs_background": "light"
     },
     "output_type": "display_data"
    }
   ],
   "source": [
    "from pandas.plotting import scatter_matrix\n",
    "scatter_matrix(adv[['DailyTimeSpentonSite', 'Age','AreaIncome', 'DailyInternetUsage']], alpha=0.3, figsize=(10,10))"
   ]
  },
  {
   "cell_type": "code",
   "execution_count": 48,
   "metadata": {},
   "outputs": [
    {
     "data": {
      "text/html": [
       "<div>\n",
       "<style scoped>\n",
       "    .dataframe tbody tr th:only-of-type {\n",
       "        vertical-align: middle;\n",
       "    }\n",
       "\n",
       "    .dataframe tbody tr th {\n",
       "        vertical-align: top;\n",
       "    }\n",
       "\n",
       "    .dataframe thead th {\n",
       "        text-align: right;\n",
       "    }\n",
       "</style>\n",
       "<table border=\"1\" class=\"dataframe\">\n",
       "  <thead>\n",
       "    <tr style=\"text-align: right;\">\n",
       "      <th></th>\n",
       "      <th>AdTopicLine</th>\n",
       "      <th>City</th>\n",
       "      <th>Country</th>\n",
       "    </tr>\n",
       "  </thead>\n",
       "  <tbody>\n",
       "    <tr>\n",
       "      <td>count</td>\n",
       "      <td>1000</td>\n",
       "      <td>1000</td>\n",
       "      <td>1000</td>\n",
       "    </tr>\n",
       "    <tr>\n",
       "      <td>unique</td>\n",
       "      <td>1000</td>\n",
       "      <td>969</td>\n",
       "      <td>237</td>\n",
       "    </tr>\n",
       "    <tr>\n",
       "      <td>top</td>\n",
       "      <td>Vision-oriented system-worthy forecast</td>\n",
       "      <td>Lisamouth</td>\n",
       "      <td>Czech Republic</td>\n",
       "    </tr>\n",
       "    <tr>\n",
       "      <td>freq</td>\n",
       "      <td>1</td>\n",
       "      <td>3</td>\n",
       "      <td>9</td>\n",
       "    </tr>\n",
       "  </tbody>\n",
       "</table>\n",
       "</div>"
      ],
      "text/plain": [
       "                                   AdTopicLine       City         Country\n",
       "count                                     1000       1000            1000\n",
       "unique                                    1000        969             237\n",
       "top     Vision-oriented system-worthy forecast  Lisamouth  Czech Republic\n",
       "freq                                         1          3               9"
      ]
     },
     "execution_count": 48,
     "metadata": {},
     "output_type": "execute_result"
    }
   ],
   "source": [
    "object_features = ['AdTopicLine', 'City', 'Country']\n",
    "adv[object_features].describe(include=['O'])"
   ]
  },
  {
   "cell_type": "markdown",
   "metadata": {},
   "source": [
    "As we can see from the table above that all the values in column \"Ad Topic Line\" is unique, while the \"City\" column contains 969 unique values out of 1000. There are too many unique elements within these two categorical columns and it is generally difficult to perform a prediction without the existence of a data pattern. Because of that, they will be omitted from further analysis. The third categorical variable, i.e \"Country\", has a unique element (France) that repeats 9 times. Additionally, we can determine countries with the highest number of visitors:"
   ]
  },
  {
   "cell_type": "markdown",
   "metadata": {},
   "source": [
    "The table below shows the 20 most represented countries in our DataFrame."
   ]
  },
  {
   "cell_type": "code",
   "execution_count": 49,
   "metadata": {},
   "outputs": [
    {
     "data": {
      "text/html": [
       "<div>\n",
       "<style scoped>\n",
       "    .dataframe tbody tr th:only-of-type {\n",
       "        vertical-align: middle;\n",
       "    }\n",
       "\n",
       "    .dataframe tbody tr th {\n",
       "        vertical-align: top;\n",
       "    }\n",
       "\n",
       "    .dataframe thead th {\n",
       "        text-align: right;\n",
       "    }\n",
       "</style>\n",
       "<table border=\"1\" class=\"dataframe\">\n",
       "  <thead>\n",
       "    <tr style=\"text-align: right;\">\n",
       "      <th>col_0</th>\n",
       "      <th>count</th>\n",
       "    </tr>\n",
       "    <tr>\n",
       "      <th>Country</th>\n",
       "      <th></th>\n",
       "    </tr>\n",
       "  </thead>\n",
       "  <tbody>\n",
       "    <tr>\n",
       "      <td>France</td>\n",
       "      <td>9</td>\n",
       "    </tr>\n",
       "    <tr>\n",
       "      <td>Czech Republic</td>\n",
       "      <td>9</td>\n",
       "    </tr>\n",
       "    <tr>\n",
       "      <td>Afghanistan</td>\n",
       "      <td>8</td>\n",
       "    </tr>\n",
       "    <tr>\n",
       "      <td>Australia</td>\n",
       "      <td>8</td>\n",
       "    </tr>\n",
       "    <tr>\n",
       "      <td>Turkey</td>\n",
       "      <td>8</td>\n",
       "    </tr>\n",
       "    <tr>\n",
       "      <td>South Africa</td>\n",
       "      <td>8</td>\n",
       "    </tr>\n",
       "    <tr>\n",
       "      <td>Senegal</td>\n",
       "      <td>8</td>\n",
       "    </tr>\n",
       "    <tr>\n",
       "      <td>Peru</td>\n",
       "      <td>8</td>\n",
       "    </tr>\n",
       "    <tr>\n",
       "      <td>Micronesia</td>\n",
       "      <td>8</td>\n",
       "    </tr>\n",
       "    <tr>\n",
       "      <td>Greece</td>\n",
       "      <td>8</td>\n",
       "    </tr>\n",
       "    <tr>\n",
       "      <td>Cyprus</td>\n",
       "      <td>8</td>\n",
       "    </tr>\n",
       "    <tr>\n",
       "      <td>Liberia</td>\n",
       "      <td>8</td>\n",
       "    </tr>\n",
       "    <tr>\n",
       "      <td>Albania</td>\n",
       "      <td>7</td>\n",
       "    </tr>\n",
       "    <tr>\n",
       "      <td>Bosnia and Herzegovina</td>\n",
       "      <td>7</td>\n",
       "    </tr>\n",
       "    <tr>\n",
       "      <td>Taiwan</td>\n",
       "      <td>7</td>\n",
       "    </tr>\n",
       "    <tr>\n",
       "      <td>Bahamas</td>\n",
       "      <td>7</td>\n",
       "    </tr>\n",
       "    <tr>\n",
       "      <td>Burundi</td>\n",
       "      <td>7</td>\n",
       "    </tr>\n",
       "    <tr>\n",
       "      <td>Cambodia</td>\n",
       "      <td>7</td>\n",
       "    </tr>\n",
       "    <tr>\n",
       "      <td>Venezuela</td>\n",
       "      <td>7</td>\n",
       "    </tr>\n",
       "    <tr>\n",
       "      <td>Fiji</td>\n",
       "      <td>7</td>\n",
       "    </tr>\n",
       "  </tbody>\n",
       "</table>\n",
       "</div>"
      ],
      "text/plain": [
       "col_0                   count\n",
       "Country                      \n",
       "France                      9\n",
       "Czech Republic              9\n",
       "Afghanistan                 8\n",
       "Australia                   8\n",
       "Turkey                      8\n",
       "South Africa                8\n",
       "Senegal                     8\n",
       "Peru                        8\n",
       "Micronesia                  8\n",
       "Greece                      8\n",
       "Cyprus                      8\n",
       "Liberia                     8\n",
       "Albania                     7\n",
       "Bosnia and Herzegovina      7\n",
       "Taiwan                      7\n",
       "Bahamas                     7\n",
       "Burundi                     7\n",
       "Cambodia                    7\n",
       "Venezuela                   7\n",
       "Fiji                        7"
      ]
     },
     "execution_count": 49,
     "metadata": {},
     "output_type": "execute_result"
    }
   ],
   "source": [
    "pd.crosstab(index=adv['Country'], columns='count').sort_values(['count'], ascending=False).head(20)"
   ]
  },
  {
   "cell_type": "markdown",
   "metadata": {},
   "source": [
    "We have already seen, there are 237 different unique countries in our dataset and no single country is too dominant. A large number of unique elements will not allow a model to establish valuable relationships. For that reason, this variable will be excluded too. It is too difficult to learn from (almost) flat distribution that is almost equivalent to white noise."
   ]
  },
  {
   "cell_type": "code",
   "execution_count": 51,
   "metadata": {},
   "outputs": [],
   "source": [
    "data = adv.drop(['AdTopicLine', 'City', 'Country'], axis=1)"
   ]
  },
  {
   "cell_type": "markdown",
   "metadata": {},
   "source": [
    "Our purpose now is to create three new features because we are splitting one column in three columns. If we split features and properly operate on them we can get something useful. We are going to get two tipes for our feature: two with datetime, one with categorical. \n",
    "\n",
    "The \"Day of the week\" variable contains values from 0 to 6, where each number represents a specific day of the week (from Monday to Sunday). The categories here are the days of the week, which may be useful to detect periodic pattern in our data.\n",
    "\n",
    "All the other variables are in dtime format.\n",
    "\n",
    "1. convert the timestamp column (string format) into pandas datetime format\n",
    "2. trought the dt accessor split time and date and day of the week and assign them to new columns\n",
    "3. remove (drop) the timestamp column. There is no information loss here\n",
    "4. check the output"
   ]
  },
  {
   "cell_type": "code",
   "execution_count": 52,
   "metadata": {},
   "outputs": [],
   "source": [
    "adv['Timestamp'] = pd.to_datetime(adv['Timestamp'])\n",
    "\n",
    "adv['WDay']  = adv['Timestamp'].dt.weekday\n",
    "adv['Day']   = adv['Timestamp'].dt.date\n",
    "adv['Hour']  = adv['Timestamp'].dt.time"
   ]
  },
  {
   "cell_type": "code",
   "execution_count": 53,
   "metadata": {},
   "outputs": [],
   "source": [
    "adv = adv.drop(['Timestamp'], axis=1)"
   ]
  },
  {
   "cell_type": "markdown",
   "metadata": {},
   "source": [
    "We can evaluate how much time our dataset spans"
   ]
  },
  {
   "cell_type": "code",
   "execution_count": 54,
   "metadata": {},
   "outputs": [
    {
     "name": "stdout",
     "output_type": "stream",
     "text": [
      "Train min/max date: 2016-01-01 2016-07-24\n",
      "Dataset time span:  205 days, 0:00:00\n"
     ]
    }
   ],
   "source": [
    "print('Train min/max date:', adv.Day.min(), adv.Day.max() )\n",
    "print('Dataset time span: ',adv.Day.max()-adv.Day.min())"
   ]
  },
  {
   "cell_type": "markdown",
   "metadata": {},
   "source": [
    "First, one very simple histogram: which day f the week carry us more information? No one is more informative than the other: the plot is practically flat, meaning uniform sampling."
   ]
  },
  {
   "cell_type": "code",
   "execution_count": 55,
   "metadata": {},
   "outputs": [
    {
     "data": {
      "text/plain": [
       "<matplotlib.axes._subplots.AxesSubplot at 0x7ff64ad44890>"
      ]
     },
     "execution_count": 55,
     "metadata": {},
     "output_type": "execute_result"
    },
    {
     "data": {
      "image/png": "[encoded data removed]",
      "text/plain": [
       "<Figure size 432x288 with 1 Axes>"
      ]
     },
     "metadata": {
      "needs_background": "light"
     },
     "output_type": "display_data"
    }
   ],
   "source": [
    "adv['WDay'].plot(kind='hist')"
   ]
  },
  {
   "cell_type": "markdown",
   "metadata": {},
   "source": [
    "Trick: there is no direct way to visualize a dt.time column in a histogram format. But if we perform the right transformation of our data, we can easily visualize our data, even in a dirty format. Here what we want to obtain is just the shape of the distribution, something that can help us to decide how to proceed in our EDA."
   ]
  },
  {
   "cell_type": "code",
   "execution_count": 24,
   "metadata": {},
   "outputs": [
    {
     "data": {
      "text/plain": [
       "<matplotlib.axes._subplots.AxesSubplot at 0x7f45695a7810>"
      ]
     },
     "execution_count": 24,
     "metadata": {},
     "output_type": "execute_result"
    },
    {
     "data": {
      "image/png": "[encoded data removed]",
      "text/plain": [
       "<Figure size 432x288 with 1 Axes>"
      ]
     },
     "metadata": {
      "needs_background": "light"
     },
     "output_type": "display_data"
    }
   ],
   "source": [
    "adv[\"NHour\"] = adv[\"Hour\"].astype(str)\n",
    "adv['NHour'] = adv['NHour'].map(lambda x: int(x.replace(':','')))\n",
    "adv[\"NHour\"].plot.hist(bins=100, alpha=0.5)"
   ]
  },
  {
   "cell_type": "markdown",
   "metadata": {},
   "source": [
    "Even if the plots are not informative, we can conclude that the sample is uniform and that we should do some feature engineering in order to extract meaningful informations."
   ]
  },
  {
   "cell_type": "markdown",
   "metadata": {},
   "source": [
    "# THE ART OF FEATURE DECODING: CASE STUDY 2"
   ]
  },
  {
   "cell_type": "markdown",
   "metadata": {},
   "source": [
    "In the previous axemple we were working with data had a clear meaning. We knew what the features were and ment and data were given to us without particolar modifications. In daily life this setting is not the rule, but the exception: often data are algorithmically encoded in order to be anonymized.\n",
    "If one data provider wants to anonymize geolocalization data it could replace the gps coordinates of each entry with hash values and so on\n",
    "\n",
    "If the applied encoding is one-to-one the features are preserved and the models will be able to to learn."
   ]
  },
  {
   "cell_type": "markdown",
   "metadata": {},
   "source": [
    "### First of all, download the dataset:"
   ]
  },
  {
   "cell_type": "code",
   "execution_count": null,
   "metadata": {},
   "outputs": [],
   "source": [
    "!wget https://habrastorage.org/storage/stuff/special/beeline/00.beeline_bigdata.zip"
   ]
  },
  {
   "cell_type": "markdown",
   "metadata": {},
   "source": [
    "Feature names are replaced with some aliases x1, x2, ... and one can observe some hash values. This is a very common technique to anonymize data and this hide the information that need to be retrived. \n",
    "\n",
    "### First we can try to decode or de-anonymize data. \n",
    "\n",
    "Guessing the meaning of the data is allways a good starting point. Deanonymization is not allways possible but we can do this to reconstruct the type of the features, separating them in numeric, categorical ecc..\n",
    "\n"
   ]
  },
  {
   "cell_type": "code",
   "execution_count": 63,
   "metadata": {},
   "outputs": [],
   "source": [
    "pd.set_option('max_columns', 100)"
   ]
  },
  {
   "cell_type": "code",
   "execution_count": 64,
   "metadata": {},
   "outputs": [
    {
     "data": {
      "text/html": [
       "<div>\n",
       "<style scoped>\n",
       "    .dataframe tbody tr th:only-of-type {\n",
       "        vertical-align: middle;\n",
       "    }\n",
       "\n",
       "    .dataframe tbody tr th {\n",
       "        vertical-align: top;\n",
       "    }\n",
       "\n",
       "    .dataframe thead th {\n",
       "        text-align: right;\n",
       "    }\n",
       "</style>\n",
       "<table border=\"1\" class=\"dataframe\">\n",
       "  <thead>\n",
       "    <tr style=\"text-align: right;\">\n",
       "      <th></th>\n",
       "      <th>x0</th>\n",
       "      <th>x1</th>\n",
       "      <th>x2</th>\n",
       "      <th>x3</th>\n",
       "      <th>x4</th>\n",
       "      <th>x5</th>\n",
       "      <th>x6</th>\n",
       "      <th>x7</th>\n",
       "      <th>x8</th>\n",
       "      <th>x9</th>\n",
       "      <th>x10</th>\n",
       "      <th>x11</th>\n",
       "      <th>x12</th>\n",
       "      <th>x13</th>\n",
       "      <th>x14</th>\n",
       "      <th>x15</th>\n",
       "      <th>x16</th>\n",
       "      <th>x17</th>\n",
       "      <th>x18</th>\n",
       "      <th>x19</th>\n",
       "      <th>x20</th>\n",
       "      <th>x21</th>\n",
       "      <th>x22</th>\n",
       "      <th>x23</th>\n",
       "      <th>x24</th>\n",
       "      <th>x25</th>\n",
       "      <th>x26</th>\n",
       "      <th>x27</th>\n",
       "      <th>x28</th>\n",
       "      <th>x29</th>\n",
       "      <th>x30</th>\n",
       "      <th>x31</th>\n",
       "      <th>x32</th>\n",
       "      <th>x33</th>\n",
       "      <th>x34</th>\n",
       "      <th>x35</th>\n",
       "      <th>x36</th>\n",
       "      <th>x37</th>\n",
       "      <th>x38</th>\n",
       "      <th>x39</th>\n",
       "      <th>x40</th>\n",
       "      <th>x41</th>\n",
       "      <th>x42</th>\n",
       "      <th>x43</th>\n",
       "      <th>x44</th>\n",
       "      <th>x45</th>\n",
       "      <th>x46</th>\n",
       "      <th>x47</th>\n",
       "      <th>x48</th>\n",
       "      <th>x49</th>\n",
       "      <th>x50</th>\n",
       "      <th>x51</th>\n",
       "      <th>x52</th>\n",
       "      <th>x53</th>\n",
       "      <th>x54</th>\n",
       "      <th>x55</th>\n",
       "      <th>x56</th>\n",
       "      <th>x57</th>\n",
       "      <th>x58</th>\n",
       "      <th>x59</th>\n",
       "      <th>x60</th>\n",
       "      <th>x61</th>\n",
       "      <th>y</th>\n",
       "    </tr>\n",
       "  </thead>\n",
       "  <tbody>\n",
       "    <tr>\n",
       "      <td>0</td>\n",
       "      <td>b4d8a653ea</td>\n",
       "      <td>16a14a2d17</td>\n",
       "      <td>06330986ed</td>\n",
       "      <td>ca63304de0</td>\n",
       "      <td>a62168d626</td>\n",
       "      <td>1746600cb0</td>\n",
       "      <td>1</td>\n",
       "      <td>1</td>\n",
       "      <td>-0.688706</td>\n",
       "      <td>7e5c97705a</td>\n",
       "      <td>e5df3eff9b</td>\n",
       "      <td>91bb549494</td>\n",
       "      <td>e33c63cf35</td>\n",
       "      <td>3694.0</td>\n",
       "      <td>6e40247e69</td>\n",
       "      <td>617a4ad3f9</td>\n",
       "      <td>718c61545b</td>\n",
       "      <td>c26d08129a</td>\n",
       "      <td>634e3cf3ac</td>\n",
       "      <td>dd9c9e0da2</td>\n",
       "      <td>17c99905b6</td>\n",
       "      <td>513a3e3f36</td>\n",
       "      <td>9aba4d7f51</td>\n",
       "      <td>40.579612</td>\n",
       "      <td>-0.112693</td>\n",
       "      <td>-0.172191</td>\n",
       "      <td>1.166667</td>\n",
       "      <td>1.674538</td>\n",
       "      <td>0.630889</td>\n",
       "      <td>37.000000</td>\n",
       "      <td>1.294922</td>\n",
       "      <td>55.0</td>\n",
       "      <td>0.166667</td>\n",
       "      <td>10.0</td>\n",
       "      <td>0.0</td>\n",
       "      <td>0.000000</td>\n",
       "      <td>1.0</td>\n",
       "      <td>9.0</td>\n",
       "      <td>0.0</td>\n",
       "      <td>1.0</td>\n",
       "      <td>23.0</td>\n",
       "      <td>3.67</td>\n",
       "      <td>0.12</td>\n",
       "      <td>1.935</td>\n",
       "      <td>2.2</td>\n",
       "      <td>0.625</td>\n",
       "      <td>0.250</td>\n",
       "      <td>0.125</td>\n",
       "      <td>0.000</td>\n",
       "      <td>0.813</td>\n",
       "      <td>0.074</td>\n",
       "      <td>0.634</td>\n",
       "      <td>0.548</td>\n",
       "      <td>0.235333</td>\n",
       "      <td>0.264952</td>\n",
       "      <td>0.000000</td>\n",
       "      <td>0.333333</td>\n",
       "      <td>0.333333</td>\n",
       "      <td>0.333333</td>\n",
       "      <td>0.000000</td>\n",
       "      <td>0.000000</td>\n",
       "      <td>9.0</td>\n",
       "      <td>2</td>\n",
       "    </tr>\n",
       "    <tr>\n",
       "      <td>1</td>\n",
       "      <td>467f9617a3</td>\n",
       "      <td>16a14a2d17</td>\n",
       "      <td>06330986ed</td>\n",
       "      <td>ca63304de0</td>\n",
       "      <td>b7584c2d52</td>\n",
       "      <td>1746600cb0</td>\n",
       "      <td>1</td>\n",
       "      <td>1</td>\n",
       "      <td>0.870871</td>\n",
       "      <td>5624b8f759</td>\n",
       "      <td>fa0b797a92</td>\n",
       "      <td>669ea3d319</td>\n",
       "      <td>f178803074</td>\n",
       "      <td>18156.0</td>\n",
       "      <td>01ede04b4b</td>\n",
       "      <td>617a4ad3f9</td>\n",
       "      <td>718c61545b</td>\n",
       "      <td>d342e2765f</td>\n",
       "      <td>bb20e1ca06</td>\n",
       "      <td>8a6c8cef83</td>\n",
       "      <td>1b02793146</td>\n",
       "      <td>992153ed65</td>\n",
       "      <td>9aba4d7f51</td>\n",
       "      <td>28.765503</td>\n",
       "      <td>2.612285</td>\n",
       "      <td>2.159091</td>\n",
       "      <td>4.000000</td>\n",
       "      <td>1.710714</td>\n",
       "      <td>1.713538</td>\n",
       "      <td>0.166667</td>\n",
       "      <td>0.027669</td>\n",
       "      <td>109.0</td>\n",
       "      <td>0.000000</td>\n",
       "      <td>31.0</td>\n",
       "      <td>0.0</td>\n",
       "      <td>0.000000</td>\n",
       "      <td>1.0</td>\n",
       "      <td>244.0</td>\n",
       "      <td>1.0</td>\n",
       "      <td>1.0</td>\n",
       "      <td>68.0</td>\n",
       "      <td>17.25</td>\n",
       "      <td>0.57</td>\n",
       "      <td>3.452</td>\n",
       "      <td>4.0</td>\n",
       "      <td>0.409</td>\n",
       "      <td>0.619</td>\n",
       "      <td>0.579</td>\n",
       "      <td>0.248</td>\n",
       "      <td>0.346</td>\n",
       "      <td>0.541</td>\n",
       "      <td>0.522</td>\n",
       "      <td>0.000</td>\n",
       "      <td>1.782346</td>\n",
       "      <td>1.322409</td>\n",
       "      <td>0.011647</td>\n",
       "      <td>0.397671</td>\n",
       "      <td>0.239601</td>\n",
       "      <td>0.249584</td>\n",
       "      <td>0.068220</td>\n",
       "      <td>0.033278</td>\n",
       "      <td>601.0</td>\n",
       "      <td>4</td>\n",
       "    </tr>\n",
       "    <tr>\n",
       "      <td>2</td>\n",
       "      <td>190436e528</td>\n",
       "      <td>16a14a2d17</td>\n",
       "      <td>06330986ed</td>\n",
       "      <td>ca63304de0</td>\n",
       "      <td>b7584c2d52</td>\n",
       "      <td>1746600cb0</td>\n",
       "      <td>1</td>\n",
       "      <td>1</td>\n",
       "      <td>0.437655</td>\n",
       "      <td>5624b8f759</td>\n",
       "      <td>152af2cb2f</td>\n",
       "      <td>91bb549494</td>\n",
       "      <td>e33c63cf35</td>\n",
       "      <td>1178.0</td>\n",
       "      <td>cc69cbe29a</td>\n",
       "      <td>617a4ad3f9</td>\n",
       "      <td>e8a040423a</td>\n",
       "      <td>c82c3dbd33</td>\n",
       "      <td>ee3501282b</td>\n",
       "      <td>199ce7c484</td>\n",
       "      <td>5f17dedd5c</td>\n",
       "      <td>5c5025bd0a</td>\n",
       "      <td>9aba4d7f51</td>\n",
       "      <td>24.943933</td>\n",
       "      <td>-0.814660</td>\n",
       "      <td>-0.708308</td>\n",
       "      <td>1.500000</td>\n",
       "      <td>-0.512422</td>\n",
       "      <td>-0.733967</td>\n",
       "      <td>0.333333</td>\n",
       "      <td>14.837728</td>\n",
       "      <td>11.0</td>\n",
       "      <td>0.000000</td>\n",
       "      <td>24.0</td>\n",
       "      <td>0.0</td>\n",
       "      <td>0.000000</td>\n",
       "      <td>1.0</td>\n",
       "      <td>29.0</td>\n",
       "      <td>0.0</td>\n",
       "      <td>3.0</td>\n",
       "      <td>11.0</td>\n",
       "      <td>4.42</td>\n",
       "      <td>0.15</td>\n",
       "      <td>0.161</td>\n",
       "      <td>0.2</td>\n",
       "      <td>1.000</td>\n",
       "      <td>1.000</td>\n",
       "      <td>1.000</td>\n",
       "      <td>1.000</td>\n",
       "      <td>1.000</td>\n",
       "      <td>0.520</td>\n",
       "      <td>0.533</td>\n",
       "      <td>0.835</td>\n",
       "      <td>-0.586540</td>\n",
       "      <td>0.672436</td>\n",
       "      <td>0.000000</td>\n",
       "      <td>0.606061</td>\n",
       "      <td>0.121212</td>\n",
       "      <td>0.212121</td>\n",
       "      <td>0.060606</td>\n",
       "      <td>0.000000</td>\n",
       "      <td>33.0</td>\n",
       "      <td>3</td>\n",
       "    </tr>\n",
       "    <tr>\n",
       "      <td>3</td>\n",
       "      <td>43859085bc</td>\n",
       "      <td>16a14a2d17</td>\n",
       "      <td>06330986ed</td>\n",
       "      <td>ca63304de0</td>\n",
       "      <td>a62168d626</td>\n",
       "      <td>1746600cb0</td>\n",
       "      <td>1</td>\n",
       "      <td>1</td>\n",
       "      <td>0.004439</td>\n",
       "      <td>f67f142e40</td>\n",
       "      <td>c4dd2197c3</td>\n",
       "      <td>91bb549494</td>\n",
       "      <td>e33c63cf35</td>\n",
       "      <td>14559.0</td>\n",
       "      <td>6e40247e69</td>\n",
       "      <td>617a4ad3f9</td>\n",
       "      <td>718c61545b</td>\n",
       "      <td>c26d08129a</td>\n",
       "      <td>9e166b965d</td>\n",
       "      <td>466f8951b0</td>\n",
       "      <td>fde72a6d5c</td>\n",
       "      <td>acfadc5c01</td>\n",
       "      <td>9aba4d7f51</td>\n",
       "      <td>41.576860</td>\n",
       "      <td>-0.907833</td>\n",
       "      <td>-0.761736</td>\n",
       "      <td>0.500000</td>\n",
       "      <td>-0.627525</td>\n",
       "      <td>-0.805801</td>\n",
       "      <td>1.166667</td>\n",
       "      <td>0.004395</td>\n",
       "      <td>0.0</td>\n",
       "      <td>0.500000</td>\n",
       "      <td>0.0</td>\n",
       "      <td>0.0</td>\n",
       "      <td>0.000000</td>\n",
       "      <td>7.0</td>\n",
       "      <td>7.0</td>\n",
       "      <td>0.0</td>\n",
       "      <td>3.0</td>\n",
       "      <td>15.0</td>\n",
       "      <td>8.92</td>\n",
       "      <td>0.29</td>\n",
       "      <td>0.226</td>\n",
       "      <td>0.8</td>\n",
       "      <td>0.000</td>\n",
       "      <td>0.000</td>\n",
       "      <td>0.000</td>\n",
       "      <td>0.000</td>\n",
       "      <td>0.000</td>\n",
       "      <td>1.000</td>\n",
       "      <td>0.000</td>\n",
       "      <td>0.000</td>\n",
       "      <td>-1.600326</td>\n",
       "      <td>-1.838680</td>\n",
       "      <td>0.000000</td>\n",
       "      <td>1.000000</td>\n",
       "      <td>0.000000</td>\n",
       "      <td>0.000000</td>\n",
       "      <td>0.000000</td>\n",
       "      <td>0.000000</td>\n",
       "      <td>1.0</td>\n",
       "      <td>4</td>\n",
       "    </tr>\n",
       "    <tr>\n",
       "      <td>4</td>\n",
       "      <td>a4c3095b75</td>\n",
       "      <td>16a14a2d17</td>\n",
       "      <td>06330986ed</td>\n",
       "      <td>ca63304de0</td>\n",
       "      <td>b7584c2d52</td>\n",
       "      <td>1746600cb0</td>\n",
       "      <td>1</td>\n",
       "      <td>1</td>\n",
       "      <td>0.480977</td>\n",
       "      <td>7e5c97705a</td>\n",
       "      <td>e071d01df5</td>\n",
       "      <td>91bb549494</td>\n",
       "      <td>e33c63cf35</td>\n",
       "      <td>5777.0</td>\n",
       "      <td>6e40247e69</td>\n",
       "      <td>617a4ad3f9</td>\n",
       "      <td>4b9480aa42</td>\n",
       "      <td>e84655292c</td>\n",
       "      <td>527b6ca8cc</td>\n",
       "      <td>dd9c9e0da2</td>\n",
       "      <td>17c99905b6</td>\n",
       "      <td>0fc56ea1f0</td>\n",
       "      <td>9aba4d7f51</td>\n",
       "      <td>31.080282</td>\n",
       "      <td>-0.371787</td>\n",
       "      <td>-0.367616</td>\n",
       "      <td>1.666667</td>\n",
       "      <td>0.271307</td>\n",
       "      <td>0.013112</td>\n",
       "      <td>17.333333</td>\n",
       "      <td>1713.439128</td>\n",
       "      <td>33.0</td>\n",
       "      <td>0.000000</td>\n",
       "      <td>6.0</td>\n",
       "      <td>1.0</td>\n",
       "      <td>0.666667</td>\n",
       "      <td>8.0</td>\n",
       "      <td>108.0</td>\n",
       "      <td>1.0</td>\n",
       "      <td>4.0</td>\n",
       "      <td>86.0</td>\n",
       "      <td>1.58</td>\n",
       "      <td>0.05</td>\n",
       "      <td>2.032</td>\n",
       "      <td>2.4</td>\n",
       "      <td>0.348</td>\n",
       "      <td>0.762</td>\n",
       "      <td>0.550</td>\n",
       "      <td>0.392</td>\n",
       "      <td>0.489</td>\n",
       "      <td>0.517</td>\n",
       "      <td>1.000</td>\n",
       "      <td>0.642</td>\n",
       "      <td>0.960991</td>\n",
       "      <td>0.790990</td>\n",
       "      <td>0.020161</td>\n",
       "      <td>0.645161</td>\n",
       "      <td>0.258065</td>\n",
       "      <td>0.036290</td>\n",
       "      <td>0.040323</td>\n",
       "      <td>0.000000</td>\n",
       "      <td>248.0</td>\n",
       "      <td>3</td>\n",
       "    </tr>\n",
       "  </tbody>\n",
       "</table>\n",
       "</div>"
      ],
      "text/plain": [
       "           x0          x1          x2          x3          x4          x5  x6  \\\n",
       "0  b4d8a653ea  16a14a2d17  06330986ed  ca63304de0  a62168d626  1746600cb0   1   \n",
       "1  467f9617a3  16a14a2d17  06330986ed  ca63304de0  b7584c2d52  1746600cb0   1   \n",
       "2  190436e528  16a14a2d17  06330986ed  ca63304de0  b7584c2d52  1746600cb0   1   \n",
       "3  43859085bc  16a14a2d17  06330986ed  ca63304de0  a62168d626  1746600cb0   1   \n",
       "4  a4c3095b75  16a14a2d17  06330986ed  ca63304de0  b7584c2d52  1746600cb0   1   \n",
       "\n",
       "   x7        x8          x9         x10         x11         x12      x13  \\\n",
       "0   1 -0.688706  7e5c97705a  e5df3eff9b  91bb549494  e33c63cf35   3694.0   \n",
       "1   1  0.870871  5624b8f759  fa0b797a92  669ea3d319  f178803074  18156.0   \n",
       "2   1  0.437655  5624b8f759  152af2cb2f  91bb549494  e33c63cf35   1178.0   \n",
       "3   1  0.004439  f67f142e40  c4dd2197c3  91bb549494  e33c63cf35  14559.0   \n",
       "4   1  0.480977  7e5c97705a  e071d01df5  91bb549494  e33c63cf35   5777.0   \n",
       "\n",
       "          x14         x15         x16         x17         x18         x19  \\\n",
       "0  6e40247e69  617a4ad3f9  718c61545b  c26d08129a  634e3cf3ac  dd9c9e0da2   \n",
       "1  01ede04b4b  617a4ad3f9  718c61545b  d342e2765f  bb20e1ca06  8a6c8cef83   \n",
       "2  cc69cbe29a  617a4ad3f9  e8a040423a  c82c3dbd33  ee3501282b  199ce7c484   \n",
       "3  6e40247e69  617a4ad3f9  718c61545b  c26d08129a  9e166b965d  466f8951b0   \n",
       "4  6e40247e69  617a4ad3f9  4b9480aa42  e84655292c  527b6ca8cc  dd9c9e0da2   \n",
       "\n",
       "          x20         x21         x22        x23       x24       x25  \\\n",
       "0  17c99905b6  513a3e3f36  9aba4d7f51  40.579612 -0.112693 -0.172191   \n",
       "1  1b02793146  992153ed65  9aba4d7f51  28.765503  2.612285  2.159091   \n",
       "2  5f17dedd5c  5c5025bd0a  9aba4d7f51  24.943933 -0.814660 -0.708308   \n",
       "3  fde72a6d5c  acfadc5c01  9aba4d7f51  41.576860 -0.907833 -0.761736   \n",
       "4  17c99905b6  0fc56ea1f0  9aba4d7f51  31.080282 -0.371787 -0.367616   \n",
       "\n",
       "        x26       x27       x28        x29          x30    x31       x32  \\\n",
       "0  1.166667  1.674538  0.630889  37.000000     1.294922   55.0  0.166667   \n",
       "1  4.000000  1.710714  1.713538   0.166667     0.027669  109.0  0.000000   \n",
       "2  1.500000 -0.512422 -0.733967   0.333333    14.837728   11.0  0.000000   \n",
       "3  0.500000 -0.627525 -0.805801   1.166667     0.004395    0.0  0.500000   \n",
       "4  1.666667  0.271307  0.013112  17.333333  1713.439128   33.0  0.000000   \n",
       "\n",
       "    x33  x34       x35  x36    x37  x38  x39   x40    x41   x42    x43  x44  \\\n",
       "0  10.0  0.0  0.000000  1.0    9.0  0.0  1.0  23.0   3.67  0.12  1.935  2.2   \n",
       "1  31.0  0.0  0.000000  1.0  244.0  1.0  1.0  68.0  17.25  0.57  3.452  4.0   \n",
       "2  24.0  0.0  0.000000  1.0   29.0  0.0  3.0  11.0   4.42  0.15  0.161  0.2   \n",
       "3   0.0  0.0  0.000000  7.0    7.0  0.0  3.0  15.0   8.92  0.29  0.226  0.8   \n",
       "4   6.0  1.0  0.666667  8.0  108.0  1.0  4.0  86.0   1.58  0.05  2.032  2.4   \n",
       "\n",
       "     x45    x46    x47    x48    x49    x50    x51    x52       x53       x54  \\\n",
       "0  0.625  0.250  0.125  0.000  0.813  0.074  0.634  0.548  0.235333  0.264952   \n",
       "1  0.409  0.619  0.579  0.248  0.346  0.541  0.522  0.000  1.782346  1.322409   \n",
       "2  1.000  1.000  1.000  1.000  1.000  0.520  0.533  0.835 -0.586540  0.672436   \n",
       "3  0.000  0.000  0.000  0.000  0.000  1.000  0.000  0.000 -1.600326 -1.838680   \n",
       "4  0.348  0.762  0.550  0.392  0.489  0.517  1.000  0.642  0.960991  0.790990   \n",
       "\n",
       "        x55       x56       x57       x58       x59       x60    x61  y  \n",
       "0  0.000000  0.333333  0.333333  0.333333  0.000000  0.000000    9.0  2  \n",
       "1  0.011647  0.397671  0.239601  0.249584  0.068220  0.033278  601.0  4  \n",
       "2  0.000000  0.606061  0.121212  0.212121  0.060606  0.000000   33.0  3  \n",
       "3  0.000000  1.000000  0.000000  0.000000  0.000000  0.000000    1.0  4  \n",
       "4  0.020161  0.645161  0.258065  0.036290  0.040323  0.000000  248.0  3  "
      ]
     },
     "execution_count": 64,
     "metadata": {},
     "output_type": "execute_result"
    }
   ],
   "source": [
    "DATA_FOLDER = # your path here\n",
    "anon_train = pd.read_csv(os.path.join(DATA_FOLDER, 'anon_train.csv'))\n",
    "anon_train.head()"
   ]
  },
  {
   "cell_type": "markdown",
   "metadata": {},
   "source": [
    "this can help us to explore numeric fatures statistics.\n"
   ]
  },
  {
   "cell_type": "code",
   "execution_count": 65,
   "metadata": {},
   "outputs": [
    {
     "data": {
      "text/html": [
       "<div>\n",
       "<style scoped>\n",
       "    .dataframe tbody tr th:only-of-type {\n",
       "        vertical-align: middle;\n",
       "    }\n",
       "\n",
       "    .dataframe tbody tr th {\n",
       "        vertical-align: top;\n",
       "    }\n",
       "\n",
       "    .dataframe thead th {\n",
       "        text-align: right;\n",
       "    }\n",
       "</style>\n",
       "<table border=\"1\" class=\"dataframe\">\n",
       "  <thead>\n",
       "    <tr style=\"text-align: right;\">\n",
       "      <th></th>\n",
       "      <th>count</th>\n",
       "      <th>mean</th>\n",
       "      <th>std</th>\n",
       "      <th>min</th>\n",
       "      <th>25%</th>\n",
       "      <th>50%</th>\n",
       "      <th>75%</th>\n",
       "      <th>max</th>\n",
       "    </tr>\n",
       "  </thead>\n",
       "  <tbody>\n",
       "    <tr>\n",
       "      <td>x6</td>\n",
       "      <td>50000.0</td>\n",
       "      <td>0.992960</td>\n",
       "      <td>0.083610</td>\n",
       "      <td>0.000000</td>\n",
       "      <td>1.000000</td>\n",
       "      <td>1.000000</td>\n",
       "      <td>1.000000</td>\n",
       "      <td>1.000000</td>\n",
       "    </tr>\n",
       "    <tr>\n",
       "      <td>x7</td>\n",
       "      <td>50000.0</td>\n",
       "      <td>0.975860</td>\n",
       "      <td>0.153485</td>\n",
       "      <td>0.000000</td>\n",
       "      <td>1.000000</td>\n",
       "      <td>1.000000</td>\n",
       "      <td>1.000000</td>\n",
       "      <td>1.000000</td>\n",
       "    </tr>\n",
       "    <tr>\n",
       "      <td>x8</td>\n",
       "      <td>48793.0</td>\n",
       "      <td>-0.000252</td>\n",
       "      <td>1.023282</td>\n",
       "      <td>-85.252444</td>\n",
       "      <td>-0.255490</td>\n",
       "      <td>0.221047</td>\n",
       "      <td>0.567620</td>\n",
       "      <td>3.426844</td>\n",
       "    </tr>\n",
       "    <tr>\n",
       "      <td>x13</td>\n",
       "      <td>45512.0</td>\n",
       "      <td>4428.915253</td>\n",
       "      <td>10943.884658</td>\n",
       "      <td>-99.000000</td>\n",
       "      <td>0.000000</td>\n",
       "      <td>1817.000000</td>\n",
       "      <td>5582.000000</td>\n",
       "      <td>776759.000000</td>\n",
       "    </tr>\n",
       "    <tr>\n",
       "      <td>x23</td>\n",
       "      <td>48122.0</td>\n",
       "      <td>35.961299</td>\n",
       "      <td>6.819859</td>\n",
       "      <td>15.226228</td>\n",
       "      <td>30.789115</td>\n",
       "      <td>36.597900</td>\n",
       "      <td>41.096434</td>\n",
       "      <td>135.063367</td>\n",
       "    </tr>\n",
       "    <tr>\n",
       "      <td>x24</td>\n",
       "      <td>48122.0</td>\n",
       "      <td>-0.006380</td>\n",
       "      <td>0.968346</td>\n",
       "      <td>-1.310465</td>\n",
       "      <td>-0.606190</td>\n",
       "      <td>-0.239545</td>\n",
       "      <td>0.284950</td>\n",
       "      <td>34.899154</td>\n",
       "    </tr>\n",
       "    <tr>\n",
       "      <td>x25</td>\n",
       "      <td>48122.0</td>\n",
       "      <td>-0.005182</td>\n",
       "      <td>0.947373</td>\n",
       "      <td>-0.817005</td>\n",
       "      <td>-0.540656</td>\n",
       "      <td>-0.223776</td>\n",
       "      <td>0.242333</td>\n",
       "      <td>38.146887</td>\n",
       "    </tr>\n",
       "    <tr>\n",
       "      <td>x26</td>\n",
       "      <td>48122.0</td>\n",
       "      <td>3.652688</td>\n",
       "      <td>3.427215</td>\n",
       "      <td>0.000000</td>\n",
       "      <td>1.333333</td>\n",
       "      <td>2.833333</td>\n",
       "      <td>5.000000</td>\n",
       "      <td>59.833333</td>\n",
       "    </tr>\n",
       "    <tr>\n",
       "      <td>x27</td>\n",
       "      <td>48122.0</td>\n",
       "      <td>0.006831</td>\n",
       "      <td>1.012709</td>\n",
       "      <td>-0.791959</td>\n",
       "      <td>-0.497977</td>\n",
       "      <td>-0.300303</td>\n",
       "      <td>0.133800</td>\n",
       "      <td>28.814227</td>\n",
       "    </tr>\n",
       "    <tr>\n",
       "      <td>x28</td>\n",
       "      <td>48122.0</td>\n",
       "      <td>0.002051</td>\n",
       "      <td>1.012566</td>\n",
       "      <td>-0.908422</td>\n",
       "      <td>-0.558758</td>\n",
       "      <td>-0.267042</td>\n",
       "      <td>0.246062</td>\n",
       "      <td>32.699880</td>\n",
       "    </tr>\n",
       "    <tr>\n",
       "      <td>x29</td>\n",
       "      <td>48122.0</td>\n",
       "      <td>42.403973</td>\n",
       "      <td>115.348318</td>\n",
       "      <td>0.000000</td>\n",
       "      <td>1.666667</td>\n",
       "      <td>10.833333</td>\n",
       "      <td>39.833333</td>\n",
       "      <td>9124.000000</td>\n",
       "    </tr>\n",
       "    <tr>\n",
       "      <td>x30</td>\n",
       "      <td>48122.0</td>\n",
       "      <td>579.852204</td>\n",
       "      <td>1801.837511</td>\n",
       "      <td>0.000000</td>\n",
       "      <td>0.000000</td>\n",
       "      <td>0.997070</td>\n",
       "      <td>440.343140</td>\n",
       "      <td>64304.962728</td>\n",
       "    </tr>\n",
       "    <tr>\n",
       "      <td>x31</td>\n",
       "      <td>48122.0</td>\n",
       "      <td>43.258414</td>\n",
       "      <td>67.114470</td>\n",
       "      <td>-170.424427</td>\n",
       "      <td>0.000000</td>\n",
       "      <td>28.000000</td>\n",
       "      <td>62.000000</td>\n",
       "      <td>1512.000000</td>\n",
       "    </tr>\n",
       "    <tr>\n",
       "      <td>x32</td>\n",
       "      <td>48122.0</td>\n",
       "      <td>0.389604</td>\n",
       "      <td>0.666991</td>\n",
       "      <td>0.000000</td>\n",
       "      <td>0.000000</td>\n",
       "      <td>0.000000</td>\n",
       "      <td>0.500000</td>\n",
       "      <td>6.000000</td>\n",
       "    </tr>\n",
       "    <tr>\n",
       "      <td>x33</td>\n",
       "      <td>48122.0</td>\n",
       "      <td>12.779810</td>\n",
       "      <td>10.329016</td>\n",
       "      <td>0.000000</td>\n",
       "      <td>6.000000</td>\n",
       "      <td>12.000000</td>\n",
       "      <td>18.000000</td>\n",
       "      <td>76.000000</td>\n",
       "    </tr>\n",
       "    <tr>\n",
       "      <td>x34</td>\n",
       "      <td>48122.0</td>\n",
       "      <td>0.437430</td>\n",
       "      <td>0.496075</td>\n",
       "      <td>0.000000</td>\n",
       "      <td>0.000000</td>\n",
       "      <td>0.000000</td>\n",
       "      <td>1.000000</td>\n",
       "      <td>1.000000</td>\n",
       "    </tr>\n",
       "    <tr>\n",
       "      <td>x35</td>\n",
       "      <td>48122.0</td>\n",
       "      <td>0.277237</td>\n",
       "      <td>0.378817</td>\n",
       "      <td>0.000000</td>\n",
       "      <td>0.000000</td>\n",
       "      <td>0.000000</td>\n",
       "      <td>0.500000</td>\n",
       "      <td>1.000000</td>\n",
       "    </tr>\n",
       "    <tr>\n",
       "      <td>x36</td>\n",
       "      <td>48122.0</td>\n",
       "      <td>3.571173</td>\n",
       "      <td>2.917735</td>\n",
       "      <td>0.000000</td>\n",
       "      <td>2.000000</td>\n",
       "      <td>3.000000</td>\n",
       "      <td>5.000000</td>\n",
       "      <td>75.000000</td>\n",
       "    </tr>\n",
       "    <tr>\n",
       "      <td>x37</td>\n",
       "      <td>48122.0</td>\n",
       "      <td>49.567537</td>\n",
       "      <td>58.887573</td>\n",
       "      <td>0.000000</td>\n",
       "      <td>17.000000</td>\n",
       "      <td>33.000000</td>\n",
       "      <td>61.000000</td>\n",
       "      <td>1724.000000</td>\n",
       "    </tr>\n",
       "    <tr>\n",
       "      <td>x38</td>\n",
       "      <td>48122.0</td>\n",
       "      <td>0.770832</td>\n",
       "      <td>2.364021</td>\n",
       "      <td>0.000000</td>\n",
       "      <td>0.000000</td>\n",
       "      <td>0.000000</td>\n",
       "      <td>1.000000</td>\n",
       "      <td>364.000000</td>\n",
       "    </tr>\n",
       "    <tr>\n",
       "      <td>x39</td>\n",
       "      <td>48122.0</td>\n",
       "      <td>2.463073</td>\n",
       "      <td>2.016375</td>\n",
       "      <td>0.000000</td>\n",
       "      <td>1.000000</td>\n",
       "      <td>2.000000</td>\n",
       "      <td>3.000000</td>\n",
       "      <td>50.000000</td>\n",
       "    </tr>\n",
       "    <tr>\n",
       "      <td>x40</td>\n",
       "      <td>44392.0</td>\n",
       "      <td>34.221346</td>\n",
       "      <td>25.403449</td>\n",
       "      <td>0.000000</td>\n",
       "      <td>19.000000</td>\n",
       "      <td>29.000000</td>\n",
       "      <td>43.000000</td>\n",
       "      <td>1110.000000</td>\n",
       "    </tr>\n",
       "    <tr>\n",
       "      <td>x41</td>\n",
       "      <td>44392.0</td>\n",
       "      <td>6.597968</td>\n",
       "      <td>4.054533</td>\n",
       "      <td>0.080000</td>\n",
       "      <td>3.580000</td>\n",
       "      <td>6.420000</td>\n",
       "      <td>9.250000</td>\n",
       "      <td>19.670000</td>\n",
       "    </tr>\n",
       "    <tr>\n",
       "      <td>x42</td>\n",
       "      <td>44392.0</td>\n",
       "      <td>0.216892</td>\n",
       "      <td>0.133338</td>\n",
       "      <td>0.000000</td>\n",
       "      <td>0.120000</td>\n",
       "      <td>0.210000</td>\n",
       "      <td>0.300000</td>\n",
       "      <td>0.650000</td>\n",
       "    </tr>\n",
       "    <tr>\n",
       "      <td>x43</td>\n",
       "      <td>47844.0</td>\n",
       "      <td>1.220218</td>\n",
       "      <td>1.185721</td>\n",
       "      <td>0.000000</td>\n",
       "      <td>0.387000</td>\n",
       "      <td>0.935000</td>\n",
       "      <td>1.677000</td>\n",
       "      <td>29.774000</td>\n",
       "    </tr>\n",
       "    <tr>\n",
       "      <td>x44</td>\n",
       "      <td>47844.0</td>\n",
       "      <td>1.320074</td>\n",
       "      <td>1.422262</td>\n",
       "      <td>0.000000</td>\n",
       "      <td>0.400000</td>\n",
       "      <td>1.000000</td>\n",
       "      <td>1.800000</td>\n",
       "      <td>36.400000</td>\n",
       "    </tr>\n",
       "    <tr>\n",
       "      <td>x45</td>\n",
       "      <td>47844.0</td>\n",
       "      <td>0.540541</td>\n",
       "      <td>0.340594</td>\n",
       "      <td>0.000000</td>\n",
       "      <td>0.286000</td>\n",
       "      <td>0.538000</td>\n",
       "      <td>0.833000</td>\n",
       "      <td>1.000000</td>\n",
       "    </tr>\n",
       "    <tr>\n",
       "      <td>x46</td>\n",
       "      <td>47844.0</td>\n",
       "      <td>0.521335</td>\n",
       "      <td>0.352398</td>\n",
       "      <td>0.000000</td>\n",
       "      <td>0.250000</td>\n",
       "      <td>0.500000</td>\n",
       "      <td>0.833000</td>\n",
       "      <td>1.000000</td>\n",
       "    </tr>\n",
       "    <tr>\n",
       "      <td>x47</td>\n",
       "      <td>47844.0</td>\n",
       "      <td>0.504619</td>\n",
       "      <td>0.361136</td>\n",
       "      <td>0.000000</td>\n",
       "      <td>0.191500</td>\n",
       "      <td>0.500000</td>\n",
       "      <td>0.818000</td>\n",
       "      <td>1.000000</td>\n",
       "    </tr>\n",
       "    <tr>\n",
       "      <td>x48</td>\n",
       "      <td>47844.0</td>\n",
       "      <td>0.470327</td>\n",
       "      <td>0.381034</td>\n",
       "      <td>0.000000</td>\n",
       "      <td>0.000000</td>\n",
       "      <td>0.468000</td>\n",
       "      <td>0.841000</td>\n",
       "      <td>1.000000</td>\n",
       "    </tr>\n",
       "    <tr>\n",
       "      <td>x49</td>\n",
       "      <td>47844.0</td>\n",
       "      <td>0.460443</td>\n",
       "      <td>0.381774</td>\n",
       "      <td>0.000000</td>\n",
       "      <td>0.000000</td>\n",
       "      <td>0.454000</td>\n",
       "      <td>0.822000</td>\n",
       "      <td>1.000000</td>\n",
       "    </tr>\n",
       "    <tr>\n",
       "      <td>x50</td>\n",
       "      <td>47844.0</td>\n",
       "      <td>0.464305</td>\n",
       "      <td>0.385583</td>\n",
       "      <td>0.000000</td>\n",
       "      <td>0.000000</td>\n",
       "      <td>0.461000</td>\n",
       "      <td>0.846000</td>\n",
       "      <td>1.000000</td>\n",
       "    </tr>\n",
       "    <tr>\n",
       "      <td>x51</td>\n",
       "      <td>47844.0</td>\n",
       "      <td>0.461837</td>\n",
       "      <td>0.388054</td>\n",
       "      <td>0.000000</td>\n",
       "      <td>0.000000</td>\n",
       "      <td>0.457000</td>\n",
       "      <td>0.851000</td>\n",
       "      <td>1.000000</td>\n",
       "    </tr>\n",
       "    <tr>\n",
       "      <td>x52</td>\n",
       "      <td>47844.0</td>\n",
       "      <td>0.464293</td>\n",
       "      <td>0.390805</td>\n",
       "      <td>0.000000</td>\n",
       "      <td>0.000000</td>\n",
       "      <td>0.457000</td>\n",
       "      <td>0.879000</td>\n",
       "      <td>1.000000</td>\n",
       "    </tr>\n",
       "    <tr>\n",
       "      <td>x53</td>\n",
       "      <td>47844.0</td>\n",
       "      <td>-0.000686</td>\n",
       "      <td>0.999981</td>\n",
       "      <td>-1.600355</td>\n",
       "      <td>-0.697021</td>\n",
       "      <td>-0.080427</td>\n",
       "      <td>0.624234</td>\n",
       "      <td>3.473768</td>\n",
       "    </tr>\n",
       "    <tr>\n",
       "      <td>x54</td>\n",
       "      <td>47844.0</td>\n",
       "      <td>-0.003266</td>\n",
       "      <td>1.000475</td>\n",
       "      <td>-1.838682</td>\n",
       "      <td>-0.731589</td>\n",
       "      <td>-0.011984</td>\n",
       "      <td>0.804853</td>\n",
       "      <td>2.242850</td>\n",
       "    </tr>\n",
       "    <tr>\n",
       "      <td>x55</td>\n",
       "      <td>46126.0</td>\n",
       "      <td>0.046325</td>\n",
       "      <td>0.130912</td>\n",
       "      <td>0.000000</td>\n",
       "      <td>0.000000</td>\n",
       "      <td>0.000000</td>\n",
       "      <td>0.018349</td>\n",
       "      <td>1.000000</td>\n",
       "    </tr>\n",
       "    <tr>\n",
       "      <td>x56</td>\n",
       "      <td>46126.0</td>\n",
       "      <td>0.298044</td>\n",
       "      <td>0.300326</td>\n",
       "      <td>0.000000</td>\n",
       "      <td>0.037037</td>\n",
       "      <td>0.193182</td>\n",
       "      <td>0.500000</td>\n",
       "      <td>1.000000</td>\n",
       "    </tr>\n",
       "    <tr>\n",
       "      <td>x57</td>\n",
       "      <td>46126.0</td>\n",
       "      <td>0.286040</td>\n",
       "      <td>0.291669</td>\n",
       "      <td>0.000000</td>\n",
       "      <td>0.035714</td>\n",
       "      <td>0.181818</td>\n",
       "      <td>0.481013</td>\n",
       "      <td>1.000000</td>\n",
       "    </tr>\n",
       "    <tr>\n",
       "      <td>x58</td>\n",
       "      <td>46126.0</td>\n",
       "      <td>0.201557</td>\n",
       "      <td>0.256582</td>\n",
       "      <td>0.000000</td>\n",
       "      <td>0.008065</td>\n",
       "      <td>0.086207</td>\n",
       "      <td>0.304348</td>\n",
       "      <td>1.000000</td>\n",
       "    </tr>\n",
       "    <tr>\n",
       "      <td>x59</td>\n",
       "      <td>46126.0</td>\n",
       "      <td>0.116578</td>\n",
       "      <td>0.203317</td>\n",
       "      <td>0.000000</td>\n",
       "      <td>0.000000</td>\n",
       "      <td>0.022727</td>\n",
       "      <td>0.129900</td>\n",
       "      <td>1.000000</td>\n",
       "    </tr>\n",
       "    <tr>\n",
       "      <td>x60</td>\n",
       "      <td>46126.0</td>\n",
       "      <td>0.051234</td>\n",
       "      <td>0.139306</td>\n",
       "      <td>0.000000</td>\n",
       "      <td>0.000000</td>\n",
       "      <td>0.000000</td>\n",
       "      <td>0.025157</td>\n",
       "      <td>1.000000</td>\n",
       "    </tr>\n",
       "    <tr>\n",
       "      <td>x61</td>\n",
       "      <td>46126.0</td>\n",
       "      <td>161.143910</td>\n",
       "      <td>186.923802</td>\n",
       "      <td>1.000000</td>\n",
       "      <td>37.000000</td>\n",
       "      <td>105.000000</td>\n",
       "      <td>220.000000</td>\n",
       "      <td>5462.000000</td>\n",
       "    </tr>\n",
       "    <tr>\n",
       "      <td>y</td>\n",
       "      <td>50000.0</td>\n",
       "      <td>3.108880</td>\n",
       "      <td>1.217479</td>\n",
       "      <td>0.000000</td>\n",
       "      <td>2.000000</td>\n",
       "      <td>3.000000</td>\n",
       "      <td>4.000000</td>\n",
       "      <td>6.000000</td>\n",
       "    </tr>\n",
       "  </tbody>\n",
       "</table>\n",
       "</div>"
      ],
      "text/plain": [
       "       count         mean           std         min        25%          50%  \\\n",
       "x6   50000.0     0.992960      0.083610    0.000000   1.000000     1.000000   \n",
       "x7   50000.0     0.975860      0.153485    0.000000   1.000000     1.000000   \n",
       "x8   48793.0    -0.000252      1.023282  -85.252444  -0.255490     0.221047   \n",
       "x13  45512.0  4428.915253  10943.884658  -99.000000   0.000000  1817.000000   \n",
       "x23  48122.0    35.961299      6.819859   15.226228  30.789115    36.597900   \n",
       "x24  48122.0    -0.006380      0.968346   -1.310465  -0.606190    -0.239545   \n",
       "x25  48122.0    -0.005182      0.947373   -0.817005  -0.540656    -0.223776   \n",
       "x26  48122.0     3.652688      3.427215    0.000000   1.333333     2.833333   \n",
       "x27  48122.0     0.006831      1.012709   -0.791959  -0.497977    -0.300303   \n",
       "x28  48122.0     0.002051      1.012566   -0.908422  -0.558758    -0.267042   \n",
       "x29  48122.0    42.403973    115.348318    0.000000   1.666667    10.833333   \n",
       "x30  48122.0   579.852204   1801.837511    0.000000   0.000000     0.997070   \n",
       "x31  48122.0    43.258414     67.114470 -170.424427   0.000000    28.000000   \n",
       "x32  48122.0     0.389604      0.666991    0.000000   0.000000     0.000000   \n",
       "x33  48122.0    12.779810     10.329016    0.000000   6.000000    12.000000   \n",
       "x34  48122.0     0.437430      0.496075    0.000000   0.000000     0.000000   \n",
       "x35  48122.0     0.277237      0.378817    0.000000   0.000000     0.000000   \n",
       "x36  48122.0     3.571173      2.917735    0.000000   2.000000     3.000000   \n",
       "x37  48122.0    49.567537     58.887573    0.000000  17.000000    33.000000   \n",
       "x38  48122.0     0.770832      2.364021    0.000000   0.000000     0.000000   \n",
       "x39  48122.0     2.463073      2.016375    0.000000   1.000000     2.000000   \n",
       "x40  44392.0    34.221346     25.403449    0.000000  19.000000    29.000000   \n",
       "x41  44392.0     6.597968      4.054533    0.080000   3.580000     6.420000   \n",
       "x42  44392.0     0.216892      0.133338    0.000000   0.120000     0.210000   \n",
       "x43  47844.0     1.220218      1.185721    0.000000   0.387000     0.935000   \n",
       "x44  47844.0     1.320074      1.422262    0.000000   0.400000     1.000000   \n",
       "x45  47844.0     0.540541      0.340594    0.000000   0.286000     0.538000   \n",
       "x46  47844.0     0.521335      0.352398    0.000000   0.250000     0.500000   \n",
       "x47  47844.0     0.504619      0.361136    0.000000   0.191500     0.500000   \n",
       "x48  47844.0     0.470327      0.381034    0.000000   0.000000     0.468000   \n",
       "x49  47844.0     0.460443      0.381774    0.000000   0.000000     0.454000   \n",
       "x50  47844.0     0.464305      0.385583    0.000000   0.000000     0.461000   \n",
       "x51  47844.0     0.461837      0.388054    0.000000   0.000000     0.457000   \n",
       "x52  47844.0     0.464293      0.390805    0.000000   0.000000     0.457000   \n",
       "x53  47844.0    -0.000686      0.999981   -1.600355  -0.697021    -0.080427   \n",
       "x54  47844.0    -0.003266      1.000475   -1.838682  -0.731589    -0.011984   \n",
       "x55  46126.0     0.046325      0.130912    0.000000   0.000000     0.000000   \n",
       "x56  46126.0     0.298044      0.300326    0.000000   0.037037     0.193182   \n",
       "x57  46126.0     0.286040      0.291669    0.000000   0.035714     0.181818   \n",
       "x58  46126.0     0.201557      0.256582    0.000000   0.008065     0.086207   \n",
       "x59  46126.0     0.116578      0.203317    0.000000   0.000000     0.022727   \n",
       "x60  46126.0     0.051234      0.139306    0.000000   0.000000     0.000000   \n",
       "x61  46126.0   161.143910    186.923802    1.000000  37.000000   105.000000   \n",
       "y    50000.0     3.108880      1.217479    0.000000   2.000000     3.000000   \n",
       "\n",
       "             75%            max  \n",
       "x6      1.000000       1.000000  \n",
       "x7      1.000000       1.000000  \n",
       "x8      0.567620       3.426844  \n",
       "x13  5582.000000  776759.000000  \n",
       "x23    41.096434     135.063367  \n",
       "x24     0.284950      34.899154  \n",
       "x25     0.242333      38.146887  \n",
       "x26     5.000000      59.833333  \n",
       "x27     0.133800      28.814227  \n",
       "x28     0.246062      32.699880  \n",
       "x29    39.833333    9124.000000  \n",
       "x30   440.343140   64304.962728  \n",
       "x31    62.000000    1512.000000  \n",
       "x32     0.500000       6.000000  \n",
       "x33    18.000000      76.000000  \n",
       "x34     1.000000       1.000000  \n",
       "x35     0.500000       1.000000  \n",
       "x36     5.000000      75.000000  \n",
       "x37    61.000000    1724.000000  \n",
       "x38     1.000000     364.000000  \n",
       "x39     3.000000      50.000000  \n",
       "x40    43.000000    1110.000000  \n",
       "x41     9.250000      19.670000  \n",
       "x42     0.300000       0.650000  \n",
       "x43     1.677000      29.774000  \n",
       "x44     1.800000      36.400000  \n",
       "x45     0.833000       1.000000  \n",
       "x46     0.833000       1.000000  \n",
       "x47     0.818000       1.000000  \n",
       "x48     0.841000       1.000000  \n",
       "x49     0.822000       1.000000  \n",
       "x50     0.846000       1.000000  \n",
       "x51     0.851000       1.000000  \n",
       "x52     0.879000       1.000000  \n",
       "x53     0.624234       3.473768  \n",
       "x54     0.804853       2.242850  \n",
       "x55     0.018349       1.000000  \n",
       "x56     0.500000       1.000000  \n",
       "x57     0.481013       1.000000  \n",
       "x58     0.304348       1.000000  \n",
       "x59     0.129900       1.000000  \n",
       "x60     0.025157       1.000000  \n",
       "x61   220.000000    5462.000000  \n",
       "y       4.000000       6.000000  "
      ]
     },
     "execution_count": 65,
     "metadata": {},
     "output_type": "execute_result"
    }
   ],
   "source": [
    "anon_train.describe().T"
   ]
  },
  {
   "cell_type": "markdown",
   "metadata": {},
   "source": [
    "Sometimes it's a good idea to introduce new features. We can understand something about the generation process of data fi we generate the following feature, that we will call Error. If in the row there are NaN the feature will be 1 otherwise 0."
   ]
  },
  {
   "cell_type": "code",
   "execution_count": 66,
   "metadata": {},
   "outputs": [
    {
     "name": "stdout",
     "output_type": "stream",
     "text": [
      "32761\n",
      "17239\n"
     ]
    }
   ],
   "source": [
    "anon_train['Error'] = anon_train.isna().any(axis=1)\n",
    "\n",
    "# check how the new feature is distributed\n",
    "\n",
    "false_count = (~anon_train.Error).sum()\n",
    "print(false_count)\n",
    "true_count = (anon_train.Error).sum()\n",
    "print(true_count)"
   ]
  },
  {
   "cell_type": "markdown",
   "metadata": {},
   "source": [
    "At least we have a feature that is known!\n",
    "\n",
    "Since we do not know what all the rest of data are, we can try do build a quick baseline with a toy model. At the moment, we don't need to precisely know what the model does but if you care give look at:\n",
    "\n",
    "https://en.wikipedia.org/wiki/Random_forest\n",
    "\n",
    "https://scikit-learn.org/stable/modules/generated/sklearn.ensemble.RandomForestClassifier.html\n",
    "\n",
    "The only thing we know about data is that the task they give us is a multiple classification. We can easily split the dataframe in features and target and use proper copies to work with. \n",
    "\n",
    "Never forget to fill the missing values! Here we are adopting an easy solution: we are filling then nans with an outlier value, but one could decide, if you are considering numerical features, tho fill it with the mean value. There is no limit to your immagination and what you can do. For example, if you want to drop your dataset you could fill all the features that you can and only in the last step remove the entries with missing values which, at this point, may be far less that the beginning. Obviously you introduced a bias in you rada and its on you to decide how to hande this kind of situation."
   ]
  },
  {
   "cell_type": "code",
   "execution_count": 67,
   "metadata": {},
   "outputs": [],
   "source": [
    "from sklearn.ensemble import RandomForestClassifier\n",
    "\n",
    "# Create a copy to work with\n",
    "X = anon_train.copy()\n",
    "\n",
    "# Save and drop labels\n",
    "y = anon_train.y\n",
    "X = X.drop('y', axis=1)\n",
    "\n",
    "# fill NANs \n",
    "X = X.fillna(-999)"
   ]
  },
  {
   "cell_type": "markdown",
   "metadata": {},
   "source": [
    "The factorize method is useful for obtaining a numeric representation of an array when all that matters is identifying distinct values. We are encoding the target values in a manner tht is easy to interpretate for us and faster to process for the algorithm."
   ]
  },
  {
   "cell_type": "code",
   "execution_count": 68,
   "metadata": {},
   "outputs": [
    {
     "name": "stderr",
     "output_type": "stream",
     "text": [
      "/home/jacopo/anaconda3/lib/python3.7/site-packages/sklearn/ensemble/forest.py:245: FutureWarning: The default value of n_estimators will change from 10 in version 0.20 to 100 in 0.22.\n",
      "  \"10 in version 0.20 to 100 in 0.22.\", FutureWarning)\n"
     ]
    },
    {
     "data": {
      "text/plain": [
       "RandomForestClassifier(bootstrap=True, class_weight=None, criterion='gini',\n",
       "                       max_depth=None, max_features='auto', max_leaf_nodes=None,\n",
       "                       min_impurity_decrease=0.0, min_impurity_split=None,\n",
       "                       min_samples_leaf=1, min_samples_split=2,\n",
       "                       min_weight_fraction_leaf=0.0, n_estimators=10,\n",
       "                       n_jobs=None, oob_score=False, random_state=None,\n",
       "                       verbose=0, warm_start=False)"
      ]
     },
     "execution_count": 68,
     "metadata": {},
     "output_type": "execute_result"
    }
   ],
   "source": [
    "# Label encoder\n",
    "\n",
    "for c in anon_train.columns[anon_train.dtypes == 'object']:\n",
    "    X[c] = X[c].factorize()[0]\n",
    "    \n",
    "rf = RandomForestClassifier()\n",
    "rf.fit(X,y)"
   ]
  },
  {
   "cell_type": "markdown",
   "metadata": {},
   "source": [
    "Once the classifier is fitted it contains a data representation that we can investigate. Random forest allow a so friendly representation that is possible to plot. There will be less or more important features on which we will focus: in this case the most informative feature about our data is the X8:"
   ]
  },
  {
   "cell_type": "code",
   "execution_count": 69,
   "metadata": {},
   "outputs": [
    {
     "data": {
      "image/png": "[encoded data removed]",
      "text/plain": [
       "<Figure size 432x288 with 1 Axes>"
      ]
     },
     "metadata": {
      "needs_background": "light"
     },
     "output_type": "display_data"
    }
   ],
   "source": [
    "plt.plot(rf.feature_importances_,'bo')\n",
    "plt.xticks(np.arange(X.shape[1]), X.columns.tolist(), rotation=90);"
   ]
  },
  {
   "cell_type": "markdown",
   "metadata": {},
   "source": [
    "Let's focus on the \"most important feature\", according to our baseline. We can easily check that is standard scaled. This scaling is only almost exact since the mean and the std are not exaclty 0 and 1; this could mean that the whole dataset (train adn test) was generated and then split. If true this could mean that we are allowed to overfit a little more than if train and test set were generated with different procedures. "
   ]
  },
  {
   "cell_type": "code",
   "execution_count": 70,
   "metadata": {},
   "outputs": [
    {
     "name": "stdout",
     "output_type": "stream",
     "text": [
      "Mean: -0.00025235202862197324\n",
      "Std: 1.023281636012582\n"
     ]
    }
   ],
   "source": [
    "print( 'Mean:', anon_train.x8.mean())\n",
    "print( 'Std:', anon_train.x8.std())"
   ]
  },
  {
   "cell_type": "markdown",
   "metadata": {},
   "source": [
    "Are there repeated values? Yes, a lot! The first 15 appear thousand of times each. This could mean that we are in front of an integer feature, shifted by a non integer constant."
   ]
  },
  {
   "cell_type": "code",
   "execution_count": 72,
   "metadata": {},
   "outputs": [
    {
     "data": {
      "text/plain": [
       "-2.984750    2770\n",
       " 0.480977    2569\n",
       " 0.610941    1828\n",
       " 0.654263    1759\n",
       " 0.567620    1746\n",
       " 0.697585    1691\n",
       " 0.524298    1639\n",
       " 0.740906    1628\n",
       " 0.394333    1610\n",
       " 0.437655    1513\n",
       " 0.351012    1450\n",
       " 0.264369    1429\n",
       " 0.307690    1401\n",
       " 0.221047    1372\n",
       " 0.784228    1293\n",
       "Name: x8, dtype: int64"
      ]
     },
     "execution_count": 72,
     "metadata": {},
     "output_type": "execute_result"
    }
   ],
   "source": [
    "anon_train.x8.value_counts().head(15)"
   ]
  },
  {
   "cell_type": "markdown",
   "metadata": {},
   "source": [
    "The original feature was multiplied by a number and then shifted. We already understood that this shift is not an integer and that the variable is likely to be integer. \n",
    "\n",
    "We can formalize our intuition as follows:\n",
    "Let be $X$ the (standard scaled) feature we want to scale back. Our hypothesis is that the original feature $Z$ can be obtained from the current with the transformation:\n",
    "\n",
    "$ Z = \\mu + \\sigma X = <Z> + \\sigma_Z X$\n",
    "\n",
    "Now our aim is to obtain $<Z>$ and $ \\sigma_Z $, we will do it by an ansatz solution.\n",
    "So far, the two quantities follow two normal distribution, with different parameters:\n",
    "\n",
    "$$ X \\sim N(0,1) \\quad Z \\sim N(\\mu,\\sigma)$$\n",
    "\n",
    "First we sort the array of unique values of $X$.\n",
    "If we print the difference between two consecutive entries we can imediately notice that the difference is a constant, that was the same in the original data too.\n",
    "It was probably not 0.043 something, it could be 9 or 11 or 11.7, but it was the same between all the pairs, and our ansatz is that it was 1.\n",
    "If we divide our feature by this number, we see that the differences become close to 1."
   ]
  },
  {
   "cell_type": "code",
   "execution_count": 74,
   "metadata": {},
   "outputs": [
    {
     "data": {
      "text/plain": [
       "array([43.27826527, 38.98942817,  0.21660793,  0.04332159,  0.17328635,\n",
       "        0.21660793,  0.08664317,  0.04332159,  0.04332159,  0.04332159,\n",
       "        0.04332159,  0.04332159,  0.04332159,  0.04332159,  0.04332159,\n",
       "        0.04332159,  0.04332159,  0.04332159,  0.04332159,  0.04332159,\n",
       "        0.04332159,  0.04332159,  0.04332159,  0.04332159,  0.04332159,\n",
       "        0.04332159,  0.04332159,  0.04332159,  0.04332159,  0.04332159,\n",
       "        0.04332159,  0.04332159,  0.04332159,  0.04332159,  0.04332159,\n",
       "        0.04332159,  0.04332159,  0.04332159,  0.04332159,  0.04332159,\n",
       "        0.04332159,  0.04332159,  0.04332159,  0.04332159,  0.04332159,\n",
       "        0.04332159,  0.04332159,  0.04332159,  0.04332159,  0.04332159,\n",
       "        0.04332159,  0.04332159,  0.04332159,  0.04332159,  0.04332159,\n",
       "        0.04332159,  0.04332159,  0.04332159,  0.04332159,  0.04332159,\n",
       "        0.04332159,  0.04332159,  0.04332159,  0.04332159,  0.04332159,\n",
       "        0.04332159,  0.04332159,  0.04332159,  0.04332159,  0.04332159,\n",
       "        0.04332159,  0.04332159,  0.04332159,  0.04332159,  0.04332159,\n",
       "        0.04332159,  0.04332159,  0.04332159,  0.04332159,  0.04332159,\n",
       "        0.04332159,  0.04332159,  0.04332159,  0.04332159,  0.04332159,\n",
       "        0.04332159,  0.12996476,  0.04332159,  0.04332159,  0.04332159,\n",
       "        0.04332159,  0.04332159,  0.04332159,  0.04332159,  0.21660793,\n",
       "        1.16968285,  0.04332159,  0.38989428,         nan])"
      ]
     },
     "execution_count": 74,
     "metadata": {},
     "output_type": "execute_result"
    }
   ],
   "source": [
    "x8_unique = anon_train.x8.unique()\n",
    "x8_unique_sorted = np.sort(x8_unique)\n",
    "                           \n",
    "np.diff(x8_unique_sorted)"
   ]
  },
  {
   "cell_type": "code",
   "execution_count": 75,
   "metadata": {},
   "outputs": [
    {
     "data": {
      "text/plain": [
       "array([998.99992752, 899.9999347 ,   4.99999964,   0.99999993,\n",
       "         3.99999971,   4.99999964,   1.99999985,   0.99999993,\n",
       "         0.99999993,   0.99999993,   0.99999993,   0.99999993,\n",
       "         0.99999993,   0.99999993,   0.99999993,   0.99999993,\n",
       "         0.99999993,   0.99999993,   0.99999993,   0.99999993,\n",
       "         0.99999993,   0.99999993,   0.99999993,   0.99999993,\n",
       "         0.99999993,   0.99999993,   0.99999993,   0.99999993,\n",
       "         0.99999993,   0.99999993,   0.99999993,   0.99999993,\n",
       "         0.99999993,   0.99999993,   0.99999993,   0.99999993,\n",
       "         0.99999993,   0.99999993,   0.99999993,   0.99999993,\n",
       "         0.99999993,   0.99999993,   0.99999993,   0.99999993,\n",
       "         0.99999993,   0.99999993,   0.99999993,   0.99999993,\n",
       "         0.99999993,   0.99999993,   0.99999993,   0.99999993,\n",
       "         0.99999993,   0.99999993,   0.99999993,   0.99999993,\n",
       "         0.99999993,   0.99999993,   0.99999993,   0.99999993,\n",
       "         0.99999993,   0.99999993,   0.99999993,   0.99999993,\n",
       "         0.99999993,   0.99999993,   0.99999993,   0.99999993,\n",
       "         0.99999993,   0.99999993,   0.99999993,   0.99999993,\n",
       "         0.99999993,   0.99999993,   0.99999993,   0.99999993,\n",
       "         0.99999993,   0.99999993,   0.99999993,   0.99999993,\n",
       "         0.99999993,   0.99999993,   0.99999993,   0.99999993,\n",
       "         0.99999993,   0.99999993,   2.99999978,   0.99999993,\n",
       "         0.99999993,   0.99999993,   0.99999993,   0.99999993,\n",
       "         0.99999993,   0.99999993,   4.99999964,  26.99999804,\n",
       "         0.99999993,   8.99999935,          nan])"
      ]
     },
     "execution_count": 75,
     "metadata": {},
     "output_type": "execute_result"
    }
   ],
   "source": [
    "np.diff(x8_unique_sorted/0.04332159)"
   ]
  },
  {
   "cell_type": "markdown",
   "metadata": {},
   "source": [
    " if we divide our features for 0.43.. this is what we get\n",
    " we can see that all the number ends with the same digits, x.102469 for positive values \n",
    " and about -x.897526 for negative values\n"
   ]
  },
  {
   "cell_type": "code",
   "execution_count": 76,
   "metadata": {},
   "outputs": [
    {
     "data": {
      "text/plain": [
       "0   -15.897530\n",
       "1    20.102468\n",
       "2    10.102468\n",
       "3     0.102469\n",
       "4    11.102468\n",
       "5   -68.897526\n",
       "6    10.102468\n",
       "7    15.102468\n",
       "Name: x8, dtype: float64"
      ]
     },
     "execution_count": 76,
     "metadata": {},
     "output_type": "execute_result"
    }
   ],
   "source": [
    "(anon_train.x8/0.04332159).head(8)"
   ]
  },
  {
   "cell_type": "markdown",
   "metadata": {},
   "source": [
    "subtracting the fractional part our features will be almost integers"
   ]
  },
  {
   "cell_type": "code",
   "execution_count": 77,
   "metadata": {},
   "outputs": [
    {
     "data": {
      "text/plain": [
       "0   -15.999998\n",
       "1    20.000000\n",
       "2    10.000000\n",
       "3     0.000001\n",
       "4    11.000000\n",
       "5   -68.999994\n",
       "6    10.000000\n",
       "7    15.000000\n",
       "8     9.000000\n",
       "9   -68.999994\n",
       "Name: x8, dtype: float64"
      ]
     },
     "execution_count": 77,
     "metadata": {},
     "output_type": "execute_result"
    }
   ],
   "source": [
    "(anon_train.x8/0.04332159 - .102468).head(10)"
   ]
  },
  {
   "cell_type": "code",
   "execution_count": 78,
   "metadata": {},
   "outputs": [
    {
     "data": {
      "text/plain": [
       "0   -16.0\n",
       "1    20.0\n",
       "2    10.0\n",
       "3     0.0\n",
       "4    11.0\n",
       "5   -69.0\n",
       "6    10.0\n",
       "7    15.0\n",
       "8     9.0\n",
       "9   -69.0\n",
       "Name: x8, dtype: float64"
      ]
     },
     "execution_count": 78,
     "metadata": {},
     "output_type": "execute_result"
    }
   ],
   "source": [
    "# round them\n",
    "\n",
    "x8_int = (anon_train.x8/0.04332159 - .102468).round()\n",
    "x8_int.head(10)"
   ]
  },
  {
   "cell_type": "markdown",
   "metadata": {},
   "source": [
    "At this stage we found only the fractional part of the variable $Z$\n",
    "Can we find the integer part? It is not obvious how to proceed but we can improve our intuition about the ansatz (hypothesis to buil) with further exploration"
   ]
  },
  {
   "cell_type": "code",
   "execution_count": 79,
   "metadata": {},
   "outputs": [
    {
     "data": {
      "text/plain": [
       "-69.0    2770\n",
       " 11.0    2569\n",
       " 14.0    1828\n",
       " 15.0    1759\n",
       " 13.0    1746\n",
       "         ... \n",
       " 42.0       1\n",
       "-63.0       1\n",
       "-48.0       1\n",
       "-64.0       1\n",
       " 35.0       1\n",
       "Name: x8, Length: 99, dtype: int64"
      ]
     },
     "execution_count": 79,
     "metadata": {},
     "output_type": "execute_result"
    }
   ],
   "source": [
    "x8_int.value_counts()"
   ]
  },
  {
   "cell_type": "markdown",
   "metadata": {},
   "source": [
    "If we scroll down we will see this, -1968 and it definitely looks like year a of birth. \n",
    "Immediately I have a hypothesis, that this could be a text box where a person should enter his year of birth. We have been guided by mathematics but giving a look the the data values and with a spark of fantasy one can get a reasonable hypothesis.\n",
    "In this entry something wrong happened and the data recording system set a default/error value. So be carefoul with dropping outliers, because they can be the keays to leak your data!\n",
    "\n",
    "And wow, that isn't the key.\n",
    "If we assume the value was originally 0, then the shifting parameter is exactly 1968, let's try it. The outlier remain an outlier but now all the pther values are properly shifted and it's clear that X8 it's a year birth!"
   ]
  },
  {
   "cell_type": "code",
   "execution_count": 80,
   "metadata": {},
   "outputs": [
    {
     "data": {
      "text/plain": [
       "0.0          1\n",
       "999.0        4\n",
       "1899.0    2770\n",
       "1904.0       1\n",
       "1905.0       1\n",
       "          ... \n",
       "2005.0       2\n",
       "2010.0       1\n",
       "2037.0       1\n",
       "2038.0       1\n",
       "2047.0       1\n",
       "Name: x8, Length: 99, dtype: int64"
      ]
     },
     "execution_count": 80,
     "metadata": {},
     "output_type": "execute_result"
    }
   ],
   "source": [
    "(x8_int + 1968.0).value_counts().sort_index()"
   ]
  },
  {
   "cell_type": "markdown",
   "metadata": {},
   "source": [
    "## Something more about decoding\n",
    "\n",
    "The best we can do is to recognize the type of the features.\n",
    "Is it categorical, numeric, text, or something else?\n",
    "Each data type should be treated differently,and more treatment depends on the model we want to use. That is why to make a stronger model, we should know what data we are working with. Even though we cannot understand what the features are about, we should at least detect the types of variables in the data.\n",
    "\n",
    "When the number of columns in data set is small, we can just consider the table, and manually sort the types out. But, what if there are thousand of features in the data set? Pandas offers very useful functions to facilitate our exploration, such as function dtypes that guesses the types for each column in the data frame and sorts the columns according to its guess. The outcome may be four-fold: \n",
    "\n",
    "* float64 for numeric data\n",
    "* int64 for categorical or event counting\n",
    "* datatime64 for time features\n",
    "* object for strings, text ecc..."
   ]
  },
  {
   "cell_type": "code",
   "execution_count": 81,
   "metadata": {},
   "outputs": [
    {
     "data": {
      "text/plain": [
       "x0        object\n",
       "x1        object\n",
       "x2        object\n",
       "x3        object\n",
       "x4        object\n",
       "          ...   \n",
       "x59      float64\n",
       "x60      float64\n",
       "x61      float64\n",
       "y          int64\n",
       "Error       bool\n",
       "Length: 64, dtype: object"
      ]
     },
     "execution_count": 81,
     "metadata": {},
     "output_type": "execute_result"
    }
   ],
   "source": [
    "anon_train.dtypes"
   ]
  },
  {
   "cell_type": "markdown",
   "metadata": {},
   "source": [
    "The truth is that object is quite problematic. We recommend to look directly into your column to improve yous ansatzs.\n",
    "Be careful! The dtype returned by this function can be in contrast with the dtype guessed by dtypes"
   ]
  },
  {
   "cell_type": "code",
   "execution_count": 82,
   "metadata": {},
   "outputs": [
    {
     "data": {
      "text/plain": [
       "aa2f3cd34a    13090\n",
       "cc73658409     3006\n",
       "467f9617a3     1588\n",
       "65d757ad7d     1523\n",
       "bfff7d2d9e     1523\n",
       "              ...  \n",
       "e6b51a9c15       18\n",
       "d4d4b9c606       11\n",
       "6ea3724cfa       10\n",
       "e2f6f3422c        5\n",
       "6e38793f2b        2\n",
       "Name: x0, Length: 85, dtype: int64"
      ]
     },
     "execution_count": 82,
     "metadata": {},
     "output_type": "execute_result"
    }
   ],
   "source": [
    "anon_train.x0.value_counts()"
   ]
  },
  {
   "cell_type": "code",
   "execution_count": 83,
   "metadata": {},
   "outputs": [],
   "source": [
    "anon_num = anon_train.select_dtypes(include=['float64'])"
   ]
  },
  {
   "cell_type": "code",
   "execution_count": 84,
   "metadata": {},
   "outputs": [
    {
     "data": {
      "text/plain": [
       "(50000, 41)"
      ]
     },
     "execution_count": 84,
     "metadata": {},
     "output_type": "execute_result"
    }
   ],
   "source": [
    "anon_num.shape"
   ]
  },
  {
   "cell_type": "markdown",
   "metadata": {},
   "source": [
    "Sometimes it may be important to detect the feature with the highest mean value or investigate, who knows, the features with the first three or four highest mean value. Let's try with the one with the highest:"
   ]
  },
  {
   "cell_type": "code",
   "execution_count": 94,
   "metadata": {},
   "outputs": [
    {
     "data": {
      "text/plain": [
       "[<matplotlib.lines.Line2D at 0x7ff63c597050>]"
      ]
     },
     "execution_count": 94,
     "metadata": {},
     "output_type": "execute_result"
    },
    {
     "data": {
      "image/png": "[encoded data removed]",
      "text/plain": [
       "<Figure size 432x288 with 1 Axes>"
      ]
     },
     "metadata": {
      "needs_background": "light"
     },
     "output_type": "display_data"
    }
   ],
   "source": [
    "num_feature_mean = np.array( anon_num.mean() )\n",
    "num_feature_id   = np.array( range( 41 ) )\n",
    "\n",
    "plt.plot(feature_id,feature_mean,'bo')"
   ]
  },
  {
   "cell_type": "code",
   "execution_count": 102,
   "metadata": {},
   "outputs": [
    {
     "name": "stdout",
     "output_type": "stream",
     "text": [
      "{1: 4428.915253120056, 9: 579.8522041815261, 40: 161.14391015912935, 16: 49.56753667761107, 10: 43.258414243519944, 8: 42.403973234695506, 2: 35.96129898816198, 19: 34.22134618850243, 12: 12.779809650471718, 20: 6.597967877094929, 5: 3.652688306110872, 15: 3.571173267943976, 18: 2.4630730227338846, 23: 1.3200735724437265, 22: 1.2202181882786383, 17: 0.7708324674784922, 24: 0.5405414263021449, 25: 0.5213348800267512, 26: 0.5046190117883088, 27: 0.47032729286848296, 29: 0.4643052629378774, 31: 0.4642925131677977, 30: 0.4618370955605715, 28: 0.4604432321712223, 13: 0.4374298657578654, 11: 0.38960420043500094, 35: 0.298044466094258, 36: 0.2860404443012271, 14: 0.27723702256763955, 21: 0.2168922328347537, 37: 0.20155726643545605, 38: 0.1165783303124601, 39: 0.05123354838521274, 34: 0.04632493988543323, 6: 0.006830594924892294, 7: 0.0020509575188448837, 0: -0.00025235202862197324, 32: -0.0006858238223447618, 33: -0.003265624204077573, 4: -0.005181671639822081, 3: -0.006380185710827436}\n"
     ]
    }
   ],
   "source": [
    "average = dict(zip(num_feature_mean,num_feature_id))\n",
    "\n",
    "avg = np.sort(num_feature_mean)\n",
    "avg = avg[::-1]\n",
    "\n",
    "mu = {}\n",
    "\n",
    "for i in range(avg.shape[0]):\n",
    "    \n",
    "    mu[average[avg[i]]] = avg[i]\n",
    "\n",
    "print(mu)"
   ]
  },
  {
   "cell_type": "markdown",
   "metadata": {},
   "source": [
    "This sorting show us that there are few (3) features with high mean value and most of the oters are not higher that 10. We may investigate the first two"
   ]
  },
  {
   "cell_type": "code",
   "execution_count": 107,
   "metadata": {},
   "outputs": [
    {
     "name": "stdout",
     "output_type": "stream",
     "text": [
      "1\n",
      "0.0010622264382784572\n"
     ]
    }
   ],
   "source": [
    "magic1 = 1\n",
    "print(magic1)\n",
    "\n",
    "imp1 = rf.feature_importances_\n",
    "\n",
    "print(imp[magic1])"
   ]
  },
  {
   "cell_type": "code",
   "execution_count": 108,
   "metadata": {},
   "outputs": [
    {
     "data": {
      "text/html": [
       "<div>\n",
       "<style scoped>\n",
       "    .dataframe tbody tr th:only-of-type {\n",
       "        vertical-align: middle;\n",
       "    }\n",
       "\n",
       "    .dataframe tbody tr th {\n",
       "        vertical-align: top;\n",
       "    }\n",
       "\n",
       "    .dataframe thead th {\n",
       "        text-align: right;\n",
       "    }\n",
       "</style>\n",
       "<table border=\"1\" class=\"dataframe\">\n",
       "  <thead>\n",
       "    <tr style=\"text-align: right;\">\n",
       "      <th></th>\n",
       "      <th>x8</th>\n",
       "      <th>x13</th>\n",
       "      <th>x23</th>\n",
       "      <th>x24</th>\n",
       "      <th>x25</th>\n",
       "      <th>x26</th>\n",
       "      <th>x27</th>\n",
       "      <th>x28</th>\n",
       "      <th>x29</th>\n",
       "      <th>x30</th>\n",
       "      <th>x31</th>\n",
       "      <th>x32</th>\n",
       "      <th>x33</th>\n",
       "      <th>x34</th>\n",
       "      <th>x35</th>\n",
       "      <th>x36</th>\n",
       "      <th>x37</th>\n",
       "      <th>x38</th>\n",
       "      <th>x39</th>\n",
       "      <th>x40</th>\n",
       "      <th>x41</th>\n",
       "      <th>x42</th>\n",
       "      <th>x43</th>\n",
       "      <th>x44</th>\n",
       "      <th>x45</th>\n",
       "      <th>x46</th>\n",
       "      <th>x47</th>\n",
       "      <th>x48</th>\n",
       "      <th>x49</th>\n",
       "      <th>x50</th>\n",
       "      <th>x51</th>\n",
       "      <th>x52</th>\n",
       "      <th>x53</th>\n",
       "      <th>x54</th>\n",
       "      <th>x55</th>\n",
       "      <th>x56</th>\n",
       "      <th>x57</th>\n",
       "      <th>x58</th>\n",
       "      <th>x59</th>\n",
       "      <th>x60</th>\n",
       "      <th>x61</th>\n",
       "    </tr>\n",
       "  </thead>\n",
       "  <tbody>\n",
       "    <tr>\n",
       "      <td>0</td>\n",
       "      <td>-0.688706</td>\n",
       "      <td>3694.0</td>\n",
       "      <td>40.579612</td>\n",
       "      <td>-0.112693</td>\n",
       "      <td>-0.172191</td>\n",
       "      <td>1.166667</td>\n",
       "      <td>1.674538</td>\n",
       "      <td>0.630889</td>\n",
       "      <td>37.000000</td>\n",
       "      <td>1.294922</td>\n",
       "      <td>55.0</td>\n",
       "      <td>0.166667</td>\n",
       "      <td>10.0</td>\n",
       "      <td>0.0</td>\n",
       "      <td>0.000000</td>\n",
       "      <td>1.0</td>\n",
       "      <td>9.0</td>\n",
       "      <td>0.0</td>\n",
       "      <td>1.0</td>\n",
       "      <td>23.0</td>\n",
       "      <td>3.67</td>\n",
       "      <td>0.12</td>\n",
       "      <td>1.935</td>\n",
       "      <td>2.2</td>\n",
       "      <td>0.625</td>\n",
       "      <td>0.250</td>\n",
       "      <td>0.125</td>\n",
       "      <td>0.000</td>\n",
       "      <td>0.813</td>\n",
       "      <td>0.074</td>\n",
       "      <td>0.634</td>\n",
       "      <td>0.548</td>\n",
       "      <td>0.235333</td>\n",
       "      <td>0.264952</td>\n",
       "      <td>0.000000</td>\n",
       "      <td>0.333333</td>\n",
       "      <td>0.333333</td>\n",
       "      <td>0.333333</td>\n",
       "      <td>0.000000</td>\n",
       "      <td>0.000000</td>\n",
       "      <td>9.0</td>\n",
       "    </tr>\n",
       "    <tr>\n",
       "      <td>1</td>\n",
       "      <td>0.870871</td>\n",
       "      <td>18156.0</td>\n",
       "      <td>28.765503</td>\n",
       "      <td>2.612285</td>\n",
       "      <td>2.159091</td>\n",
       "      <td>4.000000</td>\n",
       "      <td>1.710714</td>\n",
       "      <td>1.713538</td>\n",
       "      <td>0.166667</td>\n",
       "      <td>0.027669</td>\n",
       "      <td>109.0</td>\n",
       "      <td>0.000000</td>\n",
       "      <td>31.0</td>\n",
       "      <td>0.0</td>\n",
       "      <td>0.000000</td>\n",
       "      <td>1.0</td>\n",
       "      <td>244.0</td>\n",
       "      <td>1.0</td>\n",
       "      <td>1.0</td>\n",
       "      <td>68.0</td>\n",
       "      <td>17.25</td>\n",
       "      <td>0.57</td>\n",
       "      <td>3.452</td>\n",
       "      <td>4.0</td>\n",
       "      <td>0.409</td>\n",
       "      <td>0.619</td>\n",
       "      <td>0.579</td>\n",
       "      <td>0.248</td>\n",
       "      <td>0.346</td>\n",
       "      <td>0.541</td>\n",
       "      <td>0.522</td>\n",
       "      <td>0.000</td>\n",
       "      <td>1.782346</td>\n",
       "      <td>1.322409</td>\n",
       "      <td>0.011647</td>\n",
       "      <td>0.397671</td>\n",
       "      <td>0.239601</td>\n",
       "      <td>0.249584</td>\n",
       "      <td>0.068220</td>\n",
       "      <td>0.033278</td>\n",
       "      <td>601.0</td>\n",
       "    </tr>\n",
       "    <tr>\n",
       "      <td>2</td>\n",
       "      <td>0.437655</td>\n",
       "      <td>1178.0</td>\n",
       "      <td>24.943933</td>\n",
       "      <td>-0.814660</td>\n",
       "      <td>-0.708308</td>\n",
       "      <td>1.500000</td>\n",
       "      <td>-0.512422</td>\n",
       "      <td>-0.733967</td>\n",
       "      <td>0.333333</td>\n",
       "      <td>14.837728</td>\n",
       "      <td>11.0</td>\n",
       "      <td>0.000000</td>\n",
       "      <td>24.0</td>\n",
       "      <td>0.0</td>\n",
       "      <td>0.000000</td>\n",
       "      <td>1.0</td>\n",
       "      <td>29.0</td>\n",
       "      <td>0.0</td>\n",
       "      <td>3.0</td>\n",
       "      <td>11.0</td>\n",
       "      <td>4.42</td>\n",
       "      <td>0.15</td>\n",
       "      <td>0.161</td>\n",
       "      <td>0.2</td>\n",
       "      <td>1.000</td>\n",
       "      <td>1.000</td>\n",
       "      <td>1.000</td>\n",
       "      <td>1.000</td>\n",
       "      <td>1.000</td>\n",
       "      <td>0.520</td>\n",
       "      <td>0.533</td>\n",
       "      <td>0.835</td>\n",
       "      <td>-0.586540</td>\n",
       "      <td>0.672436</td>\n",
       "      <td>0.000000</td>\n",
       "      <td>0.606061</td>\n",
       "      <td>0.121212</td>\n",
       "      <td>0.212121</td>\n",
       "      <td>0.060606</td>\n",
       "      <td>0.000000</td>\n",
       "      <td>33.0</td>\n",
       "    </tr>\n",
       "    <tr>\n",
       "      <td>3</td>\n",
       "      <td>0.004439</td>\n",
       "      <td>14559.0</td>\n",
       "      <td>41.576860</td>\n",
       "      <td>-0.907833</td>\n",
       "      <td>-0.761736</td>\n",
       "      <td>0.500000</td>\n",
       "      <td>-0.627525</td>\n",
       "      <td>-0.805801</td>\n",
       "      <td>1.166667</td>\n",
       "      <td>0.004395</td>\n",
       "      <td>0.0</td>\n",
       "      <td>0.500000</td>\n",
       "      <td>0.0</td>\n",
       "      <td>0.0</td>\n",
       "      <td>0.000000</td>\n",
       "      <td>7.0</td>\n",
       "      <td>7.0</td>\n",
       "      <td>0.0</td>\n",
       "      <td>3.0</td>\n",
       "      <td>15.0</td>\n",
       "      <td>8.92</td>\n",
       "      <td>0.29</td>\n",
       "      <td>0.226</td>\n",
       "      <td>0.8</td>\n",
       "      <td>0.000</td>\n",
       "      <td>0.000</td>\n",
       "      <td>0.000</td>\n",
       "      <td>0.000</td>\n",
       "      <td>0.000</td>\n",
       "      <td>1.000</td>\n",
       "      <td>0.000</td>\n",
       "      <td>0.000</td>\n",
       "      <td>-1.600326</td>\n",
       "      <td>-1.838680</td>\n",
       "      <td>0.000000</td>\n",
       "      <td>1.000000</td>\n",
       "      <td>0.000000</td>\n",
       "      <td>0.000000</td>\n",
       "      <td>0.000000</td>\n",
       "      <td>0.000000</td>\n",
       "      <td>1.0</td>\n",
       "    </tr>\n",
       "    <tr>\n",
       "      <td>4</td>\n",
       "      <td>0.480977</td>\n",
       "      <td>5777.0</td>\n",
       "      <td>31.080282</td>\n",
       "      <td>-0.371787</td>\n",
       "      <td>-0.367616</td>\n",
       "      <td>1.666667</td>\n",
       "      <td>0.271307</td>\n",
       "      <td>0.013112</td>\n",
       "      <td>17.333333</td>\n",
       "      <td>1713.439128</td>\n",
       "      <td>33.0</td>\n",
       "      <td>0.000000</td>\n",
       "      <td>6.0</td>\n",
       "      <td>1.0</td>\n",
       "      <td>0.666667</td>\n",
       "      <td>8.0</td>\n",
       "      <td>108.0</td>\n",
       "      <td>1.0</td>\n",
       "      <td>4.0</td>\n",
       "      <td>86.0</td>\n",
       "      <td>1.58</td>\n",
       "      <td>0.05</td>\n",
       "      <td>2.032</td>\n",
       "      <td>2.4</td>\n",
       "      <td>0.348</td>\n",
       "      <td>0.762</td>\n",
       "      <td>0.550</td>\n",
       "      <td>0.392</td>\n",
       "      <td>0.489</td>\n",
       "      <td>0.517</td>\n",
       "      <td>1.000</td>\n",
       "      <td>0.642</td>\n",
       "      <td>0.960991</td>\n",
       "      <td>0.790990</td>\n",
       "      <td>0.020161</td>\n",
       "      <td>0.645161</td>\n",
       "      <td>0.258065</td>\n",
       "      <td>0.036290</td>\n",
       "      <td>0.040323</td>\n",
       "      <td>0.000000</td>\n",
       "      <td>248.0</td>\n",
       "    </tr>\n",
       "  </tbody>\n",
       "</table>\n",
       "</div>"
      ],
      "text/plain": [
       "         x8      x13        x23       x24       x25       x26       x27  \\\n",
       "0 -0.688706   3694.0  40.579612 -0.112693 -0.172191  1.166667  1.674538   \n",
       "1  0.870871  18156.0  28.765503  2.612285  2.159091  4.000000  1.710714   \n",
       "2  0.437655   1178.0  24.943933 -0.814660 -0.708308  1.500000 -0.512422   \n",
       "3  0.004439  14559.0  41.576860 -0.907833 -0.761736  0.500000 -0.627525   \n",
       "4  0.480977   5777.0  31.080282 -0.371787 -0.367616  1.666667  0.271307   \n",
       "\n",
       "        x28        x29          x30    x31       x32   x33  x34       x35  \\\n",
       "0  0.630889  37.000000     1.294922   55.0  0.166667  10.0  0.0  0.000000   \n",
       "1  1.713538   0.166667     0.027669  109.0  0.000000  31.0  0.0  0.000000   \n",
       "2 -0.733967   0.333333    14.837728   11.0  0.000000  24.0  0.0  0.000000   \n",
       "3 -0.805801   1.166667     0.004395    0.0  0.500000   0.0  0.0  0.000000   \n",
       "4  0.013112  17.333333  1713.439128   33.0  0.000000   6.0  1.0  0.666667   \n",
       "\n",
       "   x36    x37  x38  x39   x40    x41   x42    x43  x44    x45    x46    x47  \\\n",
       "0  1.0    9.0  0.0  1.0  23.0   3.67  0.12  1.935  2.2  0.625  0.250  0.125   \n",
       "1  1.0  244.0  1.0  1.0  68.0  17.25  0.57  3.452  4.0  0.409  0.619  0.579   \n",
       "2  1.0   29.0  0.0  3.0  11.0   4.42  0.15  0.161  0.2  1.000  1.000  1.000   \n",
       "3  7.0    7.0  0.0  3.0  15.0   8.92  0.29  0.226  0.8  0.000  0.000  0.000   \n",
       "4  8.0  108.0  1.0  4.0  86.0   1.58  0.05  2.032  2.4  0.348  0.762  0.550   \n",
       "\n",
       "     x48    x49    x50    x51    x52       x53       x54       x55       x56  \\\n",
       "0  0.000  0.813  0.074  0.634  0.548  0.235333  0.264952  0.000000  0.333333   \n",
       "1  0.248  0.346  0.541  0.522  0.000  1.782346  1.322409  0.011647  0.397671   \n",
       "2  1.000  1.000  0.520  0.533  0.835 -0.586540  0.672436  0.000000  0.606061   \n",
       "3  0.000  0.000  1.000  0.000  0.000 -1.600326 -1.838680  0.000000  1.000000   \n",
       "4  0.392  0.489  0.517  1.000  0.642  0.960991  0.790990  0.020161  0.645161   \n",
       "\n",
       "        x57       x58       x59       x60    x61  \n",
       "0  0.333333  0.333333  0.000000  0.000000    9.0  \n",
       "1  0.239601  0.249584  0.068220  0.033278  601.0  \n",
       "2  0.121212  0.212121  0.060606  0.000000   33.0  \n",
       "3  0.000000  0.000000  0.000000  0.000000    1.0  \n",
       "4  0.258065  0.036290  0.040323  0.000000  248.0  "
      ]
     },
     "execution_count": 108,
     "metadata": {},
     "output_type": "execute_result"
    }
   ],
   "source": [
    "anon_num.head()"
   ]
  },
  {
   "cell_type": "code",
   "execution_count": 109,
   "metadata": {},
   "outputs": [
    {
     "data": {
      "text/plain": [
       "(-99.0, 30000)"
      ]
     },
     "execution_count": 109,
     "metadata": {},
     "output_type": "execute_result"
    },
    {
     "data": {
      "image/png": "[encoded data removed]",
      "text/plain": [
       "<Figure size 432x288 with 1 Axes>"
      ]
     },
     "metadata": {
      "needs_background": "light"
     },
     "output_type": "display_data"
    }
   ],
   "source": [
    "\n",
    "magic_feature = anon_num['x13']\n",
    "\n",
    "magic_hist = magic_feature.hist(bins=300)\n",
    "magic_hist.set_xlim((anon_train.x13.min(),30000))\n",
    "\n",
    "\n",
    "#magic_hist = anon_train.x13.hist(bins=300)\n",
    "#magic_hist.set_xlim((anon_train.x13.min(),30000))\n"
   ]
  },
  {
   "cell_type": "markdown",
   "metadata": {},
   "source": [
    "# Some good practices: CASE STUDY 3 (very brief)"
   ]
  },
  {
   "cell_type": "markdown",
   "metadata": {},
   "source": [
    "We can still get higher confidence with pandas, using it as if were a data base. \n",
    "Here we are going to see an example of how to build a query in pandas.\n",
    "First of all, download the dataset:\n",
    "\n",
    "https://www.kaggle.com/c/competitive-data-science-final-project/data\n",
    "\n",
    "And encode it with pandas dataframes."
   ]
  },
  {
   "cell_type": "code",
   "execution_count": 110,
   "metadata": {},
   "outputs": [],
   "source": [
    "DATA_FOLDER = '/home/jacopo/Desktop/MLJC/PROX/FILES/Notebooks/jovyan/readonly/final_project_data'\n",
    "\n",
    "transactions    = pd.read_csv(os.path.join(DATA_FOLDER, 'sales_train.csv.gz'))\n",
    "items           = pd.read_csv(os.path.join(DATA_FOLDER, 'items.csv'))\n",
    "item_categories = pd.read_csv(os.path.join(DATA_FOLDER, 'item_categories.csv'))\n",
    "shops           = pd.read_csv(os.path.join(DATA_FOLDER, 'shops.csv'))"
   ]
  },
  {
   "cell_type": "markdown",
   "metadata": {},
   "source": [
    "Now use your `pandas` skills to get answers for the following questions. \n",
    "The first question is:\n",
    "\n",
    "### What was the maximum total revenue among all the shops in September, 2014? Hereinafter *revenue* refers to total sales minus value of goods returned.\n",
    "\n",
    "Track of the solution:\n",
    "\n",
    "Sometimes items are returned, find such examples in the dataset. \n",
    "\n",
    "It is handy to split `date` field into [`day`, `month`, `year`] components and use `df.year == 14` and `df.month == 9` in order to select target subset of dates.\n",
    "\n",
    "You may work with `date` feature as with strings, or you may first convert it to `pd.datetime` type with `pd.to_datetime` function, but do not forget to set correct `format` argument.\n",
    "\n",
    "Given the hints we can translate our reasoning into code!\n",
    "\n",
    "First we change date format to datetime. Doing this we will be able to better handle the data.\n",
    "The next step is the splitting procedure: from one original features we create three new ones and then drop the old.\n"
   ]
  },
  {
   "cell_type": "code",
   "execution_count": 111,
   "metadata": {},
   "outputs": [],
   "source": [
    "transactions[\"date\"] = pd.to_datetime(transactions[\"date\"],format = \"%d.%m.%Y\")\n",
    "\n",
    "transactions[\"year\"] = transactions.date.dt.year\n",
    "transactions[\"month\"] = transactions.date.dt.month\n",
    "transactions[\"day\"] = transactions.date.dt.day\n",
    "\n",
    "transactions.drop('date', axis=1, inplace=True)"
   ]
  },
  {
   "cell_type": "markdown",
   "metadata": {},
   "source": [
    "The second step is to create an object where we save only what we want to investigate further.\n",
    "Again we are redefining our feature. We are defining its entries trough a lambda function."
   ]
  },
  {
   "cell_type": "code",
   "execution_count": 112,
   "metadata": {},
   "outputs": [],
   "source": [
    "shortlist = transactions[(transactions.year == 2014) & (transactions.month == 9)]\n",
    "shortlist = shortlist.assign(dailygain = lambda x: x.item_cnt_day * x.item_price)"
   ]
  },
  {
   "cell_type": "markdown",
   "metadata": {},
   "source": [
    "Now we store our target feature in a numpy array, and will find the maximum"
   ]
  },
  {
   "cell_type": "code",
   "execution_count": 113,
   "metadata": {},
   "outputs": [
    {
     "name": "stdout",
     "output_type": "stream",
     "text": [
      "7982852.199999956\n"
     ]
    }
   ],
   "source": [
    "revenuelist = np.array([])\n",
    "\n",
    "for i in shortlist.shop_id:\n",
    "    revenuelist = np.append(revenuelist,shortlist[(shortlist.shop_id == i)].dailygain.sum())\n",
    "    \n",
    "\n",
    "max_revenue = revenuelist.max()\n",
    "\n",
    "print(max_revenue)\n"
   ]
  },
  {
   "cell_type": "markdown",
   "metadata": {},
   "source": [
    "# Dataset cleaning: CASE STUDY 4"
   ]
  },
  {
   "cell_type": "markdown",
   "metadata": {},
   "source": [
    "The basic idea here is to think to our dataset as a big table. In this table it may happen that some information is just a plus, and this can happen in several ways. \n",
    "We have already checked one. In our first real case we spotted some practically constant features and decided to remove them because equally distributed features means noise something that, in principle we would like to avoid.\n",
    "The second thing that may help us to decide how to clean the dataset are the identical features. This may happen if the data provider made some errors in the dataset design and/or sampling. If two features are identical we can drop one of them without loss of information.\n",
    "Another important thing that may happen is that the dataset needs to be filled. There may be a lot of missing entries (considered as single values). We can choose serveral quality criteria.\n",
    "\n",
    "for example:\n",
    "$MV \\rightarrow \\textit{fraction of missing values}$\n",
    "* $ 0 < MV < 0.3 $ Fill missing values with something meaningful, eg the mean value\n",
    "* $ 0.3 < MV < 0.5 $ Convert those features in categorical ones\n",
    "* $ MV > 0.5 $ Directly drop such features"
   ]
  },
  {
   "cell_type": "markdown",
   "metadata": {},
   "source": [
    "Another important thing to do good EDA is the dataset cleaning and check if data are properly shuffled. This is important if we want to perform solid statistical test on our data.\n",
    "\n",
    "It may happens that, to prove our capability to handle data, someone give a us feature that takes allways (or almost) the same value both in train and test set. For example the feature may be a day of the year and, if the dataset were sampled only in one day the feature appears to be just a constant. It can be a good choice to drop this feature to gain some computational memory and do not dirt the representation of data that our model will build. Before doing that we shold consider the case where the fature is constant in the train set but it is not in the test set. To remove the constant feature is still a good choice at all, since, if our model bases a portion of its prediction on this features those portion will be completely unreliable or, in the ML language the model will not generalize.\n",
    "\n",
    "Let's consider the reverse situation, where some values appear only in the train set and not in the test. We have to decide those particular values are important to build our hypothesis. A standard procedure in this case, if data are large enough, is to split from the train a subset for the validation where those values are exluded and see the performance of our model. One this is done we can consider to remove the feature or to let our model process those feature in a different way.\n",
    "\n",
    "It may happen that two features are completeley identical. We can remove one of those two columns, since the second does not contribute to information gain and slows down model training. This is easy to do for numeric features where we can do an element-wise comparison. We may have duplicated categorical features. How do we find them?\n",
    "\n",
    "We can start with the dtypes and choose only the categorical (often the int64, but be careful) and store their name in an iterable object, categrocial_features here.\n",
    "\n",
    "The most important part here is label encoding, that need do be done properly. Suppose we have two categorical features, f1 and f2. If we choose to encode the first unique value with 1, the second with 2 and so on we can detect if they are equal. "
   ]
  },
  {
   "cell_type": "markdown",
   "metadata": {},
   "source": [
    "### Download the dataset"
   ]
  },
  {
   "cell_type": "markdown",
   "metadata": {},
   "source": [
    "https://www.kaggle.com/c/springleaf-marketing-response/data"
   ]
  },
  {
   "cell_type": "code",
   "execution_count": 2,
   "metadata": {},
   "outputs": [
    {
     "name": "stderr",
     "output_type": "stream",
     "text": [
      "/home/jacopo/anaconda3/lib/python3.7/site-packages/IPython/core/interactiveshell.py:3058: DtypeWarning: Columns (8,9,10,11,12,43,157,196,214,225,228,229,231,235,238) have mixed types. Specify dtype option on import or set low_memory=False.\n",
      "  interactivity=interactivity, compiler=compiler, result=result)\n",
      "/home/jacopo/anaconda3/lib/python3.7/site-packages/IPython/core/interactiveshell.py:3058: DtypeWarning: Columns (8,9,10,11,12,43,157,167,177,196,214,225,228,229,231,235,238) have mixed types. Specify dtype option on import or set low_memory=False.\n",
      "  interactivity=interactivity, compiler=compiler, result=result)\n"
     ]
    }
   ],
   "source": [
    "DATA_FOLDER = # your path here\n",
    "\n",
    "train = pd.read_csv(os.path.join(DATA_FOLDER,'leaf_train.csv'))\n",
    "test  = pd.read_csv(os.path.join(DATA_FOLDER,'leaf_test.csv'))"
   ]
  },
  {
   "cell_type": "code",
   "execution_count": 8,
   "metadata": {},
   "outputs": [
    {
     "name": "stdout",
     "output_type": "stream",
     "text": [
      "Train shape (5000, 1934)\n",
      "Test shape (5000, 1933)\n"
     ]
    }
   ],
   "source": [
    "print('Train shape', train.shape)\n",
    "print('Test shape',  test.shape)"
   ]
  },
  {
   "cell_type": "code",
   "execution_count": 3,
   "metadata": {},
   "outputs": [
    {
     "name": "stdout",
     "output_type": "stream",
     "text": [
      "(5000, 1934)\n",
      "(5000, 1933)\n"
     ]
    }
   ],
   "source": [
    "set_size = int(5e3)\n",
    "\n",
    "train = train[:set_size]\n",
    "test = test[:set_size]\n",
    "print(train.shape)\n",
    "print(test.shape)"
   ]
  },
  {
   "cell_type": "code",
   "execution_count": 4,
   "metadata": {},
   "outputs": [],
   "source": [
    "Y = train.target\n",
    "test_ID = test.ID"
   ]
  },
  {
   "cell_type": "code",
   "execution_count": 5,
   "metadata": {},
   "outputs": [
    {
     "data": {
      "text/html": [
       "<div>\n",
       "<style scoped>\n",
       "    .dataframe tbody tr th:only-of-type {\n",
       "        vertical-align: middle;\n",
       "    }\n",
       "\n",
       "    .dataframe tbody tr th {\n",
       "        vertical-align: top;\n",
       "    }\n",
       "\n",
       "    .dataframe thead th {\n",
       "        text-align: right;\n",
       "    }\n",
       "</style>\n",
       "<table border=\"1\" class=\"dataframe\">\n",
       "  <thead>\n",
       "    <tr style=\"text-align: right;\">\n",
       "      <th></th>\n",
       "      <th>ID</th>\n",
       "      <th>VAR_0001</th>\n",
       "      <th>VAR_0002</th>\n",
       "      <th>VAR_0003</th>\n",
       "      <th>VAR_0004</th>\n",
       "      <th>VAR_0005</th>\n",
       "      <th>VAR_0006</th>\n",
       "      <th>VAR_0007</th>\n",
       "      <th>VAR_0008</th>\n",
       "      <th>VAR_0009</th>\n",
       "      <th>...</th>\n",
       "      <th>VAR_1926</th>\n",
       "      <th>VAR_1927</th>\n",
       "      <th>VAR_1928</th>\n",
       "      <th>VAR_1929</th>\n",
       "      <th>VAR_1930</th>\n",
       "      <th>VAR_1931</th>\n",
       "      <th>VAR_1932</th>\n",
       "      <th>VAR_1933</th>\n",
       "      <th>VAR_1934</th>\n",
       "      <th>target</th>\n",
       "    </tr>\n",
       "  </thead>\n",
       "  <tbody>\n",
       "    <tr>\n",
       "      <td>0</td>\n",
       "      <td>2</td>\n",
       "      <td>H</td>\n",
       "      <td>224</td>\n",
       "      <td>0</td>\n",
       "      <td>4300</td>\n",
       "      <td>C</td>\n",
       "      <td>0.0</td>\n",
       "      <td>0.0</td>\n",
       "      <td>False</td>\n",
       "      <td>False</td>\n",
       "      <td>...</td>\n",
       "      <td>98</td>\n",
       "      <td>98</td>\n",
       "      <td>998</td>\n",
       "      <td>999999998</td>\n",
       "      <td>998</td>\n",
       "      <td>998</td>\n",
       "      <td>9998</td>\n",
       "      <td>9998</td>\n",
       "      <td>IAPS</td>\n",
       "      <td>0</td>\n",
       "    </tr>\n",
       "    <tr>\n",
       "      <td>1</td>\n",
       "      <td>4</td>\n",
       "      <td>H</td>\n",
       "      <td>7</td>\n",
       "      <td>53</td>\n",
       "      <td>4448</td>\n",
       "      <td>B</td>\n",
       "      <td>1.0</td>\n",
       "      <td>0.0</td>\n",
       "      <td>False</td>\n",
       "      <td>False</td>\n",
       "      <td>...</td>\n",
       "      <td>98</td>\n",
       "      <td>98</td>\n",
       "      <td>998</td>\n",
       "      <td>999999998</td>\n",
       "      <td>998</td>\n",
       "      <td>998</td>\n",
       "      <td>9998</td>\n",
       "      <td>9998</td>\n",
       "      <td>IAPS</td>\n",
       "      <td>0</td>\n",
       "    </tr>\n",
       "    <tr>\n",
       "      <td>2</td>\n",
       "      <td>5</td>\n",
       "      <td>H</td>\n",
       "      <td>116</td>\n",
       "      <td>3</td>\n",
       "      <td>3464</td>\n",
       "      <td>C</td>\n",
       "      <td>0.0</td>\n",
       "      <td>0.0</td>\n",
       "      <td>False</td>\n",
       "      <td>False</td>\n",
       "      <td>...</td>\n",
       "      <td>98</td>\n",
       "      <td>98</td>\n",
       "      <td>998</td>\n",
       "      <td>999999998</td>\n",
       "      <td>998</td>\n",
       "      <td>998</td>\n",
       "      <td>9998</td>\n",
       "      <td>9998</td>\n",
       "      <td>IAPS</td>\n",
       "      <td>0</td>\n",
       "    </tr>\n",
       "    <tr>\n",
       "      <td>3</td>\n",
       "      <td>7</td>\n",
       "      <td>H</td>\n",
       "      <td>240</td>\n",
       "      <td>300</td>\n",
       "      <td>3200</td>\n",
       "      <td>C</td>\n",
       "      <td>0.0</td>\n",
       "      <td>0.0</td>\n",
       "      <td>False</td>\n",
       "      <td>False</td>\n",
       "      <td>...</td>\n",
       "      <td>98</td>\n",
       "      <td>98</td>\n",
       "      <td>998</td>\n",
       "      <td>999999998</td>\n",
       "      <td>998</td>\n",
       "      <td>998</td>\n",
       "      <td>9998</td>\n",
       "      <td>9998</td>\n",
       "      <td>RCC</td>\n",
       "      <td>0</td>\n",
       "    </tr>\n",
       "    <tr>\n",
       "      <td>4</td>\n",
       "      <td>8</td>\n",
       "      <td>R</td>\n",
       "      <td>72</td>\n",
       "      <td>261</td>\n",
       "      <td>2000</td>\n",
       "      <td>N</td>\n",
       "      <td>0.0</td>\n",
       "      <td>0.0</td>\n",
       "      <td>False</td>\n",
       "      <td>False</td>\n",
       "      <td>...</td>\n",
       "      <td>98</td>\n",
       "      <td>98</td>\n",
       "      <td>998</td>\n",
       "      <td>999999998</td>\n",
       "      <td>998</td>\n",
       "      <td>998</td>\n",
       "      <td>9998</td>\n",
       "      <td>9998</td>\n",
       "      <td>BRANCH</td>\n",
       "      <td>1</td>\n",
       "    </tr>\n",
       "  </tbody>\n",
       "</table>\n",
       "<p>5 rows × 1934 columns</p>\n",
       "</div>"
      ],
      "text/plain": [
       "   ID VAR_0001  VAR_0002  VAR_0003  VAR_0004 VAR_0005  VAR_0006  VAR_0007  \\\n",
       "0   2        H       224         0      4300        C       0.0       0.0   \n",
       "1   4        H         7        53      4448        B       1.0       0.0   \n",
       "2   5        H       116         3      3464        C       0.0       0.0   \n",
       "3   7        H       240       300      3200        C       0.0       0.0   \n",
       "4   8        R        72       261      2000        N       0.0       0.0   \n",
       "\n",
       "  VAR_0008 VAR_0009  ... VAR_1926 VAR_1927 VAR_1928   VAR_1929  VAR_1930  \\\n",
       "0    False    False  ...       98       98      998  999999998       998   \n",
       "1    False    False  ...       98       98      998  999999998       998   \n",
       "2    False    False  ...       98       98      998  999999998       998   \n",
       "3    False    False  ...       98       98      998  999999998       998   \n",
       "4    False    False  ...       98       98      998  999999998       998   \n",
       "\n",
       "   VAR_1931  VAR_1932  VAR_1933  VAR_1934  target  \n",
       "0       998      9998      9998      IAPS       0  \n",
       "1       998      9998      9998      IAPS       0  \n",
       "2       998      9998      9998      IAPS       0  \n",
       "3       998      9998      9998       RCC       0  \n",
       "4       998      9998      9998    BRANCH       1  \n",
       "\n",
       "[5 rows x 1934 columns]"
      ]
     },
     "execution_count": 5,
     "metadata": {},
     "output_type": "execute_result"
    }
   ],
   "source": [
    "train.head()"
   ]
  },
  {
   "cell_type": "code",
   "execution_count": 6,
   "metadata": {},
   "outputs": [
    {
     "data": {
      "text/html": [
       "<div>\n",
       "<style scoped>\n",
       "    .dataframe tbody tr th:only-of-type {\n",
       "        vertical-align: middle;\n",
       "    }\n",
       "\n",
       "    .dataframe tbody tr th {\n",
       "        vertical-align: top;\n",
       "    }\n",
       "\n",
       "    .dataframe thead th {\n",
       "        text-align: right;\n",
       "    }\n",
       "</style>\n",
       "<table border=\"1\" class=\"dataframe\">\n",
       "  <thead>\n",
       "    <tr style=\"text-align: right;\">\n",
       "      <th></th>\n",
       "      <th>ID</th>\n",
       "      <th>VAR_0001</th>\n",
       "      <th>VAR_0002</th>\n",
       "      <th>VAR_0003</th>\n",
       "      <th>VAR_0004</th>\n",
       "      <th>VAR_0005</th>\n",
       "      <th>VAR_0006</th>\n",
       "      <th>VAR_0007</th>\n",
       "      <th>VAR_0008</th>\n",
       "      <th>VAR_0009</th>\n",
       "      <th>...</th>\n",
       "      <th>VAR_1925</th>\n",
       "      <th>VAR_1926</th>\n",
       "      <th>VAR_1927</th>\n",
       "      <th>VAR_1928</th>\n",
       "      <th>VAR_1929</th>\n",
       "      <th>VAR_1930</th>\n",
       "      <th>VAR_1931</th>\n",
       "      <th>VAR_1932</th>\n",
       "      <th>VAR_1933</th>\n",
       "      <th>VAR_1934</th>\n",
       "    </tr>\n",
       "  </thead>\n",
       "  <tbody>\n",
       "    <tr>\n",
       "      <td>0</td>\n",
       "      <td>1</td>\n",
       "      <td>R</td>\n",
       "      <td>360</td>\n",
       "      <td>25</td>\n",
       "      <td>2251</td>\n",
       "      <td>B</td>\n",
       "      <td>2.0</td>\n",
       "      <td>2.0</td>\n",
       "      <td>False</td>\n",
       "      <td>False</td>\n",
       "      <td>...</td>\n",
       "      <td>0</td>\n",
       "      <td>98</td>\n",
       "      <td>98</td>\n",
       "      <td>998</td>\n",
       "      <td>999999998</td>\n",
       "      <td>998</td>\n",
       "      <td>998</td>\n",
       "      <td>9998</td>\n",
       "      <td>9998</td>\n",
       "      <td>IAPS</td>\n",
       "    </tr>\n",
       "    <tr>\n",
       "      <td>1</td>\n",
       "      <td>3</td>\n",
       "      <td>R</td>\n",
       "      <td>74</td>\n",
       "      <td>192</td>\n",
       "      <td>3274</td>\n",
       "      <td>C</td>\n",
       "      <td>2.0</td>\n",
       "      <td>3.0</td>\n",
       "      <td>False</td>\n",
       "      <td>False</td>\n",
       "      <td>...</td>\n",
       "      <td>0</td>\n",
       "      <td>98</td>\n",
       "      <td>98</td>\n",
       "      <td>998</td>\n",
       "      <td>999999998</td>\n",
       "      <td>998</td>\n",
       "      <td>998</td>\n",
       "      <td>9998</td>\n",
       "      <td>9998</td>\n",
       "      <td>IAPS</td>\n",
       "    </tr>\n",
       "    <tr>\n",
       "      <td>2</td>\n",
       "      <td>6</td>\n",
       "      <td>R</td>\n",
       "      <td>21</td>\n",
       "      <td>36</td>\n",
       "      <td>3500</td>\n",
       "      <td>C</td>\n",
       "      <td>1.0</td>\n",
       "      <td>1.0</td>\n",
       "      <td>False</td>\n",
       "      <td>False</td>\n",
       "      <td>...</td>\n",
       "      <td>0</td>\n",
       "      <td>98</td>\n",
       "      <td>98</td>\n",
       "      <td>998</td>\n",
       "      <td>999999998</td>\n",
       "      <td>998</td>\n",
       "      <td>998</td>\n",
       "      <td>9998</td>\n",
       "      <td>9998</td>\n",
       "      <td>IAPS</td>\n",
       "    </tr>\n",
       "    <tr>\n",
       "      <td>3</td>\n",
       "      <td>9</td>\n",
       "      <td>R</td>\n",
       "      <td>8</td>\n",
       "      <td>2</td>\n",
       "      <td>1500</td>\n",
       "      <td>B</td>\n",
       "      <td>0.0</td>\n",
       "      <td>0.0</td>\n",
       "      <td>False</td>\n",
       "      <td>False</td>\n",
       "      <td>...</td>\n",
       "      <td>0</td>\n",
       "      <td>98</td>\n",
       "      <td>98</td>\n",
       "      <td>998</td>\n",
       "      <td>999999998</td>\n",
       "      <td>998</td>\n",
       "      <td>998</td>\n",
       "      <td>9998</td>\n",
       "      <td>9998</td>\n",
       "      <td>IAPS</td>\n",
       "    </tr>\n",
       "    <tr>\n",
       "      <td>4</td>\n",
       "      <td>10</td>\n",
       "      <td>H</td>\n",
       "      <td>91</td>\n",
       "      <td>39</td>\n",
       "      <td>84500</td>\n",
       "      <td>C</td>\n",
       "      <td>8.0</td>\n",
       "      <td>3.0</td>\n",
       "      <td>False</td>\n",
       "      <td>False</td>\n",
       "      <td>...</td>\n",
       "      <td>0</td>\n",
       "      <td>98</td>\n",
       "      <td>98</td>\n",
       "      <td>998</td>\n",
       "      <td>999999998</td>\n",
       "      <td>998</td>\n",
       "      <td>998</td>\n",
       "      <td>9998</td>\n",
       "      <td>9998</td>\n",
       "      <td>IAPS</td>\n",
       "    </tr>\n",
       "  </tbody>\n",
       "</table>\n",
       "<p>5 rows × 1933 columns</p>\n",
       "</div>"
      ],
      "text/plain": [
       "   ID VAR_0001  VAR_0002  VAR_0003  VAR_0004 VAR_0005  VAR_0006  VAR_0007  \\\n",
       "0   1        R       360        25      2251        B       2.0       2.0   \n",
       "1   3        R        74       192      3274        C       2.0       3.0   \n",
       "2   6        R        21        36      3500        C       1.0       1.0   \n",
       "3   9        R         8         2      1500        B       0.0       0.0   \n",
       "4  10        H        91        39     84500        C       8.0       3.0   \n",
       "\n",
       "  VAR_0008 VAR_0009  ... VAR_1925 VAR_1926 VAR_1927  VAR_1928   VAR_1929  \\\n",
       "0    False    False  ...        0       98       98       998  999999998   \n",
       "1    False    False  ...        0       98       98       998  999999998   \n",
       "2    False    False  ...        0       98       98       998  999999998   \n",
       "3    False    False  ...        0       98       98       998  999999998   \n",
       "4    False    False  ...        0       98       98       998  999999998   \n",
       "\n",
       "   VAR_1930  VAR_1931  VAR_1932  VAR_1933  VAR_1934  \n",
       "0       998       998      9998      9998      IAPS  \n",
       "1       998       998      9998      9998      IAPS  \n",
       "2       998       998      9998      9998      IAPS  \n",
       "3       998       998      9998      9998      IAPS  \n",
       "4       998       998      9998      9998      IAPS  \n",
       "\n",
       "[5 rows x 1933 columns]"
      ]
     },
     "execution_count": 6,
     "metadata": {},
     "output_type": "execute_result"
    }
   ],
   "source": [
    "test.head()"
   ]
  },
  {
   "cell_type": "markdown",
   "metadata": {},
   "source": [
    "There are almost 2000 anonymized variables! It's clear, some of them are categorical, some look like numeric. Some numeric feateures are integer typed, so probably they are event conters or dates. And others are of float type, but from the first few rows they look like integer-typed too, since fractional part is zero, but pandas treats them as `float` since there are NaN values in that features.   \n",
    "\n",
    "From the first glance we see train has one more column `target` which we should not forget to drop before fitting a classifier. We also see `ID` column is shared between train and test, which sometimes can be succesfully used to improve the score."
   ]
  },
  {
   "cell_type": "markdown",
   "metadata": {},
   "source": [
    "It is also useful to know if there are any NaNs in the data. You should pay attention to columns with NaNs and the number of NaNs for each row can serve as a nice feature later."
   ]
  },
  {
   "cell_type": "code",
   "execution_count": 67,
   "metadata": {},
   "outputs": [
    {
     "name": "stdout",
     "output_type": "stream",
     "text": [
      "Missing values are  0.00591266149870801 % of the whole\n",
      "[11  6 10 ... 10 10 11]\n",
      "289 1528\n"
     ]
    }
   ],
   "source": [
    "# Number of NaNs for each object\n",
    "nan_list = np.array(train.isnull().sum(axis=1))\n",
    "\n",
    "# we can easily obtain the missing value percentage of our dataset\n",
    "nan_perc = np.sum(nan_list)/(train.shape[0]*train.shape[1])\n",
    "print('Missing values are ',nan_perc,'% of the whole')\n",
    "\n",
    "print(nan_list)\n",
    "print(np.max(nan_list),np.argmax(nan_list))"
   ]
  },
  {
   "cell_type": "code",
   "execution_count": 68,
   "metadata": {},
   "outputs": [
    {
     "data": {
      "text/plain": [
       "(array([ 883., 4079.,    0.,    0.,    0.,    0.,    0.,    0.,    0.,\n",
       "           0.,    0.,    0.,    0.,    0.,    0.,    0.,    0.,    0.,\n",
       "           0.,    0.,    0.,    0.,    0.,    0.,    0.,    0.,    0.,\n",
       "           0.,    0.,    0.,    0.,    0.,    0.,    0.,    0.,    0.,\n",
       "           0.,    0.,    0.,    0.,    0.,    0.,    0.,    0.,    0.,\n",
       "           0.,    0.,    0.,    0.,   38.]),\n",
       " array([  3.  ,   8.72,  14.44,  20.16,  25.88,  31.6 ,  37.32,  43.04,\n",
       "         48.76,  54.48,  60.2 ,  65.92,  71.64,  77.36,  83.08,  88.8 ,\n",
       "         94.52, 100.24, 105.96, 111.68, 117.4 , 123.12, 128.84, 134.56,\n",
       "        140.28, 146.  , 151.72, 157.44, 163.16, 168.88, 174.6 , 180.32,\n",
       "        186.04, 191.76, 197.48, 203.2 , 208.92, 214.64, 220.36, 226.08,\n",
       "        231.8 , 237.52, 243.24, 248.96, 254.68, 260.4 , 266.12, 271.84,\n",
       "        277.56, 283.28, 289.  ]),\n",
       " <a list of 50 Patch objects>)"
      ]
     },
     "execution_count": 68,
     "metadata": {},
     "output_type": "execute_result"
    },
    {
     "data": {
      "image/png": "[encoded data removed]",
      "text/plain": [
       "<Figure size 432x288 with 1 Axes>"
      ]
     },
     "metadata": {
      "needs_background": "light"
     },
     "output_type": "display_data"
    }
   ],
   "source": [
    "plt.hist(nan_list,bins=50)"
   ]
  },
  {
   "cell_type": "markdown",
   "metadata": {},
   "source": [
    "From here we can see that most of the dataset features are completely filled. "
   ]
  },
  {
   "cell_type": "code",
   "execution_count": 7,
   "metadata": {},
   "outputs": [
    {
     "data": {
      "text/plain": [
       "ID          0\n",
       "VAR_0001    0\n",
       "VAR_0002    0\n",
       "VAR_0003    0\n",
       "VAR_0004    0\n",
       "dtype: int64"
      ]
     },
     "execution_count": 7,
     "metadata": {},
     "output_type": "execute_result"
    }
   ],
   "source": [
    "# Number of NaNs for each column\n",
    "train.isnull().sum(axis=0).head(5)"
   ]
  },
  {
   "cell_type": "markdown",
   "metadata": {},
   "source": [
    "All 1932 columns are anonimized which makes us to deduce the meaning of the features ourselves. We will now try to clean the dataset. \n",
    "\n",
    "It is usually convenient to concatenate train and test into one dataframe and do all feature engineering using it."
   ]
  },
  {
   "cell_type": "code",
   "execution_count": 18,
   "metadata": {},
   "outputs": [
    {
     "name": "stderr",
     "output_type": "stream",
     "text": [
      "/home/jacopo/anaconda3/lib/python3.7/site-packages/ipykernel_launcher.py:1: FutureWarning: Sorting because non-concatenation axis is not aligned. A future version\n",
      "of pandas will change to not sort by default.\n",
      "\n",
      "To accept the future behavior, pass 'sort=False'.\n",
      "\n",
      "To retain the current behavior and silence the warning, pass 'sort=True'.\n",
      "\n",
      "  \"\"\"Entry point for launching an IPython kernel.\n"
     ]
    },
    {
     "name": "stdout",
     "output_type": "stream",
     "text": [
      "(10000, 1934)\n"
     ]
    }
   ],
   "source": [
    "traintest = pd.concat([train, test], axis = 0)\n",
    "print(traintest.shape)"
   ]
  },
  {
   "cell_type": "markdown",
   "metadata": {},
   "source": [
    "First we schould look for a constant features, such features do not provide any information and only make our dataset larger. "
   ]
  },
  {
   "cell_type": "code",
   "execution_count": null,
   "metadata": {},
   "outputs": [],
   "source": [
    "# `dropna = False` makes nunique treat NaNs as a distinct value\n",
    "feats_counts = train.nunique(dropna = False)"
   ]
  },
  {
   "cell_type": "code",
   "execution_count": null,
   "metadata": {},
   "outputs": [],
   "source": [
    "feats_counts.sort_values()[:10]"
   ]
  },
  {
   "cell_type": "markdown",
   "metadata": {},
   "source": [
    "We found 5 constant features. The idea here is to translate what we found in a list and then use the drop method `loc()` method is used to access a group of rows and columns by label(s) or a boolean array."
   ]
  },
  {
   "cell_type": "code",
   "execution_count": 18,
   "metadata": {},
   "outputs": [
    {
     "name": "stdout",
     "output_type": "stream",
     "text": [
      "['VAR_0008', 'VAR_0009', 'VAR_0010', 'VAR_0011', 'VAR_0012', 'VAR_0018', 'VAR_0019', 'VAR_0020', 'VAR_0021', 'VAR_0022', 'VAR_0023', 'VAR_0024', 'VAR_0025', 'VAR_0026', 'VAR_0027', 'VAR_0028', 'VAR_0029', 'VAR_0030', 'VAR_0031', 'VAR_0032', 'VAR_0038', 'VAR_0039', 'VAR_0040', 'VAR_0041', 'VAR_0042', 'VAR_0043', 'VAR_0044', 'VAR_0106', 'VAR_0188', 'VAR_0189', 'VAR_0190', 'VAR_0191', 'VAR_0192', 'VAR_0193', 'VAR_0196', 'VAR_0197', 'VAR_0199', 'VAR_0202', 'VAR_0203', 'VAR_0207', 'VAR_0213', 'VAR_0214', 'VAR_0215', 'VAR_0216', 'VAR_0221', 'VAR_0222', 'VAR_0223', 'VAR_0229', 'VAR_0239', 'VAR_0840', 'VAR_0847', 'VAR_1428']\n"
     ]
    }
   ],
   "source": [
    "constant_features = feats_counts.loc[feats_counts==1].index.tolist()\n",
    "print (constant_features)\n",
    "\n",
    "\n",
    "traintest.drop(constant_features,axis = 1,inplace=True)"
   ]
  },
  {
   "cell_type": "markdown",
   "metadata": {},
   "source": [
    "## Remove duplicated features."
   ]
  },
  {
   "cell_type": "markdown",
   "metadata": {},
   "source": [
    "Fill the NAN values. Since our datasets are very large we need to do a piece-wise cleaning. Otherwise the kernel may die."
   ]
  },
  {
   "cell_type": "code",
   "execution_count": 14,
   "metadata": {},
   "outputs": [],
   "source": [
    "w = 100\n",
    "\n",
    "for i in range(int(set_size/w)):\n",
    "    train[i*w:(i+1)*w].fillna('NaN', inplace=True)\n",
    "    test[i*w:(i+1)*w].fillna('NaN', inplace=True)"
   ]
  },
  {
   "cell_type": "code",
   "execution_count": 16,
   "metadata": {},
   "outputs": [],
   "source": [
    "from tqdm import tqdm_notebook"
   ]
  },
  {
   "cell_type": "markdown",
   "metadata": {},
   "source": [
    "Now let's encode each feature"
   ]
  },
  {
   "cell_type": "code",
   "execution_count": 19,
   "metadata": {},
   "outputs": [
    {
     "data": {
      "application/vnd.jupyter.widget-view+json": {
       "model_id": "3caec9b386c84a5e903226345e2a42f1",
       "version_major": 2,
       "version_minor": 0
      },
      "text/plain": [
       "HBox(children=(IntProgress(value=0, max=1934), HTML(value='')))"
      ]
     },
     "metadata": {},
     "output_type": "display_data"
    },
    {
     "name": "stdout",
     "output_type": "stream",
     "text": [
      "\n"
     ]
    }
   ],
   "source": [
    "train_enc =  pd.DataFrame(index = train.index)\n",
    "\n",
    "for col in tqdm_notebook(traintest.columns):\n",
    "    train_enc[col] = train[col].factorize()[0]"
   ]
  },
  {
   "cell_type": "code",
   "execution_count": 20,
   "metadata": {},
   "outputs": [
    {
     "name": "stdout",
     "output_type": "stream",
     "text": [
      "(5000, 1934)\n",
      "(5000, 1933)\n"
     ]
    }
   ],
   "source": [
    "print(train.shape)\n",
    "print(test.shape)"
   ]
  },
  {
   "cell_type": "markdown",
   "metadata": {},
   "source": [
    "The resulting data frame is very very large, so we cannot just transpose it and use `.duplicated`. That is why we will use a simple loop. This step may take some time, have a coffe!"
   ]
  },
  {
   "cell_type": "code",
   "execution_count": 21,
   "metadata": {},
   "outputs": [
    {
     "data": {
      "application/vnd.jupyter.widget-view+json": {
       "model_id": "8f713cab322d4f64ba5306cfb2c40d2d",
       "version_major": 2,
       "version_minor": 0
      },
      "text/plain": [
       "HBox(children=(IntProgress(value=0, max=1934), HTML(value='')))"
      ]
     },
     "metadata": {},
     "output_type": "display_data"
    },
    {
     "name": "stdout",
     "output_type": "stream",
     "text": [
      "\n"
     ]
    }
   ],
   "source": [
    "dup_cols = {}\n",
    "\n",
    "for i, c1 in enumerate(tqdm_notebook(train_enc.columns)):\n",
    "    for c2 in train_enc.columns[i + 1:]:\n",
    "        if c2 not in dup_cols and np.all(train_enc[c1] == train_enc[c2]):\n",
    "            dup_cols[c2] = c1"
   ]
  },
  {
   "cell_type": "code",
   "execution_count": 22,
   "metadata": {},
   "outputs": [
    {
     "data": {
      "text/plain": [
       "{'VAR_0227': 'ID',\n",
       " 'VAR_0228': 'ID',\n",
       " 'VAR_0013': 'VAR_0006',\n",
       " 'VAR_0009': 'VAR_0008',\n",
       " 'VAR_0010': 'VAR_0008',\n",
       " 'VAR_0011': 'VAR_0008',\n",
       " 'VAR_0012': 'VAR_0008',\n",
       " 'VAR_0018': 'VAR_0008',\n",
       " 'VAR_0019': 'VAR_0008',\n",
       " 'VAR_0020': 'VAR_0008',\n",
       " 'VAR_0021': 'VAR_0008',\n",
       " 'VAR_0022': 'VAR_0008',\n",
       " 'VAR_0023': 'VAR_0008',\n",
       " 'VAR_0024': 'VAR_0008',\n",
       " 'VAR_0025': 'VAR_0008',\n",
       " 'VAR_0026': 'VAR_0008',\n",
       " 'VAR_0027': 'VAR_0008',\n",
       " 'VAR_0028': 'VAR_0008',\n",
       " 'VAR_0029': 'VAR_0008',\n",
       " 'VAR_0030': 'VAR_0008',\n",
       " 'VAR_0031': 'VAR_0008',\n",
       " 'VAR_0032': 'VAR_0008',\n",
       " 'VAR_0038': 'VAR_0008',\n",
       " 'VAR_0039': 'VAR_0008',\n",
       " 'VAR_0040': 'VAR_0008',\n",
       " 'VAR_0041': 'VAR_0008',\n",
       " 'VAR_0042': 'VAR_0008',\n",
       " 'VAR_0043': 'VAR_0008',\n",
       " 'VAR_0044': 'VAR_0008',\n",
       " 'VAR_0106': 'VAR_0008',\n",
       " 'VAR_0188': 'VAR_0008',\n",
       " 'VAR_0189': 'VAR_0008',\n",
       " 'VAR_0190': 'VAR_0008',\n",
       " 'VAR_0191': 'VAR_0008',\n",
       " 'VAR_0192': 'VAR_0008',\n",
       " 'VAR_0193': 'VAR_0008',\n",
       " 'VAR_0196': 'VAR_0008',\n",
       " 'VAR_0197': 'VAR_0008',\n",
       " 'VAR_0199': 'VAR_0008',\n",
       " 'VAR_0202': 'VAR_0008',\n",
       " 'VAR_0203': 'VAR_0008',\n",
       " 'VAR_0214': 'VAR_0008',\n",
       " 'VAR_0215': 'VAR_0008',\n",
       " 'VAR_0216': 'VAR_0008',\n",
       " 'VAR_0221': 'VAR_0008',\n",
       " 'VAR_0222': 'VAR_0008',\n",
       " 'VAR_0223': 'VAR_0008',\n",
       " 'VAR_0229': 'VAR_0008',\n",
       " 'VAR_0239': 'VAR_0008',\n",
       " 'VAR_0847': 'VAR_0008',\n",
       " 'VAR_1428': 'VAR_0008',\n",
       " 'VAR_0201': 'VAR_0051',\n",
       " 'VAR_0238': 'VAR_0089',\n",
       " 'VAR_0114': 'VAR_0098',\n",
       " 'VAR_0130': 'VAR_0098',\n",
       " 'VAR_0115': 'VAR_0099',\n",
       " 'VAR_0181': 'VAR_0180',\n",
       " 'VAR_0182': 'VAR_0180',\n",
       " 'VAR_0195': 'VAR_0194',\n",
       " 'VAR_0213': 'VAR_0207',\n",
       " 'VAR_0840': 'VAR_0207',\n",
       " 'VAR_0210': 'VAR_0208',\n",
       " 'VAR_0211': 'VAR_0208',\n",
       " 'VAR_0394': 'VAR_0246',\n",
       " 'VAR_0395': 'VAR_0246',\n",
       " 'VAR_0396': 'VAR_0246',\n",
       " 'VAR_0397': 'VAR_0246',\n",
       " 'VAR_0398': 'VAR_0246',\n",
       " 'VAR_0399': 'VAR_0246',\n",
       " 'VAR_0411': 'VAR_0246',\n",
       " 'VAR_0412': 'VAR_0246',\n",
       " 'VAR_0438': 'VAR_0246',\n",
       " 'VAR_0445': 'VAR_0246',\n",
       " 'VAR_0446': 'VAR_0246',\n",
       " 'VAR_0449': 'VAR_0246',\n",
       " 'VAR_0459': 'VAR_0246',\n",
       " 'VAR_0463': 'VAR_0246',\n",
       " 'VAR_0526': 'VAR_0246',\n",
       " 'VAR_0527': 'VAR_0246',\n",
       " 'VAR_0528': 'VAR_0246',\n",
       " 'VAR_0529': 'VAR_0246',\n",
       " 'VAR_0530': 'VAR_0246',\n",
       " 'VAR_0357': 'VAR_0260',\n",
       " 'VAR_0512': 'VAR_0506',\n",
       " 'VAR_0671': 'VAR_0669',\n",
       " 'VAR_0672': 'VAR_0670',\n",
       " 'VAR_1036': 'VAR_0916',\n",
       " 'VAR_1628': 'VAR_1620',\n",
       " 'VAR_1849': 'VAR_1844',\n",
       " 'VAR_1846': 'VAR_1845',\n",
       " 'VAR_1847': 'VAR_1845',\n",
       " 'VAR_1850': 'VAR_1845'}"
      ]
     },
     "execution_count": 22,
     "metadata": {},
     "output_type": "execute_result"
    }
   ],
   "source": [
    "dup_cols"
   ]
  },
  {
   "cell_type": "markdown",
   "metadata": {},
   "source": [
    "Don't forget to save them, as it takes long time to find these."
   ]
  },
  {
   "cell_type": "markdown",
   "metadata": {},
   "source": [
    "Drop from the dataset"
   ]
  },
  {
   "cell_type": "code",
   "execution_count": 25,
   "metadata": {},
   "outputs": [],
   "source": [
    "traintest.drop(dup_cols.keys(), axis = 1,inplace=True)"
   ]
  },
  {
   "cell_type": "markdown",
   "metadata": {},
   "source": [
    "## Determine types"
   ]
  },
  {
   "cell_type": "code",
   "execution_count": 26,
   "metadata": {},
   "outputs": [
    {
     "data": {
      "text/plain": [
       "ID          5000\n",
       "VAR_0001       3\n",
       "VAR_0002     456\n",
       "VAR_0003     385\n",
       "VAR_0004    1929\n",
       "            ... \n",
       "VAR_1931       9\n",
       "VAR_1932      17\n",
       "VAR_1933     154\n",
       "VAR_1934       5\n",
       "target         2\n",
       "Length: 1934, dtype: int64"
      ]
     },
     "execution_count": 26,
     "metadata": {},
     "output_type": "execute_result"
    }
   ],
   "source": [
    "nunique = train.nunique(dropna=False)\n",
    "nunique"
   ]
  },
  {
   "cell_type": "markdown",
   "metadata": {},
   "source": [
    "And build an histrogam of those values"
   ]
  },
  {
   "cell_type": "markdown",
   "metadata": {},
   "source": [
    "Let's take a looks at the features with a huge number of unique values:"
   ]
  },
  {
   "cell_type": "code",
   "execution_count": 28,
   "metadata": {},
   "outputs": [
    {
     "data": {
      "text/html": [
       "<div>\n",
       "<style scoped>\n",
       "    .dataframe tbody tr th:only-of-type {\n",
       "        vertical-align: middle;\n",
       "    }\n",
       "\n",
       "    .dataframe tbody tr th {\n",
       "        vertical-align: top;\n",
       "    }\n",
       "\n",
       "    .dataframe thead th {\n",
       "        text-align: right;\n",
       "    }\n",
       "</style>\n",
       "<table border=\"1\" class=\"dataframe\">\n",
       "  <thead>\n",
       "    <tr style=\"text-align: right;\">\n",
       "      <th></th>\n",
       "      <th>ID</th>\n",
       "      <th>VAR_0212</th>\n",
       "      <th>VAR_0227</th>\n",
       "      <th>VAR_0228</th>\n",
       "      <th>VAR_0541</th>\n",
       "      <th>VAR_0543</th>\n",
       "      <th>VAR_0704</th>\n",
       "      <th>VAR_0887</th>\n",
       "      <th>VAR_0899</th>\n",
       "      <th>VAR_1081</th>\n",
       "      <th>VAR_1082</th>\n",
       "      <th>VAR_1087</th>\n",
       "      <th>VAR_1179</th>\n",
       "      <th>VAR_1180</th>\n",
       "      <th>VAR_1181</th>\n",
       "      <th>VAR_1495</th>\n",
       "    </tr>\n",
       "  </thead>\n",
       "  <tbody>\n",
       "    <tr>\n",
       "      <td>0</td>\n",
       "      <td>2</td>\n",
       "      <td>NaN</td>\n",
       "      <td>311951.0</td>\n",
       "      <td>311951.0</td>\n",
       "      <td>49463</td>\n",
       "      <td>116783</td>\n",
       "      <td>25619</td>\n",
       "      <td>19214</td>\n",
       "      <td>112871</td>\n",
       "      <td>76857</td>\n",
       "      <td>76857</td>\n",
       "      <td>116783</td>\n",
       "      <td>76857</td>\n",
       "      <td>76857</td>\n",
       "      <td>76857</td>\n",
       "      <td>50000</td>\n",
       "    </tr>\n",
       "    <tr>\n",
       "      <td>1</td>\n",
       "      <td>4</td>\n",
       "      <td>9.207125e+10</td>\n",
       "      <td>2769488.0</td>\n",
       "      <td>2769488.0</td>\n",
       "      <td>303472</td>\n",
       "      <td>346196</td>\n",
       "      <td>28336</td>\n",
       "      <td>28336</td>\n",
       "      <td>346375</td>\n",
       "      <td>341365</td>\n",
       "      <td>341365</td>\n",
       "      <td>346196</td>\n",
       "      <td>341365</td>\n",
       "      <td>341365</td>\n",
       "      <td>176604</td>\n",
       "      <td>27542</td>\n",
       "    </tr>\n",
       "    <tr>\n",
       "      <td>2</td>\n",
       "      <td>5</td>\n",
       "      <td>2.654775e+10</td>\n",
       "      <td>654127.0</td>\n",
       "      <td>654127.0</td>\n",
       "      <td>94990</td>\n",
       "      <td>122601</td>\n",
       "      <td>35589</td>\n",
       "      <td>35589</td>\n",
       "      <td>121501</td>\n",
       "      <td>107267</td>\n",
       "      <td>107267</td>\n",
       "      <td>121501</td>\n",
       "      <td>107267</td>\n",
       "      <td>107267</td>\n",
       "      <td>58714</td>\n",
       "      <td>19238</td>\n",
       "    </tr>\n",
       "    <tr>\n",
       "      <td>3</td>\n",
       "      <td>7</td>\n",
       "      <td>7.757535e+10</td>\n",
       "      <td>3015088.0</td>\n",
       "      <td>3015088.0</td>\n",
       "      <td>20593</td>\n",
       "      <td>59490</td>\n",
       "      <td>5854</td>\n",
       "      <td>5204</td>\n",
       "      <td>61890</td>\n",
       "      <td>45794</td>\n",
       "      <td>47568</td>\n",
       "      <td>59490</td>\n",
       "      <td>45794</td>\n",
       "      <td>47568</td>\n",
       "      <td>47568</td>\n",
       "      <td>29182</td>\n",
       "    </tr>\n",
       "    <tr>\n",
       "      <td>4</td>\n",
       "      <td>8</td>\n",
       "      <td>6.042377e+10</td>\n",
       "      <td>118678.0</td>\n",
       "      <td>118678.0</td>\n",
       "      <td>10071</td>\n",
       "      <td>35708</td>\n",
       "      <td>2550</td>\n",
       "      <td>2266</td>\n",
       "      <td>34787</td>\n",
       "      <td>20475</td>\n",
       "      <td>23647</td>\n",
       "      <td>34708</td>\n",
       "      <td>20475</td>\n",
       "      <td>23647</td>\n",
       "      <td>23647</td>\n",
       "      <td>23932</td>\n",
       "    </tr>\n",
       "    <tr>\n",
       "      <td>...</td>\n",
       "      <td>...</td>\n",
       "      <td>...</td>\n",
       "      <td>...</td>\n",
       "      <td>...</td>\n",
       "      <td>...</td>\n",
       "      <td>...</td>\n",
       "      <td>...</td>\n",
       "      <td>...</td>\n",
       "      <td>...</td>\n",
       "      <td>...</td>\n",
       "      <td>...</td>\n",
       "      <td>...</td>\n",
       "      <td>...</td>\n",
       "      <td>...</td>\n",
       "      <td>...</td>\n",
       "      <td>...</td>\n",
       "    </tr>\n",
       "    <tr>\n",
       "      <td>4995</td>\n",
       "      <td>9725</td>\n",
       "      <td>3.202406e+10</td>\n",
       "      <td>2913739.0</td>\n",
       "      <td>2913739.0</td>\n",
       "      <td>50054</td>\n",
       "      <td>89996</td>\n",
       "      <td>16555</td>\n",
       "      <td>16555</td>\n",
       "      <td>92321</td>\n",
       "      <td>81099</td>\n",
       "      <td>81099</td>\n",
       "      <td>89996</td>\n",
       "      <td>81099</td>\n",
       "      <td>81099</td>\n",
       "      <td>42321</td>\n",
       "      <td>21348</td>\n",
       "    </tr>\n",
       "    <tr>\n",
       "      <td>4996</td>\n",
       "      <td>9730</td>\n",
       "      <td>NaN</td>\n",
       "      <td>1713017.0</td>\n",
       "      <td>1713017.0</td>\n",
       "      <td>227</td>\n",
       "      <td>1000</td>\n",
       "      <td>342</td>\n",
       "      <td>342</td>\n",
       "      <td>500</td>\n",
       "      <td>227</td>\n",
       "      <td>227</td>\n",
       "      <td>1000</td>\n",
       "      <td>227</td>\n",
       "      <td>227</td>\n",
       "      <td>227</td>\n",
       "      <td>2647</td>\n",
       "    </tr>\n",
       "    <tr>\n",
       "      <td>4997</td>\n",
       "      <td>9736</td>\n",
       "      <td>2.454042e+10</td>\n",
       "      <td>1564676.0</td>\n",
       "      <td>1564676.0</td>\n",
       "      <td>13943</td>\n",
       "      <td>15343</td>\n",
       "      <td>3844</td>\n",
       "      <td>3844</td>\n",
       "      <td>19193</td>\n",
       "      <td>14444</td>\n",
       "      <td>14959</td>\n",
       "      <td>15193</td>\n",
       "      <td>14444</td>\n",
       "      <td>14959</td>\n",
       "      <td>14959</td>\n",
       "      <td>13943</td>\n",
       "    </tr>\n",
       "    <tr>\n",
       "      <td>4998</td>\n",
       "      <td>9738</td>\n",
       "      <td>2.973045e+10</td>\n",
       "      <td>2400564.0</td>\n",
       "      <td>2400564.0</td>\n",
       "      <td>440</td>\n",
       "      <td>726</td>\n",
       "      <td>577</td>\n",
       "      <td>577</td>\n",
       "      <td>4290</td>\n",
       "      <td>505</td>\n",
       "      <td>505</td>\n",
       "      <td>726</td>\n",
       "      <td>505</td>\n",
       "      <td>505</td>\n",
       "      <td>505</td>\n",
       "      <td>440</td>\n",
       "    </tr>\n",
       "    <tr>\n",
       "      <td>4999</td>\n",
       "      <td>9740</td>\n",
       "      <td>NaN</td>\n",
       "      <td>2696291.0</td>\n",
       "      <td>2696291.0</td>\n",
       "      <td>8159</td>\n",
       "      <td>19077</td>\n",
       "      <td>1967</td>\n",
       "      <td>1788</td>\n",
       "      <td>29792</td>\n",
       "      <td>12106</td>\n",
       "      <td>12106</td>\n",
       "      <td>18777</td>\n",
       "      <td>12106</td>\n",
       "      <td>12106</td>\n",
       "      <td>12106</td>\n",
       "      <td>16000</td>\n",
       "    </tr>\n",
       "  </tbody>\n",
       "</table>\n",
       "<p>5000 rows × 16 columns</p>\n",
       "</div>"
      ],
      "text/plain": [
       "        ID      VAR_0212   VAR_0227   VAR_0228  VAR_0541  VAR_0543  VAR_0704  \\\n",
       "0        2           NaN   311951.0   311951.0     49463    116783     25619   \n",
       "1        4  9.207125e+10  2769488.0  2769488.0    303472    346196     28336   \n",
       "2        5  2.654775e+10   654127.0   654127.0     94990    122601     35589   \n",
       "3        7  7.757535e+10  3015088.0  3015088.0     20593     59490      5854   \n",
       "4        8  6.042377e+10   118678.0   118678.0     10071     35708      2550   \n",
       "...    ...           ...        ...        ...       ...       ...       ...   \n",
       "4995  9725  3.202406e+10  2913739.0  2913739.0     50054     89996     16555   \n",
       "4996  9730           NaN  1713017.0  1713017.0       227      1000       342   \n",
       "4997  9736  2.454042e+10  1564676.0  1564676.0     13943     15343      3844   \n",
       "4998  9738  2.973045e+10  2400564.0  2400564.0       440       726       577   \n",
       "4999  9740           NaN  2696291.0  2696291.0      8159     19077      1967   \n",
       "\n",
       "      VAR_0887  VAR_0899  VAR_1081  VAR_1082  VAR_1087  VAR_1179  VAR_1180  \\\n",
       "0        19214    112871     76857     76857    116783     76857     76857   \n",
       "1        28336    346375    341365    341365    346196    341365    341365   \n",
       "2        35589    121501    107267    107267    121501    107267    107267   \n",
       "3         5204     61890     45794     47568     59490     45794     47568   \n",
       "4         2266     34787     20475     23647     34708     20475     23647   \n",
       "...        ...       ...       ...       ...       ...       ...       ...   \n",
       "4995     16555     92321     81099     81099     89996     81099     81099   \n",
       "4996       342       500       227       227      1000       227       227   \n",
       "4997      3844     19193     14444     14959     15193     14444     14959   \n",
       "4998       577      4290       505       505       726       505       505   \n",
       "4999      1788     29792     12106     12106     18777     12106     12106   \n",
       "\n",
       "      VAR_1181  VAR_1495  \n",
       "0        76857     50000  \n",
       "1       176604     27542  \n",
       "2        58714     19238  \n",
       "3        47568     29182  \n",
       "4        23647     23932  \n",
       "...        ...       ...  \n",
       "4995     42321     21348  \n",
       "4996       227      2647  \n",
       "4997     14959     13943  \n",
       "4998       505       440  \n",
       "4999     12106     16000  \n",
       "\n",
       "[5000 rows x 16 columns]"
      ]
     },
     "execution_count": 28,
     "metadata": {},
     "output_type": "execute_result"
    }
   ],
   "source": [
    "mask = (nunique.astype(float)/train.shape[0] > 0.8)\n",
    "train.loc[:, mask]"
   ]
  },
  {
   "cell_type": "markdown",
   "metadata": {},
   "source": [
    "The values are not float, they are integer, so these features are likely to be even counts. Let's look at another pack of features."
   ]
  },
  {
   "cell_type": "code",
   "execution_count": 29,
   "metadata": {},
   "outputs": [
    {
     "data": {
      "text/html": [
       "<div>\n",
       "<style scoped>\n",
       "    .dataframe tbody tr th:only-of-type {\n",
       "        vertical-align: middle;\n",
       "    }\n",
       "\n",
       "    .dataframe tbody tr th {\n",
       "        vertical-align: top;\n",
       "    }\n",
       "\n",
       "    .dataframe thead th {\n",
       "        text-align: right;\n",
       "    }\n",
       "</style>\n",
       "<table border=\"1\" class=\"dataframe\">\n",
       "  <thead>\n",
       "    <tr style=\"text-align: right;\">\n",
       "      <th></th>\n",
       "      <th>VAR_0200</th>\n",
       "      <th>VAR_0241</th>\n",
       "      <th>VAR_0293</th>\n",
       "      <th>VAR_0313</th>\n",
       "      <th>VAR_0585</th>\n",
       "      <th>VAR_0609</th>\n",
       "      <th>VAR_0648</th>\n",
       "      <th>VAR_0649</th>\n",
       "      <th>VAR_0652</th>\n",
       "      <th>VAR_0705</th>\n",
       "      <th>...</th>\n",
       "      <th>VAR_1374</th>\n",
       "      <th>VAR_1489</th>\n",
       "      <th>VAR_1494</th>\n",
       "      <th>VAR_1496</th>\n",
       "      <th>VAR_1497</th>\n",
       "      <th>VAR_1801</th>\n",
       "      <th>VAR_1802</th>\n",
       "      <th>VAR_1809</th>\n",
       "      <th>VAR_1810</th>\n",
       "      <th>VAR_1859</th>\n",
       "    </tr>\n",
       "  </thead>\n",
       "  <tbody>\n",
       "    <tr>\n",
       "      <td>0</td>\n",
       "      <td>FT LAUDERDALE</td>\n",
       "      <td>33324.0</td>\n",
       "      <td>0.0</td>\n",
       "      <td>0.0</td>\n",
       "      <td>48233</td>\n",
       "      <td>73627</td>\n",
       "      <td>999999997</td>\n",
       "      <td>999999996</td>\n",
       "      <td>999999996</td>\n",
       "      <td>49463</td>\n",
       "      <td>...</td>\n",
       "      <td>39926</td>\n",
       "      <td>999999997</td>\n",
       "      <td>999999997</td>\n",
       "      <td>999999997</td>\n",
       "      <td>999999997</td>\n",
       "      <td>49463</td>\n",
       "      <td>49463</td>\n",
       "      <td>30537</td>\n",
       "      <td>30537</td>\n",
       "      <td>999999997</td>\n",
       "    </tr>\n",
       "    <tr>\n",
       "      <td>1</td>\n",
       "      <td>SANTEE</td>\n",
       "      <td>92071.0</td>\n",
       "      <td>163400.0</td>\n",
       "      <td>163400.0</td>\n",
       "      <td>2407</td>\n",
       "      <td>3502</td>\n",
       "      <td>26051</td>\n",
       "      <td>2805</td>\n",
       "      <td>2625</td>\n",
       "      <td>798</td>\n",
       "      <td>...</td>\n",
       "      <td>2847</td>\n",
       "      <td>32597</td>\n",
       "      <td>33667</td>\n",
       "      <td>27542</td>\n",
       "      <td>11222</td>\n",
       "      <td>5296</td>\n",
       "      <td>5296</td>\n",
       "      <td>2847</td>\n",
       "      <td>2847</td>\n",
       "      <td>2684</td>\n",
       "    </tr>\n",
       "    <tr>\n",
       "      <td>2</td>\n",
       "      <td>REEDSVILLE</td>\n",
       "      <td>26547.0</td>\n",
       "      <td>0.0</td>\n",
       "      <td>0.0</td>\n",
       "      <td>999999997</td>\n",
       "      <td>999999997</td>\n",
       "      <td>10161</td>\n",
       "      <td>2116</td>\n",
       "      <td>7071</td>\n",
       "      <td>-99999</td>\n",
       "      <td>...</td>\n",
       "      <td>999999997</td>\n",
       "      <td>12277</td>\n",
       "      <td>22523</td>\n",
       "      <td>15452</td>\n",
       "      <td>11262</td>\n",
       "      <td>999999997</td>\n",
       "      <td>999999997</td>\n",
       "      <td>999999997</td>\n",
       "      <td>999999997</td>\n",
       "      <td>999999997</td>\n",
       "    </tr>\n",
       "    <tr>\n",
       "      <td>3</td>\n",
       "      <td>LIBERTY</td>\n",
       "      <td>77575.0</td>\n",
       "      <td>0.0</td>\n",
       "      <td>0.0</td>\n",
       "      <td>236</td>\n",
       "      <td>1903</td>\n",
       "      <td>20593</td>\n",
       "      <td>18802</td>\n",
       "      <td>29182</td>\n",
       "      <td>183</td>\n",
       "      <td>...</td>\n",
       "      <td>14</td>\n",
       "      <td>45508</td>\n",
       "      <td>59190</td>\n",
       "      <td>29182</td>\n",
       "      <td>9865</td>\n",
       "      <td>286</td>\n",
       "      <td>2060</td>\n",
       "      <td>14</td>\n",
       "      <td>14</td>\n",
       "      <td>1774</td>\n",
       "    </tr>\n",
       "    <tr>\n",
       "      <td>4</td>\n",
       "      <td>FRANKFORT</td>\n",
       "      <td>60423.0</td>\n",
       "      <td>0.0</td>\n",
       "      <td>0.0</td>\n",
       "      <td>6183</td>\n",
       "      <td>6693</td>\n",
       "      <td>10071</td>\n",
       "      <td>10071</td>\n",
       "      <td>20947</td>\n",
       "      <td>1918</td>\n",
       "      <td>...</td>\n",
       "      <td>3357</td>\n",
       "      <td>10071</td>\n",
       "      <td>20947</td>\n",
       "      <td>20947</td>\n",
       "      <td>20947</td>\n",
       "      <td>10404</td>\n",
       "      <td>13576</td>\n",
       "      <td>3357</td>\n",
       "      <td>3357</td>\n",
       "      <td>568</td>\n",
       "    </tr>\n",
       "    <tr>\n",
       "      <td>5</td>\n",
       "      <td>SPRING</td>\n",
       "      <td>77379.0</td>\n",
       "      <td>127200.0</td>\n",
       "      <td>127200.0</td>\n",
       "      <td>412</td>\n",
       "      <td>412</td>\n",
       "      <td>18877</td>\n",
       "      <td>1025</td>\n",
       "      <td>4000</td>\n",
       "      <td>692</td>\n",
       "      <td>...</td>\n",
       "      <td>88</td>\n",
       "      <td>19902</td>\n",
       "      <td>26755</td>\n",
       "      <td>22755</td>\n",
       "      <td>13378</td>\n",
       "      <td>1237</td>\n",
       "      <td>1237</td>\n",
       "      <td>88</td>\n",
       "      <td>88</td>\n",
       "      <td>999999998</td>\n",
       "    </tr>\n",
       "    <tr>\n",
       "      <td>6</td>\n",
       "      <td>GRESHAM</td>\n",
       "      <td>97030.0</td>\n",
       "      <td>252970.0</td>\n",
       "      <td>252970.0</td>\n",
       "      <td>999999996</td>\n",
       "      <td>999999996</td>\n",
       "      <td>5818</td>\n",
       "      <td>5818</td>\n",
       "      <td>23665</td>\n",
       "      <td>116</td>\n",
       "      <td>...</td>\n",
       "      <td>157</td>\n",
       "      <td>5818</td>\n",
       "      <td>23665</td>\n",
       "      <td>23665</td>\n",
       "      <td>23665</td>\n",
       "      <td>143</td>\n",
       "      <td>143</td>\n",
       "      <td>157</td>\n",
       "      <td>157</td>\n",
       "      <td>999999997</td>\n",
       "    </tr>\n",
       "    <tr>\n",
       "      <td>7</td>\n",
       "      <td>WARNER ROBINS</td>\n",
       "      <td>31098.0</td>\n",
       "      <td>0.0</td>\n",
       "      <td>0.0</td>\n",
       "      <td>999999996</td>\n",
       "      <td>999999996</td>\n",
       "      <td>2961</td>\n",
       "      <td>1015</td>\n",
       "      <td>1544</td>\n",
       "      <td>219</td>\n",
       "      <td>...</td>\n",
       "      <td>150</td>\n",
       "      <td>3976</td>\n",
       "      <td>4681</td>\n",
       "      <td>3137</td>\n",
       "      <td>2341</td>\n",
       "      <td>350</td>\n",
       "      <td>350</td>\n",
       "      <td>150</td>\n",
       "      <td>150</td>\n",
       "      <td>1365</td>\n",
       "    </tr>\n",
       "    <tr>\n",
       "      <td>8</td>\n",
       "      <td>SAN ANTONIO</td>\n",
       "      <td>78212.0</td>\n",
       "      <td>68120.0</td>\n",
       "      <td>0.0</td>\n",
       "      <td>999999996</td>\n",
       "      <td>999999996</td>\n",
       "      <td>20359</td>\n",
       "      <td>820</td>\n",
       "      <td>3048</td>\n",
       "      <td>412</td>\n",
       "      <td>...</td>\n",
       "      <td>308</td>\n",
       "      <td>23389</td>\n",
       "      <td>28314</td>\n",
       "      <td>21942</td>\n",
       "      <td>5663</td>\n",
       "      <td>1580</td>\n",
       "      <td>3739</td>\n",
       "      <td>308</td>\n",
       "      <td>308</td>\n",
       "      <td>5209</td>\n",
       "    </tr>\n",
       "    <tr>\n",
       "      <td>9</td>\n",
       "      <td>NORRISTOWN</td>\n",
       "      <td>19401.0</td>\n",
       "      <td>0.0</td>\n",
       "      <td>0.0</td>\n",
       "      <td>362</td>\n",
       "      <td>1127</td>\n",
       "      <td>999999996</td>\n",
       "      <td>999999996</td>\n",
       "      <td>999999996</td>\n",
       "      <td>-99999</td>\n",
       "      <td>...</td>\n",
       "      <td>118</td>\n",
       "      <td>999999996</td>\n",
       "      <td>999999996</td>\n",
       "      <td>999999996</td>\n",
       "      <td>999999996</td>\n",
       "      <td>1197</td>\n",
       "      <td>1197</td>\n",
       "      <td>118</td>\n",
       "      <td>118</td>\n",
       "      <td>815</td>\n",
       "    </tr>\n",
       "    <tr>\n",
       "      <td>10</td>\n",
       "      <td>MURFREESBORO</td>\n",
       "      <td>37129.0</td>\n",
       "      <td>33850.0</td>\n",
       "      <td>33850.0</td>\n",
       "      <td>921</td>\n",
       "      <td>921</td>\n",
       "      <td>6088</td>\n",
       "      <td>6088</td>\n",
       "      <td>14233</td>\n",
       "      <td>504</td>\n",
       "      <td>...</td>\n",
       "      <td>11</td>\n",
       "      <td>6088</td>\n",
       "      <td>14233</td>\n",
       "      <td>14233</td>\n",
       "      <td>14233</td>\n",
       "      <td>989</td>\n",
       "      <td>989</td>\n",
       "      <td>11</td>\n",
       "      <td>11</td>\n",
       "      <td>999999998</td>\n",
       "    </tr>\n",
       "    <tr>\n",
       "      <td>11</td>\n",
       "      <td>CARTERSVILLE</td>\n",
       "      <td>30120.0</td>\n",
       "      <td>33080.0</td>\n",
       "      <td>0.0</td>\n",
       "      <td>999999996</td>\n",
       "      <td>139</td>\n",
       "      <td>999999997</td>\n",
       "      <td>999999996</td>\n",
       "      <td>999999996</td>\n",
       "      <td>-99999</td>\n",
       "      <td>...</td>\n",
       "      <td>136</td>\n",
       "      <td>999999997</td>\n",
       "      <td>999999997</td>\n",
       "      <td>999999997</td>\n",
       "      <td>999999997</td>\n",
       "      <td>621</td>\n",
       "      <td>621</td>\n",
       "      <td>136</td>\n",
       "      <td>111</td>\n",
       "      <td>621</td>\n",
       "    </tr>\n",
       "    <tr>\n",
       "      <td>12</td>\n",
       "      <td>BETHLEHEM</td>\n",
       "      <td>18018.0</td>\n",
       "      <td>30800.0</td>\n",
       "      <td>0.0</td>\n",
       "      <td>999999996</td>\n",
       "      <td>999999996</td>\n",
       "      <td>999999997</td>\n",
       "      <td>999999996</td>\n",
       "      <td>999999996</td>\n",
       "      <td>383</td>\n",
       "      <td>...</td>\n",
       "      <td>0</td>\n",
       "      <td>999999997</td>\n",
       "      <td>999999997</td>\n",
       "      <td>999999997</td>\n",
       "      <td>999999997</td>\n",
       "      <td>752</td>\n",
       "      <td>1158</td>\n",
       "      <td>0</td>\n",
       "      <td>0</td>\n",
       "      <td>369</td>\n",
       "    </tr>\n",
       "    <tr>\n",
       "      <td>13</td>\n",
       "      <td>GIG HARBOR</td>\n",
       "      <td>98335.0</td>\n",
       "      <td>813900.0</td>\n",
       "      <td>813900.0</td>\n",
       "      <td>3231</td>\n",
       "      <td>3231</td>\n",
       "      <td>14359</td>\n",
       "      <td>14359</td>\n",
       "      <td>44062</td>\n",
       "      <td>1663</td>\n",
       "      <td>...</td>\n",
       "      <td>153</td>\n",
       "      <td>14359</td>\n",
       "      <td>44062</td>\n",
       "      <td>44062</td>\n",
       "      <td>44062</td>\n",
       "      <td>3347</td>\n",
       "      <td>3347</td>\n",
       "      <td>153</td>\n",
       "      <td>153</td>\n",
       "      <td>0</td>\n",
       "    </tr>\n",
       "    <tr>\n",
       "      <td>14</td>\n",
       "      <td>BAKERSFIELD</td>\n",
       "      <td>93308.0</td>\n",
       "      <td>137497.0</td>\n",
       "      <td>0.0</td>\n",
       "      <td>3055</td>\n",
       "      <td>5752</td>\n",
       "      <td>14112</td>\n",
       "      <td>9006</td>\n",
       "      <td>36563</td>\n",
       "      <td>434</td>\n",
       "      <td>...</td>\n",
       "      <td>2462</td>\n",
       "      <td>23372</td>\n",
       "      <td>53915</td>\n",
       "      <td>36563</td>\n",
       "      <td>17972</td>\n",
       "      <td>7864</td>\n",
       "      <td>7864</td>\n",
       "      <td>2462</td>\n",
       "      <td>2462</td>\n",
       "      <td>3909</td>\n",
       "    </tr>\n",
       "    <tr>\n",
       "      <td>15</td>\n",
       "      <td>HERNDON</td>\n",
       "      <td>20171.0</td>\n",
       "      <td>0.0</td>\n",
       "      <td>0.0</td>\n",
       "      <td>999999996</td>\n",
       "      <td>999999996</td>\n",
       "      <td>10040</td>\n",
       "      <td>10040</td>\n",
       "      <td>11119</td>\n",
       "      <td>407</td>\n",
       "      <td>...</td>\n",
       "      <td>641</td>\n",
       "      <td>10040</td>\n",
       "      <td>11119</td>\n",
       "      <td>11119</td>\n",
       "      <td>11119</td>\n",
       "      <td>359</td>\n",
       "      <td>359</td>\n",
       "      <td>641</td>\n",
       "      <td>641</td>\n",
       "      <td>359</td>\n",
       "    </tr>\n",
       "    <tr>\n",
       "      <td>16</td>\n",
       "      <td>SHELBY GAP</td>\n",
       "      <td>41563.0</td>\n",
       "      <td>35000.0</td>\n",
       "      <td>0.0</td>\n",
       "      <td>999999996</td>\n",
       "      <td>999999996</td>\n",
       "      <td>4880</td>\n",
       "      <td>4880</td>\n",
       "      <td>5080</td>\n",
       "      <td>545</td>\n",
       "      <td>...</td>\n",
       "      <td>55</td>\n",
       "      <td>8620</td>\n",
       "      <td>9007</td>\n",
       "      <td>5080</td>\n",
       "      <td>4504</td>\n",
       "      <td>545</td>\n",
       "      <td>545</td>\n",
       "      <td>55</td>\n",
       "      <td>55</td>\n",
       "      <td>999999996</td>\n",
       "    </tr>\n",
       "    <tr>\n",
       "      <td>17</td>\n",
       "      <td>ONTARIO</td>\n",
       "      <td>91761.0</td>\n",
       "      <td>0.0</td>\n",
       "      <td>0.0</td>\n",
       "      <td>1061</td>\n",
       "      <td>3597</td>\n",
       "      <td>12900</td>\n",
       "      <td>6691</td>\n",
       "      <td>11615</td>\n",
       "      <td>1487</td>\n",
       "      <td>...</td>\n",
       "      <td>3189</td>\n",
       "      <td>21735</td>\n",
       "      <td>28040</td>\n",
       "      <td>14125</td>\n",
       "      <td>9347</td>\n",
       "      <td>4361</td>\n",
       "      <td>4361</td>\n",
       "      <td>3189</td>\n",
       "      <td>3189</td>\n",
       "      <td>2645</td>\n",
       "    </tr>\n",
       "    <tr>\n",
       "      <td>18</td>\n",
       "      <td>MEMPHIS</td>\n",
       "      <td>38134.0</td>\n",
       "      <td>36350.0</td>\n",
       "      <td>36350.0</td>\n",
       "      <td>788</td>\n",
       "      <td>6317</td>\n",
       "      <td>27457</td>\n",
       "      <td>27457</td>\n",
       "      <td>27888</td>\n",
       "      <td>278</td>\n",
       "      <td>...</td>\n",
       "      <td>29</td>\n",
       "      <td>31089</td>\n",
       "      <td>31680</td>\n",
       "      <td>27888</td>\n",
       "      <td>15840</td>\n",
       "      <td>888</td>\n",
       "      <td>6687</td>\n",
       "      <td>29</td>\n",
       "      <td>29</td>\n",
       "      <td>5799</td>\n",
       "    </tr>\n",
       "    <tr>\n",
       "      <td>19</td>\n",
       "      <td>BAKERSFIED</td>\n",
       "      <td>93304.0</td>\n",
       "      <td>46000.0</td>\n",
       "      <td>46000.0</td>\n",
       "      <td>3730</td>\n",
       "      <td>4173</td>\n",
       "      <td>13898</td>\n",
       "      <td>13898</td>\n",
       "      <td>18866</td>\n",
       "      <td>2971</td>\n",
       "      <td>...</td>\n",
       "      <td>513</td>\n",
       "      <td>13898</td>\n",
       "      <td>18866</td>\n",
       "      <td>18866</td>\n",
       "      <td>18866</td>\n",
       "      <td>6224</td>\n",
       "      <td>6224</td>\n",
       "      <td>514</td>\n",
       "      <td>514</td>\n",
       "      <td>2244</td>\n",
       "    </tr>\n",
       "    <tr>\n",
       "      <td>20</td>\n",
       "      <td>ALTAMONTE SPRINGS</td>\n",
       "      <td>32714.0</td>\n",
       "      <td>21536.0</td>\n",
       "      <td>21536.0</td>\n",
       "      <td>179</td>\n",
       "      <td>179</td>\n",
       "      <td>3524</td>\n",
       "      <td>3524</td>\n",
       "      <td>7233</td>\n",
       "      <td>244</td>\n",
       "      <td>...</td>\n",
       "      <td>521</td>\n",
       "      <td>3524</td>\n",
       "      <td>7233</td>\n",
       "      <td>7233</td>\n",
       "      <td>7233</td>\n",
       "      <td>2314</td>\n",
       "      <td>2314</td>\n",
       "      <td>521</td>\n",
       "      <td>521</td>\n",
       "      <td>0</td>\n",
       "    </tr>\n",
       "    <tr>\n",
       "      <td>21</td>\n",
       "      <td>BARNESVILLE</td>\n",
       "      <td>18214.0</td>\n",
       "      <td>57870.0</td>\n",
       "      <td>57870.0</td>\n",
       "      <td>8362</td>\n",
       "      <td>11494</td>\n",
       "      <td>129873</td>\n",
       "      <td>129873</td>\n",
       "      <td>143000</td>\n",
       "      <td>4276</td>\n",
       "      <td>...</td>\n",
       "      <td>6503</td>\n",
       "      <td>170922</td>\n",
       "      <td>185442</td>\n",
       "      <td>143000</td>\n",
       "      <td>92721</td>\n",
       "      <td>12127</td>\n",
       "      <td>12127</td>\n",
       "      <td>6503</td>\n",
       "      <td>6503</td>\n",
       "      <td>3530</td>\n",
       "    </tr>\n",
       "    <tr>\n",
       "      <td>22</td>\n",
       "      <td>HOUSTON</td>\n",
       "      <td>77015.0</td>\n",
       "      <td>85000.0</td>\n",
       "      <td>85000.0</td>\n",
       "      <td>481</td>\n",
       "      <td>1699</td>\n",
       "      <td>999999997</td>\n",
       "      <td>999999996</td>\n",
       "      <td>999999996</td>\n",
       "      <td>1392</td>\n",
       "      <td>...</td>\n",
       "      <td>5839</td>\n",
       "      <td>999999997</td>\n",
       "      <td>999999997</td>\n",
       "      <td>999999997</td>\n",
       "      <td>999999997</td>\n",
       "      <td>5565</td>\n",
       "      <td>5565</td>\n",
       "      <td>5839</td>\n",
       "      <td>5839</td>\n",
       "      <td>1368</td>\n",
       "    </tr>\n",
       "    <tr>\n",
       "      <td>23</td>\n",
       "      <td>PERU</td>\n",
       "      <td>46970.0</td>\n",
       "      <td>43500.0</td>\n",
       "      <td>101900.0</td>\n",
       "      <td>999999999</td>\n",
       "      <td>999999999</td>\n",
       "      <td>999999999</td>\n",
       "      <td>999999999</td>\n",
       "      <td>999999999</td>\n",
       "      <td>-99999</td>\n",
       "      <td>...</td>\n",
       "      <td>999999999</td>\n",
       "      <td>999999999</td>\n",
       "      <td>999999999</td>\n",
       "      <td>999999999</td>\n",
       "      <td>999999999</td>\n",
       "      <td>999999999</td>\n",
       "      <td>999999999</td>\n",
       "      <td>999999999</td>\n",
       "      <td>999999999</td>\n",
       "      <td>999999999</td>\n",
       "    </tr>\n",
       "    <tr>\n",
       "      <td>24</td>\n",
       "      <td>TACOMA</td>\n",
       "      <td>98444.0</td>\n",
       "      <td>0.0</td>\n",
       "      <td>0.0</td>\n",
       "      <td>999999998</td>\n",
       "      <td>999999996</td>\n",
       "      <td>1270</td>\n",
       "      <td>204</td>\n",
       "      <td>2248</td>\n",
       "      <td>949</td>\n",
       "      <td>...</td>\n",
       "      <td>334</td>\n",
       "      <td>1474</td>\n",
       "      <td>3605</td>\n",
       "      <td>2248</td>\n",
       "      <td>1803</td>\n",
       "      <td>1016</td>\n",
       "      <td>1016</td>\n",
       "      <td>334</td>\n",
       "      <td>334</td>\n",
       "      <td>1016</td>\n",
       "    </tr>\n",
       "    <tr>\n",
       "      <td>25</td>\n",
       "      <td>OZARK</td>\n",
       "      <td>65721.0</td>\n",
       "      <td>0.0</td>\n",
       "      <td>0.0</td>\n",
       "      <td>999999998</td>\n",
       "      <td>999999998</td>\n",
       "      <td>2015</td>\n",
       "      <td>2015</td>\n",
       "      <td>2458</td>\n",
       "      <td>-99999</td>\n",
       "      <td>...</td>\n",
       "      <td>999999998</td>\n",
       "      <td>2015</td>\n",
       "      <td>2458</td>\n",
       "      <td>2458</td>\n",
       "      <td>2458</td>\n",
       "      <td>999999998</td>\n",
       "      <td>999999998</td>\n",
       "      <td>999999998</td>\n",
       "      <td>999999998</td>\n",
       "      <td>999999998</td>\n",
       "    </tr>\n",
       "  </tbody>\n",
       "</table>\n",
       "<p>26 rows × 63 columns</p>\n",
       "</div>"
      ],
      "text/plain": [
       "             VAR_0200  VAR_0241  VAR_0293  VAR_0313   VAR_0585   VAR_0609  \\\n",
       "0       FT LAUDERDALE   33324.0       0.0       0.0      48233      73627   \n",
       "1              SANTEE   92071.0  163400.0  163400.0       2407       3502   \n",
       "2          REEDSVILLE   26547.0       0.0       0.0  999999997  999999997   \n",
       "3             LIBERTY   77575.0       0.0       0.0        236       1903   \n",
       "4           FRANKFORT   60423.0       0.0       0.0       6183       6693   \n",
       "5              SPRING   77379.0  127200.0  127200.0        412        412   \n",
       "6             GRESHAM   97030.0  252970.0  252970.0  999999996  999999996   \n",
       "7       WARNER ROBINS   31098.0       0.0       0.0  999999996  999999996   \n",
       "8         SAN ANTONIO   78212.0   68120.0       0.0  999999996  999999996   \n",
       "9          NORRISTOWN   19401.0       0.0       0.0        362       1127   \n",
       "10       MURFREESBORO   37129.0   33850.0   33850.0        921        921   \n",
       "11       CARTERSVILLE   30120.0   33080.0       0.0  999999996        139   \n",
       "12          BETHLEHEM   18018.0   30800.0       0.0  999999996  999999996   \n",
       "13         GIG HARBOR   98335.0  813900.0  813900.0       3231       3231   \n",
       "14        BAKERSFIELD   93308.0  137497.0       0.0       3055       5752   \n",
       "15            HERNDON   20171.0       0.0       0.0  999999996  999999996   \n",
       "16         SHELBY GAP   41563.0   35000.0       0.0  999999996  999999996   \n",
       "17            ONTARIO   91761.0       0.0       0.0       1061       3597   \n",
       "18            MEMPHIS   38134.0   36350.0   36350.0        788       6317   \n",
       "19         BAKERSFIED   93304.0   46000.0   46000.0       3730       4173   \n",
       "20  ALTAMONTE SPRINGS   32714.0   21536.0   21536.0        179        179   \n",
       "21        BARNESVILLE   18214.0   57870.0   57870.0       8362      11494   \n",
       "22            HOUSTON   77015.0   85000.0   85000.0        481       1699   \n",
       "23               PERU   46970.0   43500.0  101900.0  999999999  999999999   \n",
       "24             TACOMA   98444.0       0.0       0.0  999999998  999999996   \n",
       "25              OZARK   65721.0       0.0       0.0  999999998  999999998   \n",
       "\n",
       "     VAR_0648   VAR_0649   VAR_0652  VAR_0705  ...   VAR_1374   VAR_1489  \\\n",
       "0   999999997  999999996  999999996     49463  ...      39926  999999997   \n",
       "1       26051       2805       2625       798  ...       2847      32597   \n",
       "2       10161       2116       7071    -99999  ...  999999997      12277   \n",
       "3       20593      18802      29182       183  ...         14      45508   \n",
       "4       10071      10071      20947      1918  ...       3357      10071   \n",
       "5       18877       1025       4000       692  ...         88      19902   \n",
       "6        5818       5818      23665       116  ...        157       5818   \n",
       "7        2961       1015       1544       219  ...        150       3976   \n",
       "8       20359        820       3048       412  ...        308      23389   \n",
       "9   999999996  999999996  999999996    -99999  ...        118  999999996   \n",
       "10       6088       6088      14233       504  ...         11       6088   \n",
       "11  999999997  999999996  999999996    -99999  ...        136  999999997   \n",
       "12  999999997  999999996  999999996       383  ...          0  999999997   \n",
       "13      14359      14359      44062      1663  ...        153      14359   \n",
       "14      14112       9006      36563       434  ...       2462      23372   \n",
       "15      10040      10040      11119       407  ...        641      10040   \n",
       "16       4880       4880       5080       545  ...         55       8620   \n",
       "17      12900       6691      11615      1487  ...       3189      21735   \n",
       "18      27457      27457      27888       278  ...         29      31089   \n",
       "19      13898      13898      18866      2971  ...        513      13898   \n",
       "20       3524       3524       7233       244  ...        521       3524   \n",
       "21     129873     129873     143000      4276  ...       6503     170922   \n",
       "22  999999997  999999996  999999996      1392  ...       5839  999999997   \n",
       "23  999999999  999999999  999999999    -99999  ...  999999999  999999999   \n",
       "24       1270        204       2248       949  ...        334       1474   \n",
       "25       2015       2015       2458    -99999  ...  999999998       2015   \n",
       "\n",
       "     VAR_1494   VAR_1496   VAR_1497   VAR_1801   VAR_1802   VAR_1809  \\\n",
       "0   999999997  999999997  999999997      49463      49463      30537   \n",
       "1       33667      27542      11222       5296       5296       2847   \n",
       "2       22523      15452      11262  999999997  999999997  999999997   \n",
       "3       59190      29182       9865        286       2060         14   \n",
       "4       20947      20947      20947      10404      13576       3357   \n",
       "5       26755      22755      13378       1237       1237         88   \n",
       "6       23665      23665      23665        143        143        157   \n",
       "7        4681       3137       2341        350        350        150   \n",
       "8       28314      21942       5663       1580       3739        308   \n",
       "9   999999996  999999996  999999996       1197       1197        118   \n",
       "10      14233      14233      14233        989        989         11   \n",
       "11  999999997  999999997  999999997        621        621        136   \n",
       "12  999999997  999999997  999999997        752       1158          0   \n",
       "13      44062      44062      44062       3347       3347        153   \n",
       "14      53915      36563      17972       7864       7864       2462   \n",
       "15      11119      11119      11119        359        359        641   \n",
       "16       9007       5080       4504        545        545         55   \n",
       "17      28040      14125       9347       4361       4361       3189   \n",
       "18      31680      27888      15840        888       6687         29   \n",
       "19      18866      18866      18866       6224       6224        514   \n",
       "20       7233       7233       7233       2314       2314        521   \n",
       "21     185442     143000      92721      12127      12127       6503   \n",
       "22  999999997  999999997  999999997       5565       5565       5839   \n",
       "23  999999999  999999999  999999999  999999999  999999999  999999999   \n",
       "24       3605       2248       1803       1016       1016        334   \n",
       "25       2458       2458       2458  999999998  999999998  999999998   \n",
       "\n",
       "     VAR_1810   VAR_1859  \n",
       "0       30537  999999997  \n",
       "1        2847       2684  \n",
       "2   999999997  999999997  \n",
       "3          14       1774  \n",
       "4        3357        568  \n",
       "5          88  999999998  \n",
       "6         157  999999997  \n",
       "7         150       1365  \n",
       "8         308       5209  \n",
       "9         118        815  \n",
       "10         11  999999998  \n",
       "11        111        621  \n",
       "12          0        369  \n",
       "13        153          0  \n",
       "14       2462       3909  \n",
       "15        641        359  \n",
       "16         55  999999996  \n",
       "17       3189       2645  \n",
       "18         29       5799  \n",
       "19        514       2244  \n",
       "20        521          0  \n",
       "21       6503       3530  \n",
       "22       5839       1368  \n",
       "23  999999999  999999999  \n",
       "24        334       1016  \n",
       "25  999999998  999999998  \n",
       "\n",
       "[26 rows x 63 columns]"
      ]
     },
     "execution_count": 29,
     "metadata": {},
     "output_type": "execute_result"
    }
   ],
   "source": [
    "mask = (nunique.astype(float)/train.shape[0] < 0.8) & (nunique.astype(float)/train.shape[0] > 0.4)\n",
    "train.loc[:25, mask]"
   ]
  },
  {
   "cell_type": "markdown",
   "metadata": {},
   "source": [
    "These look like counts too. First thing to notice is the 23th line: 99999.., -99999 values look like NaNs so we should probably built a related feature. Second: the columns are sometimes placed next to each other, so the columns are probably grouped together and we can disentangle that.  \n",
    "Our conclusion: there are no floating point variables, there are some counts variables, which we will treat as numeric. \n",
    "\n",
    "And finally, let's pick one variable (in this case 'VAR_0015') from the third group of features."
   ]
  },
  {
   "cell_type": "code",
   "execution_count": 30,
   "metadata": {},
   "outputs": [
    {
     "data": {
      "text/plain": [
       "0.0     3595\n",
       "1.0      936\n",
       "2.0      294\n",
       "3.0       94\n",
       "4.0       38\n",
       "5.0       21\n",
       "6.0       12\n",
       "7.0        4\n",
       "8.0        2\n",
       "10.0       2\n",
       "14.0       1\n",
       "9.0        1\n",
       "Name: VAR_0015, dtype: int64"
      ]
     },
     "execution_count": 30,
     "metadata": {},
     "output_type": "execute_result"
    }
   ],
   "source": [
    "train['VAR_0015'].value_counts()"
   ]
  },
  {
   "cell_type": "code",
   "execution_count": 31,
   "metadata": {},
   "outputs": [],
   "source": [
    "cat_cols = list(train.select_dtypes(include=['object']).columns)\n",
    "num_cols = list(train.select_dtypes(exclude=['object']).columns)"
   ]
  },
  {
   "cell_type": "markdown",
   "metadata": {},
   "source": [
    "Replace Nan"
   ]
  },
  {
   "cell_type": "code",
   "execution_count": 33,
   "metadata": {},
   "outputs": [],
   "source": [
    "train.replace('NaN', -999, inplace=True)"
   ]
  },
  {
   "cell_type": "markdown",
   "metadata": {},
   "source": [
    "Let's calculate how many times one feature is greater than the other and create cross tabel out of it. "
   ]
  },
  {
   "cell_type": "code",
   "execution_count": 74,
   "metadata": {},
   "outputs": [],
   "source": [
    "feats = num_cols[:42]"
   ]
  },
  {
   "cell_type": "markdown",
   "metadata": {},
   "source": [
    "Indeed, we see interesting patterns here. There are blocks of features where one is strictly greater than the other. So we can hypothesize, that each column correspondes to cumulative counts, e.g. feature number one is counts in first month, second -- total count number in first two month and so on. So we immediately understand what features we should generate to make tree-based models more efficient: the differences between consecutive values."
   ]
  },
  {
   "cell_type": "markdown",
   "metadata": {},
   "source": [
    "# VAR_0002, VAR_0003"
   ]
  },
  {
   "cell_type": "code",
   "execution_count": 53,
   "metadata": {},
   "outputs": [
    {
     "data": {
      "text/plain": [
       "(array([1.152e+03, 8.430e+02, 3.940e+02, 5.610e+02, 3.610e+02, 2.280e+02,\n",
       "        2.720e+02, 2.560e+02, 1.300e+02, 1.160e+02, 1.110e+02, 6.000e+01,\n",
       "        7.700e+01, 4.400e+01, 3.400e+01, 5.100e+01, 1.900e+01, 2.100e+01,\n",
       "        3.700e+01, 2.700e+01, 1.800e+01, 2.100e+01, 2.000e+01, 1.500e+01,\n",
       "        2.200e+01, 2.000e+01, 5.000e+00, 4.000e+00, 5.000e+00, 3.000e+00,\n",
       "        6.000e+00, 9.000e+00, 2.000e+00, 0.000e+00, 2.000e+00, 3.000e+00,\n",
       "        1.000e+00, 1.000e+00, 1.000e+00, 0.000e+00, 0.000e+00, 1.000e+00,\n",
       "        0.000e+00, 0.000e+00, 0.000e+00, 0.000e+00, 0.000e+00, 0.000e+00,\n",
       "        0.000e+00, 4.700e+01]),\n",
       " array([  0.  ,  19.98,  39.96,  59.94,  79.92,  99.9 , 119.88, 139.86,\n",
       "        159.84, 179.82, 199.8 , 219.78, 239.76, 259.74, 279.72, 299.7 ,\n",
       "        319.68, 339.66, 359.64, 379.62, 399.6 , 419.58, 439.56, 459.54,\n",
       "        479.52, 499.5 , 519.48, 539.46, 559.44, 579.42, 599.4 , 619.38,\n",
       "        639.36, 659.34, 679.32, 699.3 , 719.28, 739.26, 759.24, 779.22,\n",
       "        799.2 , 819.18, 839.16, 859.14, 879.12, 899.1 , 919.08, 939.06,\n",
       "        959.04, 979.02, 999.  ]),\n",
       " <a list of 50 Patch objects>)"
      ]
     },
     "execution_count": 53,
     "metadata": {},
     "output_type": "execute_result"
    },
    {
     "data": {
      "image/png": "[encoded data removed]",
      "text/plain": [
       "<Figure size 432x288 with 1 Axes>"
      ]
     },
     "metadata": {
      "needs_background": "light"
     },
     "output_type": "display_data"
    }
   ],
   "source": [
    "plt.hist(train['VAR_0002'],bins=50)"
   ]
  },
  {
   "cell_type": "code",
   "execution_count": 54,
   "metadata": {},
   "outputs": [
    {
     "data": {
      "text/plain": [
       "(array([1.426e+03, 6.620e+02, 4.670e+02, 6.310e+02, 3.480e+02, 2.160e+02,\n",
       "        2.440e+02, 2.370e+02, 1.290e+02, 1.190e+02, 9.700e+01, 6.900e+01,\n",
       "        5.800e+01, 5.500e+01, 2.800e+01, 3.200e+01, 3.100e+01, 1.300e+01,\n",
       "        2.400e+01, 2.100e+01, 1.300e+01, 9.000e+00, 5.000e+00, 5.000e+00,\n",
       "        3.000e+00, 3.000e+00, 2.000e+00, 0.000e+00, 1.000e+00, 1.000e+00,\n",
       "        1.000e+00, 0.000e+00, 0.000e+00, 0.000e+00, 0.000e+00, 0.000e+00,\n",
       "        0.000e+00, 0.000e+00, 0.000e+00, 0.000e+00, 0.000e+00, 0.000e+00,\n",
       "        0.000e+00, 1.000e+00, 0.000e+00, 0.000e+00, 0.000e+00, 0.000e+00,\n",
       "        0.000e+00, 4.900e+01]),\n",
       " array([  0.  ,  19.98,  39.96,  59.94,  79.92,  99.9 , 119.88, 139.86,\n",
       "        159.84, 179.82, 199.8 , 219.78, 239.76, 259.74, 279.72, 299.7 ,\n",
       "        319.68, 339.66, 359.64, 379.62, 399.6 , 419.58, 439.56, 459.54,\n",
       "        479.52, 499.5 , 519.48, 539.46, 559.44, 579.42, 599.4 , 619.38,\n",
       "        639.36, 659.34, 679.32, 699.3 , 719.28, 739.26, 759.24, 779.22,\n",
       "        799.2 , 819.18, 839.16, 859.14, 879.12, 899.1 , 919.08, 939.06,\n",
       "        959.04, 979.02, 999.  ]),\n",
       " <a list of 50 Patch objects>)"
      ]
     },
     "execution_count": 54,
     "metadata": {},
     "output_type": "execute_result"
    },
    {
     "data": {
      "image/png": "[encoded data removed]",
      "text/plain": [
       "<Figure size 432x288 with 1 Axes>"
      ]
     },
     "metadata": {
      "needs_background": "light"
     },
     "output_type": "display_data"
    }
   ],
   "source": [
    "plt.hist(train['VAR_0003'],bins=50)"
   ]
  },
  {
   "cell_type": "code",
   "execution_count": 37,
   "metadata": {},
   "outputs": [
    {
     "data": {
      "text/plain": [
       "12     167\n",
       "24     157\n",
       "36     129\n",
       "13     103\n",
       "60     103\n",
       "      ... \n",
       "828      1\n",
       "760      1\n",
       "704      1\n",
       "684      1\n",
       "235      1\n",
       "Name: VAR_0002, Length: 456, dtype: int64"
      ]
     },
     "execution_count": 37,
     "metadata": {},
     "output_type": "execute_result"
    }
   ],
   "source": [
    "train['VAR_0002'].value_counts()"
   ]
  },
  {
   "cell_type": "code",
   "execution_count": 38,
   "metadata": {},
   "outputs": [
    {
     "data": {
      "text/plain": [
       "0      568\n",
       "24     118\n",
       "12     112\n",
       "60     112\n",
       "36      82\n",
       "      ... \n",
       "371      1\n",
       "385      1\n",
       "397      1\n",
       "603      1\n",
       "405      1\n",
       "Name: VAR_0003, Length: 385, dtype: int64"
      ]
     },
     "execution_count": 38,
     "metadata": {},
     "output_type": "execute_result"
    }
   ],
   "source": [
    "train['VAR_0003'].value_counts()"
   ]
  },
  {
   "cell_type": "markdown",
   "metadata": {},
   "source": [
    "We see there is something special about 12, 24 and so on, sowe can create another feature x mod 12. "
   ]
  },
  {
   "cell_type": "code",
   "execution_count": 76,
   "metadata": {},
   "outputs": [
    {
     "data": {
      "text/plain": [
       "(array([1065.,  230.,    0.,  301.,    0.,  240.,    0.,  870.,    0.,\n",
       "         224.,  304.,    0.,  227.,    0.,  822.,    0.,  198.,    0.,\n",
       "         304.,  215.]),\n",
       " array([ 0.  ,  0.55,  1.1 ,  1.65,  2.2 ,  2.75,  3.3 ,  3.85,  4.4 ,\n",
       "         4.95,  5.5 ,  6.05,  6.6 ,  7.15,  7.7 ,  8.25,  8.8 ,  9.35,\n",
       "         9.9 , 10.45, 11.  ]),\n",
       " <a list of 20 Patch objects>)"
      ]
     },
     "execution_count": 76,
     "metadata": {},
     "output_type": "execute_result"
    },
    {
     "data": {
      "image/png": "[encoded data removed]",
      "text/plain": [
       "<Figure size 432x288 with 1 Axes>"
      ]
     },
     "metadata": {
      "needs_background": "light"
     },
     "output_type": "display_data"
    }
   ],
   "source": [
    "train['VAR_0004_mod12'] = train['VAR_0004'] % 12\n",
    "\n",
    "plt.hist(train['VAR_0004_mod12'],bins=20)\n"
   ]
  },
  {
   "cell_type": "markdown",
   "metadata": {},
   "source": [
    "# VAR_0004"
   ]
  },
  {
   "cell_type": "code",
   "execution_count": 75,
   "metadata": {},
   "outputs": [
    {
     "data": {
      "text/plain": [
       "(array([2027.,   52.,   55.,   50.,   86.,   74.,   72.,   42.,   51.,\n",
       "          34.,   98.,   41.,   57.,   40.,   64.,   73.,   48.,   33.,\n",
       "          55.,   53.,  104.,   65.,   90.,   62.,   51.,   87.,   48.,\n",
       "          52.,   47.,   54.,  107.,   54.,   58.,   45.,   43.,   50.,\n",
       "          69.,   68.,   70.,   56.,  107.,   47.,   61.,   47.,   62.,\n",
       "          51.,   66.,   60.,   70.,   44.]),\n",
       " array([ 0.  ,  0.98,  1.96,  2.94,  3.92,  4.9 ,  5.88,  6.86,  7.84,\n",
       "         8.82,  9.8 , 10.78, 11.76, 12.74, 13.72, 14.7 , 15.68, 16.66,\n",
       "        17.64, 18.62, 19.6 , 20.58, 21.56, 22.54, 23.52, 24.5 , 25.48,\n",
       "        26.46, 27.44, 28.42, 29.4 , 30.38, 31.36, 32.34, 33.32, 34.3 ,\n",
       "        35.28, 36.26, 37.24, 38.22, 39.2 , 40.18, 41.16, 42.14, 43.12,\n",
       "        44.1 , 45.08, 46.06, 47.04, 48.02, 49.  ]),\n",
       " <a list of 50 Patch objects>)"
      ]
     },
     "execution_count": 75,
     "metadata": {},
     "output_type": "execute_result"
    },
    {
     "data": {
      "image/png": "[encoded data removed]",
      "text/plain": [
       "<Figure size 432x288 with 1 Axes>"
      ]
     },
     "metadata": {
      "needs_background": "light"
     },
     "output_type": "display_data"
    }
   ],
   "source": [
    "train['VAR_0004_mod50'] = train['VAR_0004'] % 50\n",
    "plt.hist(train['VAR_0004_mod50'],bins=50)"
   ]
  },
  {
   "cell_type": "markdown",
   "metadata": {},
   "source": [
    "## FURTHER DEVELOPMENTS:\n",
    "\n",
    "### Outliers\n",
    "\n",
    "If EDA is an art outlier handling is its natural partner. It is a very rich and difficult topic that every data science should be able to deal with. \n",
    "\n",
    "\n",
    "### Dataset Balancing\n",
    "\n",
    "Is  sampling purely random or are there oversampled classes/cluster? Another helpful manipulation could be dataset balancing eg with data augmentation. Understanding how a dataset is generated is crucial to set up a propre validation scheme.\n",
    "\n"
   ]
  },
  {
   "cell_type": "markdown",
   "metadata": {},
   "source": [
    "# References:\n",
    "\n",
    "\n",
    "https://medium.com/@rrfd/cleaning-and-prepping-data-with-python-for-data-science-best-practices-and-helpful-packages-af1edfbe2a3\n",
    "\n",
    "https://www.coursera.org/lecture/competitive-data-science/exploratory-data-analysis-zvOJc\n",
    "\n",
    "https://stackabuse.com/predicting-customer-ad-clicks-via-machine-learning/"
   ]
  },
  {
   "cell_type": "code",
   "execution_count": null,
   "metadata": {},
   "outputs": [],
   "source": []
  }
 ],
 "metadata": {
  "kernelspec": {
   "display_name": "Python 3",
   "language": "python",
   "name": "python3"
  },
  "language_info": {
   "codemirror_mode": {
    "name": "ipython",
    "version": 3
   },
   "file_extension": ".py",
   "mimetype": "text/x-python",
   "name": "python",
   "nbconvert_exporter": "python",
   "pygments_lexer": "ipython3",
   "version": "3.7.4"
  }
 },
 "nbformat": 4,
 "nbformat_minor": 2
}
